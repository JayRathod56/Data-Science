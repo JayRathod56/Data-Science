{
  "nbformat": 4,
  "nbformat_minor": 0,
  "metadata": {
    "colab": {
      "name": "Loss Function.ipynb",
      "provenance": [],
      "collapsed_sections": []
    },
    "kernelspec": {
      "name": "python3",
      "display_name": "Python 3"
    },
    "language_info": {
      "name": "python"
    }
  },
  "cells": [
    {
      "cell_type": "markdown",
      "source": [
        "##2. Mean Squared Logarithmic Error Loss\n",
        "Suppose we want to reduce the difference between the actual and predicted variable we can take the natural logarithm of the predicted variable then take the mean squared error.\n",
        "\n",
        "This will overcome the problem possessed by the Mean Square Error Method. The model will now penalize less in comparison to the earlier method."
      ],
      "metadata": {
        "id": "MteIE1XrIDCA"
      }
    },
    {
      "cell_type": "code",
      "execution_count": 6,
      "metadata": {
        "id": "RsQuAu-UiK1J"
      },
      "outputs": [],
      "source": [
        "from sklearn.datasets import make_regression #used to create regression sample dataset\n",
        "from sklearn.preprocessing import StandardScaler\n",
        "from keras.models import Sequential\n",
        "from sklearn.model_selection import train_test_split\n",
        "from keras.layers import Dense\n",
        "from tensorflow.keras.optimizers import SGD\n",
        "from matplotlib import pyplot"
      ]
    },
    {
      "cell_type": "code",
      "source": [
        "# generate regression dataset\n",
        "X, y = make_regression(n_samples=5000, n_features=20, noise=0.1, random_state=1)\n",
        "# standardize dataset\n",
        "X = StandardScaler().fit_transform(X)\n",
        "y = StandardScaler().fit_transform(y.reshape(len(y),1))[:, 0]\n",
        "# Spilt into train and test\n",
        "X_train, X_test, y_train, y_test = train_test_split(X, y, test_size=0.25, random_state=20)"
      ],
      "metadata": {
        "id": "wn3KfsnaENBK"
      },
      "execution_count": 7,
      "outputs": []
    },
    {
      "cell_type": "code",
      "source": [
        "#define model\n",
        "model1 = Sequential()\n",
        "model1.add(Dense(25, input_dim=20, activation='relu', kernel_initializer='he_uniform'))\n",
        "model1.add(Dense(1, activation='linear'))\n",
        "opt = SGD(lr=0.1, momentum=0.9)\n",
        "model1.compile(loss='mean_squared_error', optimizer=opt)"
      ],
      "metadata": {
        "colab": {
          "base_uri": "https://localhost:8080/"
        },
        "id": "5_hs1tFOF-iR",
        "outputId": "1d2e94d6-1b76-4d12-983c-52b10b5e50f3"
      },
      "execution_count": 11,
      "outputs": [
        {
          "output_type": "stream",
          "name": "stderr",
          "text": [
            "/usr/local/lib/python3.7/dist-packages/keras/optimizer_v2/gradient_descent.py:102: UserWarning: The `lr` argument is deprecated, use `learning_rate` instead.\n",
            "  super(SGD, self).__init__(name, **kwargs)\n"
          ]
        }
      ]
    },
    {
      "cell_type": "code",
      "source": [
        "#fit model\n",
        "history = model1.fit(X_train, y_train, validation_data=(X_test, y_test), epochs=50, verbose=2)"
      ],
      "metadata": {
        "colab": {
          "base_uri": "https://localhost:8080/"
        },
        "id": "ToiA-jYeGLwZ",
        "outputId": "c985f0d3-8851-41f3-819f-34a93abcdf37"
      },
      "execution_count": 14,
      "outputs": [
        {
          "output_type": "stream",
          "name": "stdout",
          "text": [
            "Epoch 1/50\n",
            "118/118 [==============================] - 0s 3ms/step - loss: 8.0376e-07 - val_loss: 3.4145e-07\n",
            "Epoch 2/50\n",
            "118/118 [==============================] - 0s 2ms/step - loss: 4.9932e-07 - val_loss: 4.9934e-07\n",
            "Epoch 3/50\n",
            "118/118 [==============================] - 0s 2ms/step - loss: 7.4571e-07 - val_loss: 5.1537e-07\n",
            "Epoch 4/50\n",
            "118/118 [==============================] - 0s 2ms/step - loss: 7.8269e-07 - val_loss: 5.3553e-07\n",
            "Epoch 5/50\n",
            "118/118 [==============================] - 0s 2ms/step - loss: 5.6694e-07 - val_loss: 6.2661e-07\n",
            "Epoch 6/50\n",
            "118/118 [==============================] - 0s 2ms/step - loss: 6.6783e-07 - val_loss: 9.0951e-07\n",
            "Epoch 7/50\n",
            "118/118 [==============================] - 0s 2ms/step - loss: 5.9683e-07 - val_loss: 6.4971e-07\n",
            "Epoch 8/50\n",
            "118/118 [==============================] - 0s 2ms/step - loss: 5.5552e-07 - val_loss: 1.7998e-06\n",
            "Epoch 9/50\n",
            "118/118 [==============================] - 0s 2ms/step - loss: 7.2824e-07 - val_loss: 6.0339e-07\n",
            "Epoch 10/50\n",
            "118/118 [==============================] - 0s 2ms/step - loss: 6.9394e-07 - val_loss: 7.2123e-07\n",
            "Epoch 11/50\n",
            "118/118 [==============================] - 0s 2ms/step - loss: 1.0529e-06 - val_loss: 1.0193e-06\n",
            "Epoch 12/50\n",
            "118/118 [==============================] - 0s 2ms/step - loss: 8.0203e-07 - val_loss: 7.4074e-07\n",
            "Epoch 13/50\n",
            "118/118 [==============================] - 0s 2ms/step - loss: 6.0683e-07 - val_loss: 1.1920e-06\n",
            "Epoch 14/50\n",
            "118/118 [==============================] - 0s 2ms/step - loss: 7.1424e-07 - val_loss: 3.8949e-07\n",
            "Epoch 15/50\n",
            "118/118 [==============================] - 1s 5ms/step - loss: 4.5251e-07 - val_loss: 5.6984e-07\n",
            "Epoch 16/50\n",
            "118/118 [==============================] - 0s 2ms/step - loss: 4.4579e-07 - val_loss: 4.2261e-07\n",
            "Epoch 17/50\n",
            "118/118 [==============================] - 0s 2ms/step - loss: 4.4814e-07 - val_loss: 4.9091e-07\n",
            "Epoch 18/50\n",
            "118/118 [==============================] - 0s 2ms/step - loss: 6.1423e-07 - val_loss: 1.0332e-06\n",
            "Epoch 19/50\n",
            "118/118 [==============================] - 0s 2ms/step - loss: 1.0748e-06 - val_loss: 1.0453e-06\n",
            "Epoch 20/50\n",
            "118/118 [==============================] - 0s 2ms/step - loss: 7.8605e-07 - val_loss: 1.0678e-06\n",
            "Epoch 21/50\n",
            "118/118 [==============================] - 0s 2ms/step - loss: 1.2901e-06 - val_loss: 2.8754e-06\n",
            "Epoch 22/50\n",
            "118/118 [==============================] - 0s 2ms/step - loss: 9.8107e-07 - val_loss: 1.2530e-06\n",
            "Epoch 23/50\n",
            "118/118 [==============================] - 0s 2ms/step - loss: 7.5987e-07 - val_loss: 4.3919e-07\n",
            "Epoch 24/50\n",
            "118/118 [==============================] - 0s 2ms/step - loss: 4.7814e-07 - val_loss: 6.7915e-07\n",
            "Epoch 25/50\n",
            "118/118 [==============================] - 0s 2ms/step - loss: 1.3949e-06 - val_loss: 4.3666e-06\n",
            "Epoch 26/50\n",
            "118/118 [==============================] - 0s 2ms/step - loss: 1.4250e-06 - val_loss: 7.4988e-07\n",
            "Epoch 27/50\n",
            "118/118 [==============================] - 0s 2ms/step - loss: 6.3128e-07 - val_loss: 4.7356e-07\n",
            "Epoch 28/50\n",
            "118/118 [==============================] - 0s 2ms/step - loss: 4.8729e-07 - val_loss: 8.9323e-07\n",
            "Epoch 29/50\n",
            "118/118 [==============================] - 0s 2ms/step - loss: 6.3132e-07 - val_loss: 5.4759e-07\n",
            "Epoch 30/50\n",
            "118/118 [==============================] - 0s 2ms/step - loss: 4.5818e-07 - val_loss: 6.8694e-07\n",
            "Epoch 31/50\n",
            "118/118 [==============================] - 0s 2ms/step - loss: 5.4466e-07 - val_loss: 3.3374e-07\n",
            "Epoch 32/50\n",
            "118/118 [==============================] - 0s 2ms/step - loss: 4.3757e-07 - val_loss: 4.0303e-07\n",
            "Epoch 33/50\n",
            "118/118 [==============================] - 0s 2ms/step - loss: 4.5452e-07 - val_loss: 4.0142e-07\n",
            "Epoch 34/50\n",
            "118/118 [==============================] - 0s 2ms/step - loss: 6.5039e-07 - val_loss: 8.5536e-07\n",
            "Epoch 35/50\n",
            "118/118 [==============================] - 0s 2ms/step - loss: 1.2008e-06 - val_loss: 5.1435e-07\n",
            "Epoch 36/50\n",
            "118/118 [==============================] - 0s 2ms/step - loss: 5.7164e-07 - val_loss: 9.8651e-07\n",
            "Epoch 37/50\n",
            "118/118 [==============================] - 0s 2ms/step - loss: 7.3510e-07 - val_loss: 5.0538e-07\n",
            "Epoch 38/50\n",
            "118/118 [==============================] - 0s 2ms/step - loss: 9.4456e-07 - val_loss: 5.5082e-07\n",
            "Epoch 39/50\n",
            "118/118 [==============================] - 0s 3ms/step - loss: 3.7643e-06 - val_loss: 5.0083e-06\n",
            "Epoch 40/50\n",
            "118/118 [==============================] - 1s 4ms/step - loss: 7.1371e-07 - val_loss: 5.1847e-07\n",
            "Epoch 41/50\n",
            "118/118 [==============================] - 1s 4ms/step - loss: 5.5115e-07 - val_loss: 5.4408e-07\n",
            "Epoch 42/50\n",
            "118/118 [==============================] - 0s 3ms/step - loss: 6.3258e-07 - val_loss: 3.0826e-06\n",
            "Epoch 43/50\n",
            "118/118 [==============================] - 0s 2ms/step - loss: 1.4356e-06 - val_loss: 4.5379e-07\n",
            "Epoch 44/50\n",
            "118/118 [==============================] - 0s 2ms/step - loss: 5.4763e-07 - val_loss: 6.3971e-07\n",
            "Epoch 45/50\n",
            "118/118 [==============================] - 0s 2ms/step - loss: 6.8338e-07 - val_loss: 9.3943e-07\n",
            "Epoch 46/50\n",
            "118/118 [==============================] - 0s 2ms/step - loss: 8.7467e-07 - val_loss: 1.1675e-06\n",
            "Epoch 47/50\n",
            "118/118 [==============================] - 0s 2ms/step - loss: 7.0552e-07 - val_loss: 9.3810e-07\n",
            "Epoch 48/50\n",
            "118/118 [==============================] - 0s 2ms/step - loss: 5.7201e-07 - val_loss: 7.0582e-07\n",
            "Epoch 49/50\n",
            "118/118 [==============================] - 0s 2ms/step - loss: 5.1342e-07 - val_loss: 4.7843e-07\n",
            "Epoch 50/50\n",
            "118/118 [==============================] - 0s 2ms/step - loss: 4.8398e-07 - val_loss: 8.1265e-07\n"
          ]
        }
      ]
    },
    {
      "cell_type": "code",
      "source": [
        "# evaluate the model\n",
        "train_mse = model1.evaluate(X_train, y_train, verbose=0)\n",
        "test_mse = model1.evaluate(X_test, y_test, verbose=0)\n",
        "print('Train: %.3f, Test: %.3f' % (train_mse, test_mse))"
      ],
      "metadata": {
        "colab": {
          "base_uri": "https://localhost:8080/"
        },
        "id": "AY4rlxZ3GsRa",
        "outputId": "4ac79e02-c7d4-4828-d408-f57cfc7a388c"
      },
      "execution_count": 17,
      "outputs": [
        {
          "output_type": "stream",
          "name": "stdout",
          "text": [
            "Train: 0.000, Test: 0.000\n"
          ]
        }
      ]
    },
    {
      "cell_type": "code",
      "source": [
        "#plot loss during training\n",
        "pyplot.title('Mean Squared Error')\n",
        "pyplot.plot(history.history['loss'], label='train')\n",
        "pyplot.plot(history.history['val_loss'], label='test')\n",
        "pyplot.legend()\n",
        "pyplot.show()"
      ],
      "metadata": {
        "colab": {
          "base_uri": "https://localhost:8080/",
          "height": 281
        },
        "id": "JFveiq5ZHNFK",
        "outputId": "c4b8d1ba-1713-410d-dc9c-7281325f4242"
      },
      "execution_count": 18,
      "outputs": [
        {
          "output_type": "display_data",
          "data": {
            "text/plain": [
              "<Figure size 432x288 with 1 Axes>"
            ],
            "image/png": "[encoded data removed]"
          },
          "metadata": {
            "needs_background": "light"
          }
        }
      ]
    }
  ]
}