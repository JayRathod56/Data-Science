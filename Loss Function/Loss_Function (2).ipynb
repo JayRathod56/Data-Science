{
  "cells": [
    {
      "cell_type": "markdown",
      "metadata": {
        "id": "MteIE1XrIDCA"
      },
      "source": [
        "##2. Mean Squared Logarithmic Error Loss\n",
        "Suppose we want to reduce the difference between the actual and predicted variable we can take the natural logarithm of the predicted variable then take the mean squared error.\n",
        "\n",
        "This will overcome the problem possessed by the Mean Square Error Method. The model will now penalize less in comparison to the earlier method."
      ]
    },
    {
      "cell_type": "code",
      "execution_count": 1,
      "metadata": {
        "id": "RsQuAu-UiK1J"
      },
      "outputs": [],
      "source": [
        "from sklearn.datasets import make_regression #used to create regression sample dataset\n",
        "from sklearn.preprocessing import StandardScaler\n",
        "from keras.models import Sequential\n",
        "from sklearn.model_selection import train_test_split\n",
        "from keras.layers import Dense\n",
        "from tensorflow.keras.optimizers import SGD\n",
        "from matplotlib import pyplot"
      ]
    },
    {
      "cell_type": "code",
      "execution_count": 3,
      "metadata": {
        "id": "wn3KfsnaENBK"
      },
      "outputs": [
        {
          "name": "stdout",
          "output_type": "stream",
          "text": [
            "(3750, 20) (1250, 20) (3750,) (1250,)\n"
          ]
        }
      ],
      "source": [
        "# generate regression dataset\n",
        "X, y = make_regression(n_samples=5000, n_features=20, noise=0.1, random_state=1)\n",
        "# standardize dataset\n",
        "X = StandardScaler().fit_transform(X)\n",
        "y = StandardScaler().fit_transform(y.reshape(len(y),1))[:, 0]\n",
        "# Spilt into train and test\n",
        "X_train, X_test, y_train, y_test = train_test_split(X, y, test_size=0.25, random_state=20)\n",
        "print(X_train.shape, X_test.shape, y_train.shape, y_test.shape)"
      ]
    },
    {
      "cell_type": "code",
      "execution_count": 17,
      "metadata": {
        "colab": {
          "base_uri": "https://localhost:8080/"
        },
        "id": "5_hs1tFOF-iR",
        "outputId": "c2b52449-0cf4-49e2-c898-4d364e639f2f"
      },
      "outputs": [
        {
          "name": "stderr",
          "output_type": "stream",
          "text": [
            "/usr/local/lib/python3.7/dist-packages/keras/optimizer_v2/gradient_descent.py:102: UserWarning: The `lr` argument is deprecated, use `learning_rate` instead.\n",
            "  super(SGD, self).__init__(name, **kwargs)\n"
          ]
        }
      ],
      "source": [
        "#define model\n",
        "model1 = Sequential()\n",
        "model1.add(Dense(25, input_dim=20, activation='relu', kernel_initializer='he_uniform'))\n",
        "model1.add(Dense(1, activation='linear'))\n",
        "opt = SGD(lr=0.1, momentum=0.9)\n",
        "model1.compile(loss='mean_squared_error', optimizer=opt)"
      ]
    },
    {
      "cell_type": "code",
      "execution_count": 18,
      "metadata": {
        "id": "ToiA-jYeGLwZ"
      },
      "outputs": [],
      "source": [
        "#fit model\n",
        "history = model1.fit(X_train, y_train, validation_data=(X_test, y_test), epochs=50, verbose=0)"
      ]
    },
    {
      "cell_type": "code",
      "execution_count": 19,
      "metadata": {
        "colab": {
          "base_uri": "https://localhost:8080/"
        },
        "id": "AY4rlxZ3GsRa",
        "outputId": "b2237329-0659-452e-c8d3-0847d59c4256"
      },
      "outputs": [
        {
          "name": "stdout",
          "output_type": "stream",
          "text": [
            "Train: 0.000, Test: 0.000\n"
          ]
        }
      ],
      "source": [
        "# evaluate the model\n",
        "train_mse = model1.evaluate(X_train, y_train, verbose=0)\n",
        "test_mse = model1.evaluate(X_test, y_test, verbose=0)\n",
        "print('Train: %.3f, Test: %.3f' % (train_mse, test_mse))"
      ]
    },
    {
      "cell_type": "code",
      "execution_count": 20,
      "metadata": {
        "colab": {
          "base_uri": "https://localhost:8080/",
          "height": 281
        },
        "id": "JFveiq5ZHNFK",
        "outputId": "24cf82c7-45a4-4647-c219-d9c60d62912a"
      },
      "outputs": [
        {
          "data": {
            "image/png": "[encoded data removed]",
            "text/plain": [
              "<Figure size 432x288 with 1 Axes>"
            ]
          },
          "metadata": {
            "needs_background": "light"
          },
          "output_type": "display_data"
        }
      ],
      "source": [
        "#plot loss during training\n",
        "pyplot.title('Mean Squared Error')\n",
        "pyplot.plot(history.history['loss'], label='train')\n",
        "pyplot.plot(history.history['val_loss'], label='test')\n",
        "pyplot.legend()\n",
        "pyplot.show()"
      ]
    },
    {
      "cell_type": "code",
      "execution_count": 22,
      "metadata": {
        "colab": {
          "base_uri": "https://localhost:8080/",
          "height": 317
        },
        "id": "8qFsc2ZG9mlL",
        "outputId": "358b5e29-b131-4685-d7d9-0fa50b8ef69a"
      },
      "outputs": [
        {
          "name": "stderr",
          "output_type": "stream",
          "text": [
            "/usr/local/lib/python3.7/dist-packages/keras/optimizer_v2/gradient_descent.py:102: UserWarning: The `lr` argument is deprecated, use `learning_rate` instead.\n",
            "  super(SGD, self).__init__(name, **kwargs)\n"
          ]
        },
        {
          "data": {
            "image/png": "[encoded data removed]",
            "text/plain": [
              "<Figure size 432x288 with 1 Axes>"
            ]
          },
          "metadata": {
            "needs_background": "light"
          },
          "output_type": "display_data"
        }
      ],
      "source": [
        "#define model\n",
        "model2 = Sequential()\n",
        "model2.add(Dense(25, input_dim=20, activation='relu', kernel_initializer='he_uniform'))\n",
        "model2.add(Dense(1, activation='linear'))\n",
        "opt = SGD(lr=0.01, momentum=0.9)\n",
        "model2.compile(loss='mean_squared_logarithmic_error', optimizer=opt, metrics=['mse'])\n",
        "#fit model\n",
        "history = model2.fit(X_train, y_train, validation_data=(X_test, y_test), epochs=50, verbose=0)\n",
        "#evaluate the model \n",
        "train_mse = model2.evaluate(X_train, y_train, verbose=0)\n",
        "train_mse = model2.evaluate(X_test, y_test, verbose = 0)\n",
        "# plot loss during training\n",
        "pyplot.title('Mean Squared Logarithmic Error Loss')\n",
        "pyplot.plot(history.history['loss'], label='train')\n",
        "pyplot.plot(history.history['val_loss'], label='test')\n",
        "pyplot.legend()\n",
        "pyplot.show()"
      ]
    },
    {
      "cell_type": "code",
      "execution_count": 34,
      "metadata": {
        "colab": {
          "base_uri": "https://localhost:8080/",
          "height": 317
        },
        "id": "wbAP-pYjFwGy",
        "outputId": "4d2d7827-827c-4009-b556-42c888eaab1e"
      },
      "outputs": [
        {
          "name": "stderr",
          "output_type": "stream",
          "text": [
            "/usr/local/lib/python3.7/dist-packages/keras/optimizer_v2/gradient_descent.py:102: UserWarning: The `lr` argument is deprecated, use `learning_rate` instead.\n",
            "  super(SGD, self).__init__(name, **kwargs)\n"
          ]
        },
        {
          "data": {
            "image/png": "[encoded data removed]",
            "text/plain": [
              "<Figure size 432x288 with 1 Axes>"
            ]
          },
          "metadata": {
            "needs_background": "light"
          },
          "output_type": "display_data"
        }
      ],
      "source": [
        "from sklearn.datasets import make_regression\n",
        "from sklearn.preprocessing import StandardScaler\n",
        "from keras.models import Sequential\n",
        "from keras.layers import Dense\n",
        "from tensorflow.keras.optimizers import SGD\n",
        "from matplotlib import pyplot\n",
        "\n",
        "X, y = make_regression(n_samples=5000, n_features=20, noise=0.1, random_state=1)\n",
        "# standardize dataset\n",
        "X = StandardScaler().fit_transform(X)\n",
        "y = StandardScaler().fit_transform(y.reshape(len(y),1))[:,0]\n",
        "# split into train and test\n",
        "n_train = 2500\n",
        "trainX, testX = X[:n_train, :], X[n_train:, :]\n",
        "trainy, testy = y[:n_train], y[n_train:]\n",
        "# define model\n",
        "model = Sequential()\n",
        "model.add(Dense(25, input_dim=20, activation='relu', kernel_initializer='he_uniform'))\n",
        "model.add(Dense(1, activation='linear'))\n",
        "opt = SGD(lr=0.01, momentum=0.9)\n",
        "model.compile(loss='mean_absolute_error', optimizer=opt, metrics=['mse'])\n",
        "\n",
        "# fit model\n",
        "history = model.fit(trainX, trainy, validation_data=(testX, testy), epochs=50, verbose=0)\n",
        "# evaluate the model\n",
        "_, train_mse = model.evaluate(trainX, trainy, verbose=0)\n",
        "_, test_mse = model.evaluate(testX, testy, verbose=0)\n",
        "\n",
        "# plot loss during training\n",
        "pyplot.title('Absolute Loss')\n",
        "pyplot.plot(history.history['loss'], label='train')\n",
        "pyplot.plot(history.history['val_loss'], label='test')\n",
        "pyplot.legend()\n",
        "pyplot.show()"
      ]
    },
    {
      "cell_type": "markdown",
      "metadata": {
        "id": "Sg_AOvBy9EfT"
      },
      "source": [
        "Binary Classification Loss Function\n",
        "Suppose we are dealing with a Yes/no situation in this kind of scenario Binary Classifiction Loss Functin is used\n",
        "\n",
        "1. Binary Cross Entropy Loss\n",
        "It gives the probablity values between 0 and 1 for a classification tast\n",
        "\n",
        "Cross-Entropy calcualtes the average difference between the predicted and actual probalities"
      ]
    },
    {
      "cell_type": "code",
      "execution_count": 7,
      "metadata": {
        "id": "f-mGGFTwv8pj"
      },
      "outputs": [],
      "source": [
        "from sklearn.datasets import make_circles\n",
        "from tensorflow.keras.optimizers import SGD\n",
        "from sklearn.model_selection import train_test_split\n",
        "#generate 2d classification dataset\n",
        "X, y = make_circles(n_samples=5000, noise=0.1, random_state=1)\n",
        "#split into train and test\n",
        "X_train, X_test, y_train, y_test = train_test_split(X, y, test_size=0.25, random_state=20)"
      ]
    },
    {
      "cell_type": "code",
      "execution_count": null,
      "metadata": {
        "id": "Yi2hT7zewlXc"
      },
      "outputs": [],
      "source": [
        "#define model\n",
        "model3 = Sequential()\n",
        "model3.add(Dense(50, input_dim=2, activation='relu', kernel_initializer='he_uniform'))\n",
        "model3.add(Dense(1, activation='sigmoid'))\n",
        "opt = SGD(lr=0.01, momentum=0.9)\n",
        "model3.compile(loss='binary_crossentropy', optimizer=opt, metrics=['accuracy'])\n",
        "#fit model\n",
        "history = model3.fit(X_train, y_train, validation_data=(X_test, y_test), epochs=50, verbose=0)\n",
        "#evaluate the model\n",
        "train_acc = model3.evaluate(X_train, y_train, verbose=0) #returns list of two values i.e loss and accuracy\n",
        "test_acc = model3.evaluate(X_test, y_test, verbose=0)"
      ]
    },
    {
      "cell_type": "code",
      "execution_count": 9,
      "metadata": {
        "colab": {
          "base_uri": "https://localhost:8080/",
          "height": 317
        },
        "id": "NeRUsKj1yH6z",
        "outputId": "7326f0a3-9303-4802-c19a-4f5054c30e5f"
      },
      "outputs": [
        {
          "name": "stderr",
          "output_type": "stream",
          "text": [
            "/usr/local/lib/python3.7/dist-packages/keras/optimizer_v2/gradient_descent.py:102: UserWarning: The `lr` argument is deprecated, use `learning_rate` instead.\n",
            "  super(SGD, self).__init__(name, **kwargs)\n"
          ]
        },
        {
          "data": {
            "image/png": "[encoded data removed]",
            "text/plain": [
              "<Figure size 432x288 with 1 Axes>"
            ]
          },
          "metadata": {
            "needs_background": "light"
          },
          "output_type": "display_data"
        }
      ],
      "source": [
        "#Hinge loss\n",
        "model4 = Sequential()\n",
        "model4.add(Dense(50, input_dim=2, activation='relu', kernel_initializer='he_uniform'))\n",
        "model4.add(Dense(1, activation='tanh'))\n",
        "opt = SGD(lr=0.01, momentum=0.9)\n",
        "model4.compile(loss='hinge', optimizer=opt, metrics=['accuracy'])\n",
        "# fit model\n",
        "history = model4.fit(X_train, y_train, validation_data=(X_test, y_test), epochs=50, verbose=0)\n",
        "# evaluate the model\n",
        "train_acc = model4.evaluate(X_train, y_train, verbose=0)\n",
        "test_acc = model4.evaluate(X_test, y_test, verbose=0)\n",
        "# plot loss during training\n",
        "pyplot.title('Hinge Loss')\n",
        "pyplot.plot(history.history['loss'], label='train')\n",
        "pyplot.plot(history.history['val_loss'], label='test')\n",
        "pyplot.legend()\n",
        "pyplot.show()"
      ]
    },
    {
      "cell_type": "code",
      "execution_count": 12,
      "metadata": {
        "colab": {
          "base_uri": "https://localhost:8080/",
          "height": 1000
        },
        "id": "-KJg3PlY0fQE",
        "outputId": "dfc4de33-58a4-40e4-8ede-9f106135c690"
      },
      "outputs": [
        {
          "name": "stdout",
          "output_type": "stream",
          "text": [
            "Epoch 1/50\n"
          ]
        },
        {
          "name": "stderr",
          "output_type": "stream",
          "text": [
            "/usr/local/lib/python3.7/dist-packages/keras/optimizer_v2/gradient_descent.py:102: UserWarning: The `lr` argument is deprecated, use `learning_rate` instead.\n",
            "  super(SGD, self).__init__(name, **kwargs)\n"
          ]
        },
        {
          "name": "stdout",
          "output_type": "stream",
          "text": [
            "110/110 - 1s - loss: 1.1019 - accuracy: 0.6677 - val_loss: 0.9279 - val_accuracy: 0.5273 - 751ms/epoch - 7ms/step\n",
            "Epoch 2/50\n",
            "110/110 - 0s - loss: 0.5780 - accuracy: 0.7600 - val_loss: 0.4810 - val_accuracy: 0.7940 - 204ms/epoch - 2ms/step\n",
            "Epoch 3/50\n",
            "110/110 - 0s - loss: 0.4590 - accuracy: 0.8086 - val_loss: 0.4674 - val_accuracy: 0.7873 - 218ms/epoch - 2ms/step\n",
            "Epoch 4/50\n",
            "110/110 - 0s - loss: 0.4528 - accuracy: 0.8091 - val_loss: 0.4263 - val_accuracy: 0.8073 - 223ms/epoch - 2ms/step\n",
            "Epoch 5/50\n",
            "110/110 - 0s - loss: 0.4240 - accuracy: 0.8189 - val_loss: 0.4400 - val_accuracy: 0.8000 - 206ms/epoch - 2ms/step\n",
            "Epoch 6/50\n",
            "110/110 - 0s - loss: 0.4142 - accuracy: 0.8194 - val_loss: 0.4572 - val_accuracy: 0.7913 - 215ms/epoch - 2ms/step\n",
            "Epoch 7/50\n",
            "110/110 - 0s - loss: 0.4199 - accuracy: 0.8197 - val_loss: 0.4459 - val_accuracy: 0.8040 - 235ms/epoch - 2ms/step\n",
            "Epoch 8/50\n",
            "110/110 - 0s - loss: 0.4146 - accuracy: 0.8197 - val_loss: 0.4308 - val_accuracy: 0.8040 - 225ms/epoch - 2ms/step\n",
            "Epoch 9/50\n",
            "110/110 - 0s - loss: 0.4032 - accuracy: 0.8211 - val_loss: 0.4423 - val_accuracy: 0.8027 - 215ms/epoch - 2ms/step\n",
            "Epoch 10/50\n",
            "110/110 - 0s - loss: 0.4136 - accuracy: 0.8223 - val_loss: 0.4229 - val_accuracy: 0.8087 - 212ms/epoch - 2ms/step\n",
            "Epoch 11/50\n",
            "110/110 - 0s - loss: 0.4109 - accuracy: 0.8223 - val_loss: 0.4745 - val_accuracy: 0.7960 - 209ms/epoch - 2ms/step\n",
            "Epoch 12/50\n",
            "110/110 - 0s - loss: 0.4096 - accuracy: 0.8203 - val_loss: 0.4386 - val_accuracy: 0.8060 - 203ms/epoch - 2ms/step\n",
            "Epoch 13/50\n",
            "110/110 - 0s - loss: 0.4120 - accuracy: 0.8226 - val_loss: 0.4607 - val_accuracy: 0.7920 - 212ms/epoch - 2ms/step\n",
            "Epoch 14/50\n",
            "110/110 - 0s - loss: 0.3984 - accuracy: 0.8271 - val_loss: 0.4195 - val_accuracy: 0.8120 - 209ms/epoch - 2ms/step\n",
            "Epoch 15/50\n",
            "110/110 - 0s - loss: 0.4223 - accuracy: 0.8177 - val_loss: 0.4620 - val_accuracy: 0.8067 - 219ms/epoch - 2ms/step\n",
            "Epoch 16/50\n",
            "110/110 - 0s - loss: 0.4036 - accuracy: 0.8254 - val_loss: 0.4216 - val_accuracy: 0.8093 - 210ms/epoch - 2ms/step\n",
            "Epoch 17/50\n",
            "110/110 - 0s - loss: 0.3969 - accuracy: 0.8309 - val_loss: 0.4368 - val_accuracy: 0.8047 - 223ms/epoch - 2ms/step\n",
            "Epoch 18/50\n",
            "110/110 - 0s - loss: 0.3998 - accuracy: 0.8286 - val_loss: 0.4230 - val_accuracy: 0.8093 - 219ms/epoch - 2ms/step\n",
            "Epoch 19/50\n",
            "110/110 - 0s - loss: 0.4040 - accuracy: 0.8237 - val_loss: 0.4222 - val_accuracy: 0.8120 - 218ms/epoch - 2ms/step\n",
            "Epoch 20/50\n",
            "110/110 - 0s - loss: 0.3967 - accuracy: 0.8260 - val_loss: 0.4571 - val_accuracy: 0.8020 - 211ms/epoch - 2ms/step\n",
            "Epoch 21/50\n",
            "110/110 - 0s - loss: 0.4018 - accuracy: 0.8209 - val_loss: 0.4293 - val_accuracy: 0.8033 - 211ms/epoch - 2ms/step\n",
            "Epoch 22/50\n",
            "110/110 - 0s - loss: 0.3995 - accuracy: 0.8223 - val_loss: 0.4303 - val_accuracy: 0.8047 - 231ms/epoch - 2ms/step\n",
            "Epoch 23/50\n",
            "110/110 - 0s - loss: 0.3959 - accuracy: 0.8300 - val_loss: 0.4547 - val_accuracy: 0.8047 - 213ms/epoch - 2ms/step\n",
            "Epoch 24/50\n",
            "110/110 - 0s - loss: 0.4015 - accuracy: 0.8240 - val_loss: 0.4212 - val_accuracy: 0.8100 - 214ms/epoch - 2ms/step\n",
            "Epoch 25/50\n",
            "110/110 - 0s - loss: 0.3963 - accuracy: 0.8280 - val_loss: 0.4376 - val_accuracy: 0.8040 - 224ms/epoch - 2ms/step\n",
            "Epoch 26/50\n",
            "110/110 - 0s - loss: 0.3980 - accuracy: 0.8254 - val_loss: 0.4260 - val_accuracy: 0.8033 - 216ms/epoch - 2ms/step\n",
            "Epoch 27/50\n",
            "110/110 - 0s - loss: 0.3929 - accuracy: 0.8274 - val_loss: 0.4366 - val_accuracy: 0.8000 - 217ms/epoch - 2ms/step\n",
            "Epoch 28/50\n",
            "110/110 - 0s - loss: 0.3946 - accuracy: 0.8280 - val_loss: 0.4217 - val_accuracy: 0.8040 - 221ms/epoch - 2ms/step\n",
            "Epoch 29/50\n",
            "110/110 - 0s - loss: 0.3923 - accuracy: 0.8314 - val_loss: 0.4235 - val_accuracy: 0.8027 - 214ms/epoch - 2ms/step\n",
            "Epoch 30/50\n",
            "110/110 - 0s - loss: 0.3961 - accuracy: 0.8240 - val_loss: 0.4274 - val_accuracy: 0.8020 - 201ms/epoch - 2ms/step\n",
            "Epoch 31/50\n",
            "110/110 - 0s - loss: 0.3950 - accuracy: 0.8320 - val_loss: 0.4497 - val_accuracy: 0.8053 - 216ms/epoch - 2ms/step\n",
            "Epoch 32/50\n",
            "110/110 - 0s - loss: 0.3968 - accuracy: 0.8246 - val_loss: 0.4448 - val_accuracy: 0.8013 - 211ms/epoch - 2ms/step\n",
            "Epoch 33/50\n",
            "110/110 - 0s - loss: 0.3935 - accuracy: 0.8271 - val_loss: 0.4318 - val_accuracy: 0.8067 - 209ms/epoch - 2ms/step\n",
            "Epoch 34/50\n",
            "110/110 - 0s - loss: 0.3956 - accuracy: 0.8303 - val_loss: 0.4324 - val_accuracy: 0.8020 - 206ms/epoch - 2ms/step\n",
            "Epoch 35/50\n",
            "110/110 - 0s - loss: 0.3909 - accuracy: 0.8283 - val_loss: 0.4270 - val_accuracy: 0.8000 - 218ms/epoch - 2ms/step\n",
            "Epoch 36/50\n",
            "110/110 - 0s - loss: 0.4032 - accuracy: 0.8217 - val_loss: 0.4238 - val_accuracy: 0.8060 - 219ms/epoch - 2ms/step\n",
            "Epoch 37/50\n",
            "110/110 - 0s - loss: 0.3877 - accuracy: 0.8309 - val_loss: 0.4373 - val_accuracy: 0.8033 - 206ms/epoch - 2ms/step\n",
            "Epoch 38/50\n",
            "110/110 - 0s - loss: 0.3975 - accuracy: 0.8280 - val_loss: 0.4345 - val_accuracy: 0.8027 - 200ms/epoch - 2ms/step\n",
            "Epoch 39/50\n",
            "110/110 - 0s - loss: 0.3923 - accuracy: 0.8320 - val_loss: 0.4446 - val_accuracy: 0.8040 - 211ms/epoch - 2ms/step\n",
            "Epoch 40/50\n",
            "110/110 - 0s - loss: 0.3910 - accuracy: 0.8314 - val_loss: 0.4307 - val_accuracy: 0.7980 - 212ms/epoch - 2ms/step\n",
            "Epoch 41/50\n",
            "110/110 - 0s - loss: 0.3903 - accuracy: 0.8314 - val_loss: 0.4246 - val_accuracy: 0.8053 - 211ms/epoch - 2ms/step\n",
            "Epoch 42/50\n",
            "110/110 - 0s - loss: 0.3927 - accuracy: 0.8269 - val_loss: 0.4507 - val_accuracy: 0.8040 - 225ms/epoch - 2ms/step\n",
            "Epoch 43/50\n",
            "110/110 - 0s - loss: 0.3909 - accuracy: 0.8269 - val_loss: 0.4270 - val_accuracy: 0.8073 - 203ms/epoch - 2ms/step\n",
            "Epoch 44/50\n",
            "110/110 - 0s - loss: 0.3940 - accuracy: 0.8260 - val_loss: 0.4527 - val_accuracy: 0.7960 - 215ms/epoch - 2ms/step\n",
            "Epoch 45/50\n",
            "110/110 - 0s - loss: 0.3980 - accuracy: 0.8240 - val_loss: 0.4219 - val_accuracy: 0.8060 - 225ms/epoch - 2ms/step\n",
            "Epoch 46/50\n",
            "110/110 - 0s - loss: 0.3893 - accuracy: 0.8311 - val_loss: 0.4270 - val_accuracy: 0.8080 - 206ms/epoch - 2ms/step\n",
            "Epoch 47/50\n",
            "110/110 - 0s - loss: 0.3915 - accuracy: 0.8271 - val_loss: 0.4229 - val_accuracy: 0.8040 - 204ms/epoch - 2ms/step\n",
            "Epoch 48/50\n",
            "110/110 - 0s - loss: 0.3855 - accuracy: 0.8311 - val_loss: 0.4369 - val_accuracy: 0.8060 - 210ms/epoch - 2ms/step\n",
            "Epoch 49/50\n",
            "110/110 - 0s - loss: 0.3902 - accuracy: 0.8317 - val_loss: 0.4252 - val_accuracy: 0.8060 - 202ms/epoch - 2ms/step\n",
            "Epoch 50/50\n",
            "110/110 - 0s - loss: 0.3887 - accuracy: 0.8280 - val_loss: 0.4247 - val_accuracy: 0.8053 - 213ms/epoch - 2ms/step\n"
          ]
        },
        {
          "data": {
            "image/png": "[encoded data removed]",
            "text/plain": [
              "<Figure size 432x288 with 1 Axes>"
            ]
          },
          "metadata": {
            "needs_background": "light"
          },
          "output_type": "display_data"
        }
      ],
      "source": [
        "#Multi-class Cross-entropy loss\n",
        "from sklearn.datasets import make_blobs\n",
        "from keras.layers import Dense\n",
        "from keras.models import Sequential\n",
        "from tensorflow.keras.optimizers import SGD\n",
        "from tensorflow.keras.utils import to_categorical\n",
        "from matplotlib import pyplot\n",
        "#generate 2d classification dataset\n",
        "X, y = make_blobs(n_samples=5000, centers=3, n_features=2, cluster_std=2, random_state=2)\n",
        "#one hot encode output variable\n",
        "y = to_categorical(y)\n",
        "# split into train and test\n",
        "X_train, X_test, y_train, y_test = train_test_split(X, y, test_size=0.3, random_state=30)\n",
        "#define model\n",
        "model5 = Sequential()\n",
        "model5.add(Dense(50, input_dim=2, activation='relu', kernel_initializer='he_uniform'))\n",
        "model5.add(Dense(3, activation='softmax'))\n",
        "# compile model\n",
        "opt = SGD(lr=0.01, momentum=0.9)\n",
        "model5.compile(loss='categorical_crossentropy', optimizer=opt, metrics=['accuracy'])\n",
        "#fit model\n",
        "history = model5.fit(X_train, y_train, validation_data=(X_test, y_test), epochs=50, verbose=2)\n",
        "#evaluate the model\n",
        "train_acc = model5.evaluate(X_train, y_train, verbose=0)\n",
        "test_acc = model5.evaluate(X_test, y_test, verbose=0)\n",
        "\n",
        "#plot loss during training\n",
        "pyplot.title('Categorical Cross Entropy')\n",
        "pyplot.plot(history.history['loss'], label='train')\n",
        "pyplot.plot(history.history['val_loss'], label='test')\n",
        "pyplot.legend()\n",
        "pyplot.show()"
      ]
    },
    {
      "cell_type": "code",
      "execution_count": 15,
      "metadata": {
        "colab": {
          "base_uri": "https://localhost:8080/",
          "height": 317
        },
        "id": "F0vRgdXF5vvD",
        "outputId": "1c5c9155-f3af-4fcb-8602-f30b396cb53a"
      },
      "outputs": [
        {
          "name": "stderr",
          "output_type": "stream",
          "text": [
            "/usr/local/lib/python3.7/dist-packages/keras/optimizer_v2/gradient_descent.py:102: UserWarning: The `lr` argument is deprecated, use `learning_rate` instead.\n",
            "  super(SGD, self).__init__(name, **kwargs)\n"
          ]
        },
        {
          "data": {
            "image/png": "[encoded data removed]",
            "text/plain": [
              "<Figure size 432x288 with 1 Axes>"
            ]
          },
          "metadata": {
            "needs_background": "light"
          },
          "output_type": "display_data"
        }
      ],
      "source": [
        "# KL Divergence\n",
        "model6 = Sequential()\n",
        "model6.add(Dense(50, input_dim=2, activation='relu', kernel_initializer='he_uniform'))\n",
        "model6.add(Dense(3, activation='softmax'))\n",
        "# compile model\n",
        "opt = SGD(lr=0.01, momentum=0.9)\n",
        "model6.compile(optimizer=opt, loss='kullback_leibler_divergence', metrics=['accuracy'])\n",
        "# fit model\n",
        "history = model6.fit(X_train, y_train, validation_data=(X_test, y_test), epochs=50, verbose=0)\n",
        "#evaluate the model\n",
        "train_acc = model6.evaluate(X_train, y_train, verbose=0)\n",
        "test_acc =model6.evaluate(X_test, y_test, verbose=0)\n",
        "#plot loss during training\n",
        "pyplot.title('KL Divergence Loss')\n",
        "pyplot.plot(history.history['loss'], label='train')\n",
        "pyplot.plot(history.history['val_loss'], label='test')\n",
        "pyplot.legend()\n",
        "pyplot.show()\n"
      ]
    }
  ],
  "metadata": {
    "colab": {
      "collapsed_sections": [],
      "name": "Loss Function.ipynb",
      "provenance": []
    },
    "interpreter": {
      "hash": "51d2dbc107e90016ff58d506d19dfa66132cafa2ebfedbf9f4d98cf0f5094b18"
    },
    "kernelspec": {
      "display_name": "Python 3.9.12 ('base')",
      "language": "python",
      "name": "python3"
    },
    "language_info": {
      "codemirror_mode": {
        "name": "ipython",
        "version": 3
      },
      "file_extension": ".py",
      "mimetype": "text/x-python",
      "name": "python",
      "nbconvert_exporter": "python",
      "pygments_lexer": "ipython3",
      "version": "3.9.12"
    }
  },
  "nbformat": 4,
  "nbformat_minor": 0
}
