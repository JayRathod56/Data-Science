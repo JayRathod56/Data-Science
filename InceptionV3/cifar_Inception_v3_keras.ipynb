{
 "cells": [
  {
   "cell_type": "code",
   "execution_count": 17,
   "metadata": {},
   "outputs": [],
   "source": [
    "import keras\n",
    "from keras.datasets import cifar10\n",
    "from keras.models import Sequential\n",
    "from keras.layers import Dense, Flatten\n",
    "from tensorflow.keras.optimizers import Adam, SGD\n",
    "import tensorflow as tf"
   ]
  },
  {
   "cell_type": "code",
   "execution_count": 18,
   "metadata": {},
   "outputs": [],
   "source": [
    "# Hyperparameters\n",
    "batch_size = 180\n",
    "num_classes = 10\n",
    "epochs = 10"
   ]
  },
  {
   "cell_type": "code",
   "execution_count": 19,
   "metadata": {},
   "outputs": [
    {
     "name": "stdout",
     "output_type": "stream",
     "text": [
      "(10000, 128, 128, 3)\n",
      "(1000, 128, 128, 3)\n",
      "(10000, 10)\n",
      "(1000, 10)\n"
     ]
    }
   ],
   "source": [
    "# Load CIFAR10 Data\n",
    "(x_train, y_train), (x_test, y_test) = cifar10.load_data()\n",
    "\n",
    "x_train = x_train[:10000,:,:,:]\n",
    "x_test = x_test[:1000,:,:,:]\n",
    "\n",
    "y_train = y_train[:10000]\n",
    "y_test = y_test[:1000]\n",
    "\n",
    "# convert to one hot encoing \n",
    "Y_train = keras.utils.np_utils.to_categorical(y_train, num_classes)\n",
    "Y_test = keras.utils.np_utils.to_categorical(y_test, num_classes)\n",
    "\n",
    "X_train = tf.keras.layers.UpSampling2D(size=(2, 2))(x_train)\n",
    "X_train = tf.keras.layers.UpSampling2D(size=(2, 2))(X_train)\n",
    "\n",
    "\n",
    "X_test = tf.keras.layers.UpSampling2D(size=(2, 2))(x_test)\n",
    "X_test = tf.keras.layers.UpSampling2D(size=(2, 2))(X_test)\n",
    "\n",
    "\n",
    "print(X_train.shape)\n",
    "print(X_test.shape)\n",
    "print(Y_train.shape)\n",
    "print(Y_test.shape)"
   ]
  },
  {
   "cell_type": "code",
   "execution_count": 20,
   "metadata": {},
   "outputs": [],
   "source": [
    "inception_v3 = Sequential()\n",
    "\n",
    "pretrained_model = tf.keras.applications.InceptionV3(\n",
    "    include_top=False,\n",
    "    weights=\"imagenet\",\n",
    "    input_shape=(128, 128, 3),\n",
    "    pooling='max',\n",
    "    classes=10,\n",
    "    classifier_activation=\"softmax\",\n",
    ")\n",
    "\n",
    "for layer in pretrained_model.layers:\n",
    "    layer.trainable=False\n",
    "\n",
    "inception_v3.add(pretrained_model)\n",
    "inception_v3.add(Flatten())\n",
    "inception_v3.add(Dense(128, activation='relu'))\n",
    "inception_v3.add(Dense(10, activation='softmax'))"
   ]
  },
  {
   "cell_type": "code",
   "execution_count": 21,
   "metadata": {},
   "outputs": [],
   "source": [
    "from keras.preprocessing.image import ImageDataGenerator\n",
    "datagen = ImageDataGenerator(rotation_range = 15, horizontal_flip = True, width_shift_range = 0.1, height_shift_range = 0.1, zoom_range = 0.2, shear_range = 15)\n",
    "datagen.fit(X_train)"
   ]
  },
  {
   "cell_type": "code",
   "execution_count": 22,
   "metadata": {},
   "outputs": [],
   "source": [
    "inception_v3.compile(optimizer=Adam(learning_rate=0.001), loss='categorical_crossentropy', metrics=['accuracy'])"
   ]
  },
  {
   "cell_type": "code",
   "execution_count": 23,
   "metadata": {},
   "outputs": [],
   "source": [
    "# I have not used it as it was having no effect on traning \n",
    "from keras.callbacks import ModelCheckpoint, CSVLogger\n",
    "ckpt = ModelCheckpoint('saved_model/inception_v3.hdf5')\n",
    "csv = CSVLogger('saved_model/inception_v3_log.csv')"
   ]
  },
  {
   "cell_type": "code",
   "execution_count": 24,
   "metadata": {},
   "outputs": [
    {
     "name": "stdout",
     "output_type": "stream",
     "text": [
      "Epoch 1/10\n",
      "56/56 [==============================] - 116s 2s/step - loss: 34.1071 - accuracy: 0.1265 - val_loss: 2.9731 - val_accuracy: 0.1200\n",
      "Epoch 2/10\n",
      "56/56 [==============================] - 113s 2s/step - loss: 2.3265 - accuracy: 0.1037 - val_loss: 2.2930 - val_accuracy: 0.1060\n",
      "Epoch 3/10\n",
      "56/56 [==============================] - 116s 2s/step - loss: 2.3002 - accuracy: 0.1047 - val_loss: 2.2903 - val_accuracy: 0.1140\n",
      "Epoch 4/10\n",
      "56/56 [==============================] - 109s 2s/step - loss: 2.2987 - accuracy: 0.1122 - val_loss: 2.2907 - val_accuracy: 0.1170\n",
      "Epoch 5/10\n",
      "56/56 [==============================] - 116s 2s/step - loss: 2.2947 - accuracy: 0.1128 - val_loss: 2.2835 - val_accuracy: 0.1220\n",
      "Epoch 6/10\n",
      "56/56 [==============================] - 112s 2s/step - loss: 2.2929 - accuracy: 0.1147 - val_loss: 2.2836 - val_accuracy: 0.1340\n",
      "Epoch 7/10\n",
      "56/56 [==============================] - 112s 2s/step - loss: 2.2956 - accuracy: 0.1170 - val_loss: 2.2840 - val_accuracy: 0.1250\n",
      "Epoch 8/10\n",
      "56/56 [==============================] - 130s 2s/step - loss: 2.2894 - accuracy: 0.1183 - val_loss: 2.2741 - val_accuracy: 0.1130\n",
      "Epoch 9/10\n",
      "56/56 [==============================] - 119s 2s/step - loss: 2.2891 - accuracy: 0.1173 - val_loss: 2.2626 - val_accuracy: 0.1280\n",
      "Epoch 10/10\n",
      "56/56 [==============================] - 113s 2s/step - loss: 2.2873 - accuracy: 0.1151 - val_loss: 2.2731 - val_accuracy: 0.1300\n"
     ]
    }
   ],
   "source": [
    "history = inception_v3.fit(datagen.flow(X_train, Y_train, batch_size), validation_data=(X_test, Y_test), epochs=epochs, batch_size=batch_size)\n",
    "inception_v3.save_weights('saved_model/10epochs_inception_v3_cifar10.h5')"
   ]
  },
  {
   "cell_type": "code",
   "execution_count": 25,
   "metadata": {},
   "outputs": [],
   "source": [
    "train_mse = inception_v3.evaluate(X_train, Y_train, verbose=0)\n",
    "test_mse = inception_v3.evaluate(X_test, Y_test, verbose=0)"
   ]
  },
  {
   "cell_type": "code",
   "execution_count": 26,
   "metadata": {},
   "outputs": [
    {
     "name": "stdout",
     "output_type": "stream",
     "text": [
      "Train loss : 228.554 % , Test loss : 227.311 %\n",
      "Train accuracy : 13.600 % , Test accuracy : 13.000 %\n"
     ]
    }
   ],
   "source": [
    "print('Train loss : %.3f %% , Test loss : %.3f %%' % (train_mse[0]*100, test_mse[0]*100))\n",
    "print('Train accuracy : %.3f %% , Test accuracy : %.3f %%' % (train_mse[1]*100, test_mse[1]*100))"
   ]
  }
 ],
 "metadata": {
  "kernelspec": {
   "display_name": "Python 3.9.12 ('base')",
   "language": "python",
   "name": "python3"
  },
  "language_info": {
   "codemirror_mode": {
    "name": "ipython",
    "version": 3
   },
   "file_extension": ".py",
   "mimetype": "text/x-python",
   "name": "python",
   "nbconvert_exporter": "python",
   "pygments_lexer": "ipython3",
   "version": "3.9.12"
  },
  "orig_nbformat": 4,
  "vscode": {
   "interpreter": {
    "hash": "51d2dbc107e90016ff58d506d19dfa66132cafa2ebfedbf9f4d98cf0f5094b18"
   }
  }
 },
 "nbformat": 4,
 "nbformat_minor": 2
}
