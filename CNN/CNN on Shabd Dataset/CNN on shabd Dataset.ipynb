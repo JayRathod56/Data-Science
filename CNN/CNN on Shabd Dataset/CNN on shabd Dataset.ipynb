{
 "cells": [
  {
   "cell_type": "code",
   "execution_count": 1,
   "metadata": {},
   "outputs": [],
   "source": [
    "# Import Libraries\n",
    "import numpy as np # linear algebra\n",
    "import pandas as pd # data processing, csv file I/O (e.g pd.read_csv)\n",
    "import seaborn as sns\n",
    "import matplotlib.pyplot as plt"
   ]
  },
  {
   "cell_type": "code",
   "execution_count": 2,
   "metadata": {},
   "outputs": [
    {
     "name": "stdout",
     "output_type": "stream",
     "text": [
      "(243456, 1026)\n",
      "   Index label  f_1  f_2  f_3  f_4  f_5  f_6  f_7  f_8  ...  f_1015  f_1016  \\\n",
      "0     83     अ  255  255  255  255  255  255  255  255  ...     255     255   \n",
      "1    620     अ  255  255  255  255  255  255  255  255  ...     255     255   \n",
      "2    508     अ  255  255  255  255  255  255  255  255  ...     255     255   \n",
      "3    497     अ  255  255  255  255  255  255  255  255  ...     255     255   \n",
      "4    679     अ  255  255  255  255  255  255  255  255  ...     255     255   \n",
      "\n",
      "   f_1017  f_1018  f_1019  f_1020  f_1021  f_1022  f_1023  f_1024  \n",
      "0     255     255     255     255     255     255     255     255  \n",
      "1     255     255     255     255     255     255     255     255  \n",
      "2     255     255     255     255     255     255     255     255  \n",
      "3     255     255     255     255     255     255     255     255  \n",
      "4     255     255     255     255     255     255     255     255  \n",
      "\n",
      "[5 rows x 1026 columns]\n"
     ]
    }
   ],
   "source": [
    "# Loading the data set\n",
    "\n",
    "# read train\n",
    "train = pd.read_csv('Shabd_Train.csv')\n",
    "print(train.shape)\n",
    "print(train.head())"
   ]
  },
  {
   "cell_type": "code",
   "execution_count": 3,
   "metadata": {},
   "outputs": [
    {
     "name": "stdout",
     "output_type": "stream",
     "text": [
      "(60672, 1026)\n",
      "   Index label  f_1  f_2  f_3  f_4  f_5  f_6  f_7  f_8  ...  f_1015  f_1016  \\\n",
      "0     12     अ  255  255  255  255  255  255  255  255  ...     255     255   \n",
      "1     27     अ  255  255  255  255  255  255  255  255  ...     255     255   \n",
      "2     30     अ  255  255  255  255  255  255  255  255  ...     255     255   \n",
      "3     33     अ  255  255  255  255  255  255  255  255  ...     255     255   \n",
      "4     36     अ  255  255  255  255  255  255  255  255  ...     255     255   \n",
      "\n",
      "   f_1017  f_1018  f_1019  f_1020  f_1021  f_1022  f_1023  f_1024  \n",
      "0     255     255     255     255     255     255     255     255  \n",
      "1     255     255     255     255     255     255     255     255  \n",
      "2     255     255     255     255     255     255     255     255  \n",
      "3     255     255     255     255     255     255     255     255  \n",
      "4     255     255     255     255     255     255     255     255  \n",
      "\n",
      "[5 rows x 1026 columns]\n"
     ]
    }
   ],
   "source": [
    "# read test\n",
    "test = pd.read_csv('Shabd_Test.csv')\n",
    "print(test.shape)\n",
    "print(test.head())"
   ]
  },
  {
   "cell_type": "code",
   "execution_count": 27,
   "metadata": {},
   "outputs": [
    {
     "name": "stdout",
     "output_type": "stream",
     "text": [
      "X_train shape:  (243456, 1024)\n",
      "X_test shape:  (60672, 1024)\n",
      "y_train shape:  (243456,)\n",
      "y_test shape:  (60672,)\n"
     ]
    }
   ],
   "source": [
    "# put labels into train and test variable\n",
    "y_train = train['label']\n",
    "y_test = test['label']\n",
    "# Drop label column\n",
    "# axis has two values 0 and 1, 0 means index(row) deletion and 1 means column deletion\n",
    "X_train = train.drop(labels = ['label', 'Index'], axis = 1)\n",
    "X_test = test.drop(labels = ['label', 'Index'], axis = 1)\n",
    "\n",
    "print('X_train shape: ',X_train.shape)\n",
    "print('X_test shape: ',X_test.shape)\n",
    "print('y_train shape: ',y_train.shape)\n",
    "print('y_test shape: ',y_test.shape)\n"
   ]
  },
  {
   "cell_type": "code",
   "execution_count": 16,
   "metadata": {},
   "outputs": [
    {
     "data": {
      "image/png": "[encoded data removed]",
      "text/plain": [
       "<Figure size 432x288 with 1 Axes>"
      ]
     },
     "metadata": {
      "needs_background": "light"
     },
     "output_type": "display_data"
    }
   ],
   "source": [
    "# plotting random sample from X_train\n",
    "img = X_train.iloc[2000].to_numpy()\n",
    "img = img.reshape((32,32))\n",
    "plt.imshow(img, cmap='gray')\n",
    "plt.title(train.iloc[0,0])\n",
    "plt.axis('off')\n",
    "plt.show()"
   ]
  },
  {
   "cell_type": "code",
   "execution_count": 13,
   "metadata": {},
   "outputs": [
    {
     "data": {
      "image/png": "[encoded data removed]",
      "text/plain": [
       "<Figure size 432x288 with 1 Axes>"
      ]
     },
     "metadata": {
      "needs_background": "light"
     },
     "output_type": "display_data"
    }
   ],
   "source": [
    "# plotting random sample from X_test\n",
    "\n",
    "img = X_test.iloc[100].to_numpy()\n",
    "img = img.reshape((32,32))\n",
    "plt.imshow(img, cmap='gray')\n",
    "plt.title(train.iloc[3,0])\n",
    "plt.axis('off')\n",
    "plt.show()"
   ]
  },
  {
   "cell_type": "code",
   "execution_count": 28,
   "metadata": {},
   "outputs": [
    {
     "name": "stdout",
     "output_type": "stream",
     "text": [
      "Converted Non-Numeric Labels into numeric\n"
     ]
    }
   ],
   "source": [
    "#using label encoder converting non numeric cols to numeric\n",
    "\n",
    "from sklearn import preprocessing\n",
    "le = preprocessing.LabelEncoder()\n",
    "y_train = le.fit_transform(y_train)\n",
    "y_test = le.fit_transform(y_test)\n",
    "\n",
    "print(\"Converted Non-Numeric Labels into numeric\")\n",
    "\n",
    "# from keras.utils.np_utils import to_categorical # convert to one-hot-encoding\n",
    "# y_train = to_categorical(y_train)\n",
    "# y_test = to_categorical(y_test)\n",
    "\n",
    "# print(\"Converted Numeric Labels into one-hot-encoding\")"
   ]
  },
  {
   "cell_type": "code",
   "execution_count": 30,
   "metadata": {},
   "outputs": [],
   "source": [
    "# Split the train and the validation set for the fitting\n",
    "from sklearn.model_selection import train_test_split\n",
    "\n",
    "X_train, X_test, y_train, y_test = train_test_split(X_train, y_train, test_size=0.1, random_state = 2)"
   ]
  },
  {
   "cell_type": "code",
   "execution_count": 31,
   "metadata": {},
   "outputs": [
    {
     "name": "stdout",
     "output_type": "stream",
     "text": [
      "(219110, 1024)\n",
      "(24346, 1024)\n"
     ]
    }
   ],
   "source": [
    "# Normalize the data\n",
    "X_train = X_train / 255.0\n",
    "X_test = X_test / 255.0\n",
    "\n",
    "print(X_train.shape)\n",
    "print(X_test.shape)\n",
    "\n",
    "# Here we are dividing our actual values from 255.0 so we get all the new values near to 1\n",
    "# Hence making calcualtions easy and fast\n",
    "# why divide by 255.0 as we know black and white images have a brightness range of 0 - 256 i.e total 255 values\n",
    "# so as we have black and white images the values of pixels that we get after divide will be 0 for black and 1 for white\n",
    "\n",
    "# we could also just replace all 255.0 values to 1 \n"
   ]
  },
  {
   "cell_type": "code",
   "execution_count": 33,
   "metadata": {},
   "outputs": [
    {
     "name": "stdout",
     "output_type": "stream",
     "text": [
      "X_train shape:  (219110, 32, 32, 1)\n",
      "X_test shape:  (24346, 32, 32, 1)\n"
     ]
    }
   ],
   "source": [
    "# Reshape\n",
    "\n",
    "X_train = X_train.values.reshape(X_train.shape[0], 32, 32, 1)\n",
    "X_test = X_test.values.reshape(X_test.shape[0], 32, 32, 1)\n",
    "\n",
    "print('X_train shape: ', X_train.shape)\n",
    "print('X_test shape: ', X_test.shape)\n"
   ]
  },
  {
   "cell_type": "code",
   "execution_count": 66,
   "metadata": {},
   "outputs": [],
   "source": [
    "#\n",
    "from sklearn.metrics import confusion_matrix\n",
    "import itertools\n",
    "\n",
    "from keras.utils.np_utils import to_categorical # convert to one-hot-encoding\n",
    "from keras.models import Sequential\n",
    "from keras.layers import Dense, Dropout, Flatten, Conv2D, MaxPool2D\n",
    "from tensorflow.keras.optimizers import RMSprop, Adam\n",
    "from keras.preprocessing.image import ImageDataGenerator\n",
    "from keras.callbacks import ReduceLROnPlateau\n",
    "\n",
    "model = Sequential()\n",
    "#\n",
    "model.add(Conv2D(filters=8, kernel_size = (5,5), padding = 'Same', activation = 'relu', \n",
    "                 input_shape = (32,32,1)))\n",
    "model.add(MaxPool2D(pool_size=(2,2)))\n",
    "# Drop 25% of nodes\n",
    "model.add(Dropout(0.25))\n",
    "#\n",
    "model.add(Conv2D(filters = 16, kernel_size= (3,3), padding='Same',\n",
    "                 activation='relu'))\n",
    "model.add(MaxPool2D(pool_size=(2,2), strides=(2,2)))\n",
    "model.add(Dropout(0.25))\n",
    "# fully connected\n",
    "model.add(Flatten())\n",
    "# 256 - because grey scale image has 0-255 i.e 256 values\n",
    "model.add(Dense(247, activation = 'relu'))\n",
    "model.add(Dropout(0.5))\n",
    "model.add(Dense(1, activation = 'softmax'))"
   ]
  },
  {
   "cell_type": "code",
   "execution_count": 67,
   "metadata": {},
   "outputs": [],
   "source": [
    "# Define optimizer\n",
    "optimizer = Adam(lr = 0.001, beta_1=0.9, beta_2=0.999)"
   ]
  },
  {
   "cell_type": "code",
   "execution_count": 68,
   "metadata": {},
   "outputs": [],
   "source": [
    "# Compile the model\n",
    "model.compile(optimizer = optimizer, loss = 'categorical_crossentropy', metrics=['accuracy'])"
   ]
  },
  {
   "cell_type": "code",
   "execution_count": 69,
   "metadata": {},
   "outputs": [],
   "source": [
    "epochs = 5 # for better result increase the epochs\n",
    "batch_size = 250"
   ]
  },
  {
   "cell_type": "code",
   "execution_count": 70,
   "metadata": {},
   "outputs": [],
   "source": [
    "datagen = ImageDataGenerator(\n",
    "    rotation_range= 5, # randomly rotate images in the range 5 degrees\n",
    "    zoom_range = 0.1, # Randomly zoom image 10%\n",
    "    width_shift_range=0.1, # randomly shift images horizontally 10%\n",
    "    height_shift_range=0.1, # randomly shift images vertically 10%\n",
    ")\n",
    "\n",
    "datagen.fit(X_train)"
   ]
  },
  {
   "cell_type": "code",
   "execution_count": 71,
   "metadata": {},
   "outputs": [
    {
     "name": "stderr",
     "output_type": "stream",
     "text": [
      "C:\\Users\\jayan\\AppData\\Local\\Temp\\ipykernel_14056\\1407581559.py:2: UserWarning: `Model.fit_generator` is deprecated and will be removed in a future version. Please use `Model.fit`, which supports generators.\n",
      "  history = model.fit_generator(datagen.flow(X_train, y_train),\n"
     ]
    },
    {
     "name": "stdout",
     "output_type": "stream",
     "text": [
      "Epoch 1/5\n",
      "876/876 [==============================] - 22s 24ms/step - loss: 0.0000e+00 - accuracy: 0.0025 - val_loss: 0.0000e+00 - val_accuracy: 0.0027\n",
      "Epoch 2/5\n",
      "876/876 [==============================] - 19s 21ms/step - loss: 0.0000e+00 - accuracy: 0.0029 - val_loss: 0.0000e+00 - val_accuracy: 0.0027\n",
      "Epoch 3/5\n",
      "876/876 [==============================] - 18s 21ms/step - loss: 0.0000e+00 - accuracy: 0.0025 - val_loss: 0.0000e+00 - val_accuracy: 0.0027\n",
      "Epoch 4/5\n",
      "876/876 [==============================] - 19s 21ms/step - loss: 0.0000e+00 - accuracy: 0.0028 - val_loss: 0.0000e+00 - val_accuracy: 0.0027\n",
      "Epoch 5/5\n",
      "876/876 [==============================] - 19s 21ms/step - loss: 0.0000e+00 - accuracy: 0.0030 - val_loss: 0.0000e+00 - val_accuracy: 0.0027\n"
     ]
    }
   ],
   "source": [
    "# Fit the model\n",
    "history = model.fit_generator(datagen.flow(X_train, y_train),\n",
    "                    epochs = epochs, validation_data = (X_test, y_test),\n",
    "                    steps_per_epoch=X_train.shape[0] // batch_size)"
   ]
  },
  {
   "cell_type": "code",
   "execution_count": 72,
   "metadata": {},
   "outputs": [
    {
     "data": {
      "image/png": "[encoded data removed]",
      "text/plain": [
       "<Figure size 432x288 with 1 Axes>"
      ]
     },
     "metadata": {
      "needs_background": "light"
     },
     "output_type": "display_data"
    }
   ],
   "source": [
    "# Plot the loss and accuracy curves for training and validation\n",
    "plt.plot(history.history['val_loss'], color='b', label='validation loss')\n",
    "plt.title('Test Loss')\n",
    "plt.xlabel('Number of Epochs')\n",
    "plt.ylabel('Loss')\n",
    "plt.legend()\n",
    "plt.show()"
   ]
  },
  {
   "cell_type": "code",
   "execution_count": 75,
   "metadata": {},
   "outputs": [
    {
     "name": "stdout",
     "output_type": "stream",
     "text": [
      "761/761 [==============================] - 3s 4ms/step\n"
     ]
    },
    {
     "ename": "TypeError",
     "evalue": "Singleton array 583 cannot be considered a valid collection.",
     "output_type": "error",
     "traceback": [
      "\u001b[1;31m---------------------------------------------------------------------------\u001b[0m",
      "\u001b[1;31mTypeError\u001b[0m                                 Traceback (most recent call last)",
      "\u001b[1;32me:\\Jay\\Data Science Sem 3\\CNN\\CNN on Shabd Dataset\\CNN on shabd Dataset.ipynb Cell 18'\u001b[0m in \u001b[0;36m<cell line: 10>\u001b[1;34m()\u001b[0m\n\u001b[0;32m      <a href='vscode-notebook-cell:/e%3A/Jay/Data%20Science%20Sem%203/CNN/CNN%20on%20Shabd%20Dataset/CNN%20on%20shabd%20Dataset.ipynb#ch0000018?line=7'>8</a>\u001b[0m y_true \u001b[39m=\u001b[39m np\u001b[39m.\u001b[39margmax(y_test)\n\u001b[0;32m      <a href='vscode-notebook-cell:/e%3A/Jay/Data%20Science%20Sem%203/CNN/CNN%20on%20Shabd%20Dataset/CNN%20on%20shabd%20Dataset.ipynb#ch0000018?line=8'>9</a>\u001b[0m \u001b[39m# compute the confusion matrix\u001b[39;00m\n\u001b[1;32m---> <a href='vscode-notebook-cell:/e%3A/Jay/Data%20Science%20Sem%203/CNN/CNN%20on%20Shabd%20Dataset/CNN%20on%20shabd%20Dataset.ipynb#ch0000018?line=9'>10</a>\u001b[0m confusion_mtx \u001b[39m=\u001b[39m confusion_matrix(y_true, y_pred_classes)\n\u001b[0;32m     <a href='vscode-notebook-cell:/e%3A/Jay/Data%20Science%20Sem%203/CNN/CNN%20on%20Shabd%20Dataset/CNN%20on%20shabd%20Dataset.ipynb#ch0000018?line=10'>11</a>\u001b[0m \u001b[39m# plt the confusion matrix\u001b[39;00m\n\u001b[0;32m     <a href='vscode-notebook-cell:/e%3A/Jay/Data%20Science%20Sem%203/CNN/CNN%20on%20Shabd%20Dataset/CNN%20on%20shabd%20Dataset.ipynb#ch0000018?line=11'>12</a>\u001b[0m f, ax \u001b[39m=\u001b[39m plt\u001b[39m.\u001b[39msubplots(figsize\u001b[39m=\u001b[39m(\u001b[39m8\u001b[39m, \u001b[39m8\u001b[39m))\n",
      "File \u001b[1;32mc:\\Users\\jayan\\anaconda3\\lib\\site-packages\\sklearn\\metrics\\_classification.py:307\u001b[0m, in \u001b[0;36mconfusion_matrix\u001b[1;34m(y_true, y_pred, labels, sample_weight, normalize)\u001b[0m\n\u001b[0;32m    <a href='file:///c%3A/Users/jayan/anaconda3/lib/site-packages/sklearn/metrics/_classification.py?line=221'>222</a>\u001b[0m \u001b[39mdef\u001b[39;00m \u001b[39mconfusion_matrix\u001b[39m(\n\u001b[0;32m    <a href='file:///c%3A/Users/jayan/anaconda3/lib/site-packages/sklearn/metrics/_classification.py?line=222'>223</a>\u001b[0m     y_true, y_pred, \u001b[39m*\u001b[39m, labels\u001b[39m=\u001b[39m\u001b[39mNone\u001b[39;00m, sample_weight\u001b[39m=\u001b[39m\u001b[39mNone\u001b[39;00m, normalize\u001b[39m=\u001b[39m\u001b[39mNone\u001b[39;00m\n\u001b[0;32m    <a href='file:///c%3A/Users/jayan/anaconda3/lib/site-packages/sklearn/metrics/_classification.py?line=223'>224</a>\u001b[0m ):\n\u001b[0;32m    <a href='file:///c%3A/Users/jayan/anaconda3/lib/site-packages/sklearn/metrics/_classification.py?line=224'>225</a>\u001b[0m     \u001b[39m\"\"\"Compute confusion matrix to evaluate the accuracy of a classification.\u001b[39;00m\n\u001b[0;32m    <a href='file:///c%3A/Users/jayan/anaconda3/lib/site-packages/sklearn/metrics/_classification.py?line=225'>226</a>\u001b[0m \n\u001b[0;32m    <a href='file:///c%3A/Users/jayan/anaconda3/lib/site-packages/sklearn/metrics/_classification.py?line=226'>227</a>\u001b[0m \u001b[39m    By definition a confusion matrix :math:`C` is such that :math:`C_{i, j}`\u001b[39;00m\n\u001b[1;32m   (...)\u001b[0m\n\u001b[0;32m    <a href='file:///c%3A/Users/jayan/anaconda3/lib/site-packages/sklearn/metrics/_classification.py?line=304'>305</a>\u001b[0m \u001b[39m    (0, 2, 1, 1)\u001b[39;00m\n\u001b[0;32m    <a href='file:///c%3A/Users/jayan/anaconda3/lib/site-packages/sklearn/metrics/_classification.py?line=305'>306</a>\u001b[0m \u001b[39m    \"\"\"\u001b[39;00m\n\u001b[1;32m--> <a href='file:///c%3A/Users/jayan/anaconda3/lib/site-packages/sklearn/metrics/_classification.py?line=306'>307</a>\u001b[0m     y_type, y_true, y_pred \u001b[39m=\u001b[39m _check_targets(y_true, y_pred)\n\u001b[0;32m    <a href='file:///c%3A/Users/jayan/anaconda3/lib/site-packages/sklearn/metrics/_classification.py?line=307'>308</a>\u001b[0m     \u001b[39mif\u001b[39;00m y_type \u001b[39mnot\u001b[39;00m \u001b[39min\u001b[39;00m (\u001b[39m\"\u001b[39m\u001b[39mbinary\u001b[39m\u001b[39m\"\u001b[39m, \u001b[39m\"\u001b[39m\u001b[39mmulticlass\u001b[39m\u001b[39m\"\u001b[39m):\n\u001b[0;32m    <a href='file:///c%3A/Users/jayan/anaconda3/lib/site-packages/sklearn/metrics/_classification.py?line=308'>309</a>\u001b[0m         \u001b[39mraise\u001b[39;00m \u001b[39mValueError\u001b[39;00m(\u001b[39m\"\u001b[39m\u001b[39m%s\u001b[39;00m\u001b[39m is not supported\u001b[39m\u001b[39m\"\u001b[39m \u001b[39m%\u001b[39m y_type)\n",
      "File \u001b[1;32mc:\\Users\\jayan\\anaconda3\\lib\\site-packages\\sklearn\\metrics\\_classification.py:84\u001b[0m, in \u001b[0;36m_check_targets\u001b[1;34m(y_true, y_pred)\u001b[0m\n\u001b[0;32m     <a href='file:///c%3A/Users/jayan/anaconda3/lib/site-packages/sklearn/metrics/_classification.py?line=56'>57</a>\u001b[0m \u001b[39mdef\u001b[39;00m \u001b[39m_check_targets\u001b[39m(y_true, y_pred):\n\u001b[0;32m     <a href='file:///c%3A/Users/jayan/anaconda3/lib/site-packages/sklearn/metrics/_classification.py?line=57'>58</a>\u001b[0m     \u001b[39m\"\"\"Check that y_true and y_pred belong to the same classification task.\u001b[39;00m\n\u001b[0;32m     <a href='file:///c%3A/Users/jayan/anaconda3/lib/site-packages/sklearn/metrics/_classification.py?line=58'>59</a>\u001b[0m \n\u001b[0;32m     <a href='file:///c%3A/Users/jayan/anaconda3/lib/site-packages/sklearn/metrics/_classification.py?line=59'>60</a>\u001b[0m \u001b[39m    This converts multiclass or binary types to a common shape, and raises a\u001b[39;00m\n\u001b[1;32m   (...)\u001b[0m\n\u001b[0;32m     <a href='file:///c%3A/Users/jayan/anaconda3/lib/site-packages/sklearn/metrics/_classification.py?line=81'>82</a>\u001b[0m \u001b[39m    y_pred : array or indicator matrix\u001b[39;00m\n\u001b[0;32m     <a href='file:///c%3A/Users/jayan/anaconda3/lib/site-packages/sklearn/metrics/_classification.py?line=82'>83</a>\u001b[0m \u001b[39m    \"\"\"\u001b[39;00m\n\u001b[1;32m---> <a href='file:///c%3A/Users/jayan/anaconda3/lib/site-packages/sklearn/metrics/_classification.py?line=83'>84</a>\u001b[0m     check_consistent_length(y_true, y_pred)\n\u001b[0;32m     <a href='file:///c%3A/Users/jayan/anaconda3/lib/site-packages/sklearn/metrics/_classification.py?line=84'>85</a>\u001b[0m     type_true \u001b[39m=\u001b[39m type_of_target(y_true)\n\u001b[0;32m     <a href='file:///c%3A/Users/jayan/anaconda3/lib/site-packages/sklearn/metrics/_classification.py?line=85'>86</a>\u001b[0m     type_pred \u001b[39m=\u001b[39m type_of_target(y_pred)\n",
      "File \u001b[1;32mc:\\Users\\jayan\\anaconda3\\lib\\site-packages\\sklearn\\utils\\validation.py:329\u001b[0m, in \u001b[0;36mcheck_consistent_length\u001b[1;34m(*arrays)\u001b[0m\n\u001b[0;32m    <a href='file:///c%3A/Users/jayan/anaconda3/lib/site-packages/sklearn/utils/validation.py?line=317'>318</a>\u001b[0m \u001b[39mdef\u001b[39;00m \u001b[39mcheck_consistent_length\u001b[39m(\u001b[39m*\u001b[39marrays):\n\u001b[0;32m    <a href='file:///c%3A/Users/jayan/anaconda3/lib/site-packages/sklearn/utils/validation.py?line=318'>319</a>\u001b[0m     \u001b[39m\"\"\"Check that all arrays have consistent first dimensions.\u001b[39;00m\n\u001b[0;32m    <a href='file:///c%3A/Users/jayan/anaconda3/lib/site-packages/sklearn/utils/validation.py?line=319'>320</a>\u001b[0m \n\u001b[0;32m    <a href='file:///c%3A/Users/jayan/anaconda3/lib/site-packages/sklearn/utils/validation.py?line=320'>321</a>\u001b[0m \u001b[39m    Checks whether all objects in arrays have the same shape or length.\u001b[39;00m\n\u001b[1;32m   (...)\u001b[0m\n\u001b[0;32m    <a href='file:///c%3A/Users/jayan/anaconda3/lib/site-packages/sklearn/utils/validation.py?line=325'>326</a>\u001b[0m \u001b[39m        Objects that will be checked for consistent length.\u001b[39;00m\n\u001b[0;32m    <a href='file:///c%3A/Users/jayan/anaconda3/lib/site-packages/sklearn/utils/validation.py?line=326'>327</a>\u001b[0m \u001b[39m    \"\"\"\u001b[39;00m\n\u001b[1;32m--> <a href='file:///c%3A/Users/jayan/anaconda3/lib/site-packages/sklearn/utils/validation.py?line=328'>329</a>\u001b[0m     lengths \u001b[39m=\u001b[39m [_num_samples(X) \u001b[39mfor\u001b[39;00m X \u001b[39min\u001b[39;00m arrays \u001b[39mif\u001b[39;00m X \u001b[39mis\u001b[39;00m \u001b[39mnot\u001b[39;00m \u001b[39mNone\u001b[39;00m]\n\u001b[0;32m    <a href='file:///c%3A/Users/jayan/anaconda3/lib/site-packages/sklearn/utils/validation.py?line=329'>330</a>\u001b[0m     uniques \u001b[39m=\u001b[39m np\u001b[39m.\u001b[39munique(lengths)\n\u001b[0;32m    <a href='file:///c%3A/Users/jayan/anaconda3/lib/site-packages/sklearn/utils/validation.py?line=330'>331</a>\u001b[0m     \u001b[39mif\u001b[39;00m \u001b[39mlen\u001b[39m(uniques) \u001b[39m>\u001b[39m \u001b[39m1\u001b[39m:\n",
      "File \u001b[1;32mc:\\Users\\jayan\\anaconda3\\lib\\site-packages\\sklearn\\utils\\validation.py:329\u001b[0m, in \u001b[0;36m<listcomp>\u001b[1;34m(.0)\u001b[0m\n\u001b[0;32m    <a href='file:///c%3A/Users/jayan/anaconda3/lib/site-packages/sklearn/utils/validation.py?line=317'>318</a>\u001b[0m \u001b[39mdef\u001b[39;00m \u001b[39mcheck_consistent_length\u001b[39m(\u001b[39m*\u001b[39marrays):\n\u001b[0;32m    <a href='file:///c%3A/Users/jayan/anaconda3/lib/site-packages/sklearn/utils/validation.py?line=318'>319</a>\u001b[0m     \u001b[39m\"\"\"Check that all arrays have consistent first dimensions.\u001b[39;00m\n\u001b[0;32m    <a href='file:///c%3A/Users/jayan/anaconda3/lib/site-packages/sklearn/utils/validation.py?line=319'>320</a>\u001b[0m \n\u001b[0;32m    <a href='file:///c%3A/Users/jayan/anaconda3/lib/site-packages/sklearn/utils/validation.py?line=320'>321</a>\u001b[0m \u001b[39m    Checks whether all objects in arrays have the same shape or length.\u001b[39;00m\n\u001b[1;32m   (...)\u001b[0m\n\u001b[0;32m    <a href='file:///c%3A/Users/jayan/anaconda3/lib/site-packages/sklearn/utils/validation.py?line=325'>326</a>\u001b[0m \u001b[39m        Objects that will be checked for consistent length.\u001b[39;00m\n\u001b[0;32m    <a href='file:///c%3A/Users/jayan/anaconda3/lib/site-packages/sklearn/utils/validation.py?line=326'>327</a>\u001b[0m \u001b[39m    \"\"\"\u001b[39;00m\n\u001b[1;32m--> <a href='file:///c%3A/Users/jayan/anaconda3/lib/site-packages/sklearn/utils/validation.py?line=328'>329</a>\u001b[0m     lengths \u001b[39m=\u001b[39m [_num_samples(X) \u001b[39mfor\u001b[39;00m X \u001b[39min\u001b[39;00m arrays \u001b[39mif\u001b[39;00m X \u001b[39mis\u001b[39;00m \u001b[39mnot\u001b[39;00m \u001b[39mNone\u001b[39;00m]\n\u001b[0;32m    <a href='file:///c%3A/Users/jayan/anaconda3/lib/site-packages/sklearn/utils/validation.py?line=329'>330</a>\u001b[0m     uniques \u001b[39m=\u001b[39m np\u001b[39m.\u001b[39munique(lengths)\n\u001b[0;32m    <a href='file:///c%3A/Users/jayan/anaconda3/lib/site-packages/sklearn/utils/validation.py?line=330'>331</a>\u001b[0m     \u001b[39mif\u001b[39;00m \u001b[39mlen\u001b[39m(uniques) \u001b[39m>\u001b[39m \u001b[39m1\u001b[39m:\n",
      "File \u001b[1;32mc:\\Users\\jayan\\anaconda3\\lib\\site-packages\\sklearn\\utils\\validation.py:269\u001b[0m, in \u001b[0;36m_num_samples\u001b[1;34m(x)\u001b[0m\n\u001b[0;32m    <a href='file:///c%3A/Users/jayan/anaconda3/lib/site-packages/sklearn/utils/validation.py?line=266'>267</a>\u001b[0m \u001b[39mif\u001b[39;00m \u001b[39mhasattr\u001b[39m(x, \u001b[39m\"\u001b[39m\u001b[39mshape\u001b[39m\u001b[39m\"\u001b[39m) \u001b[39mand\u001b[39;00m x\u001b[39m.\u001b[39mshape \u001b[39mis\u001b[39;00m \u001b[39mnot\u001b[39;00m \u001b[39mNone\u001b[39;00m:\n\u001b[0;32m    <a href='file:///c%3A/Users/jayan/anaconda3/lib/site-packages/sklearn/utils/validation.py?line=267'>268</a>\u001b[0m     \u001b[39mif\u001b[39;00m \u001b[39mlen\u001b[39m(x\u001b[39m.\u001b[39mshape) \u001b[39m==\u001b[39m \u001b[39m0\u001b[39m:\n\u001b[1;32m--> <a href='file:///c%3A/Users/jayan/anaconda3/lib/site-packages/sklearn/utils/validation.py?line=268'>269</a>\u001b[0m         \u001b[39mraise\u001b[39;00m \u001b[39mTypeError\u001b[39;00m(\n\u001b[0;32m    <a href='file:///c%3A/Users/jayan/anaconda3/lib/site-packages/sklearn/utils/validation.py?line=269'>270</a>\u001b[0m             \u001b[39m\"\u001b[39m\u001b[39mSingleton array \u001b[39m\u001b[39m%r\u001b[39;00m\u001b[39m cannot be considered a valid collection.\u001b[39m\u001b[39m\"\u001b[39m \u001b[39m%\u001b[39m x\n\u001b[0;32m    <a href='file:///c%3A/Users/jayan/anaconda3/lib/site-packages/sklearn/utils/validation.py?line=270'>271</a>\u001b[0m         )\n\u001b[0;32m    <a href='file:///c%3A/Users/jayan/anaconda3/lib/site-packages/sklearn/utils/validation.py?line=271'>272</a>\u001b[0m     \u001b[39m# Check that shape is returning an integer or default to len\u001b[39;00m\n\u001b[0;32m    <a href='file:///c%3A/Users/jayan/anaconda3/lib/site-packages/sklearn/utils/validation.py?line=272'>273</a>\u001b[0m     \u001b[39m# Dask dataframes may not return numeric shape[0] value\u001b[39;00m\n\u001b[0;32m    <a href='file:///c%3A/Users/jayan/anaconda3/lib/site-packages/sklearn/utils/validation.py?line=273'>274</a>\u001b[0m     \u001b[39mif\u001b[39;00m \u001b[39misinstance\u001b[39m(x\u001b[39m.\u001b[39mshape[\u001b[39m0\u001b[39m], numbers\u001b[39m.\u001b[39mIntegral):\n",
      "\u001b[1;31mTypeError\u001b[0m: Singleton array 583 cannot be considered a valid collection."
     ]
    }
   ],
   "source": [
    "# Confusion matrix\n",
    "import seaborn as sns\n",
    "# Predict the values from the validation dataset\n",
    "y_pred = model.predict(X_test)\n",
    "# Convert predictions classes to one hot vectors\n",
    "y_pred_classes = np.argmax(y_pred, axis=1)\n",
    "# Convert validation ovservations to one hot vectors\n",
    "y_true = np.argmax(y_test, axis=1)\n",
    "# compute the confusion matrix\n",
    "confusion_mtx = confusion_matrix(y_true, y_pred_classes)\n",
    "# plt the confusion matrix\n",
    "f, ax = plt.subplots(figsize=(8, 8))\n",
    "sns.heatmap(confusion_mtx, annot=True, linewidths=0.01, cmap='Greens', linecolor='gray', fmt='.1f', ax=ax)\n",
    "plt.xlabel('Predicted Label')\n",
    "plt.ylabel('True Label')\n",
    "plt.title('Confusion Matrix')\n",
    "plt.show()"
   ]
  },
  {
   "cell_type": "code",
   "execution_count": 78,
   "metadata": {},
   "outputs": [
    {
     "name": "stdout",
     "output_type": "stream",
     "text": [
      "Train: 0.003, Test: 0.003\n"
     ]
    }
   ],
   "source": [
    "# evaluate the model\n",
    "train_mse = model.evaluate(X_train, y_train, verbose=0)\n",
    "test_mse = model.evaluate(X_test, y_test, verbose=0)\n",
    "print('Train: %.3f, Test: %.3f' % (train_mse[1], test_mse[1]))"
   ]
  }
 ],
 "metadata": {
  "interpreter": {
   "hash": "51d2dbc107e90016ff58d506d19dfa66132cafa2ebfedbf9f4d98cf0f5094b18"
  },
  "kernelspec": {
   "display_name": "Python 3.9.12 ('base')",
   "language": "python",
   "name": "python3"
  },
  "language_info": {
   "codemirror_mode": {
    "name": "ipython",
    "version": 3
   },
   "file_extension": ".py",
   "mimetype": "text/x-python",
   "name": "python",
   "nbconvert_exporter": "python",
   "pygments_lexer": "ipython3",
   "version": "3.9.12"
  },
  "orig_nbformat": 4
 },
 "nbformat": 4,
 "nbformat_minor": 2
}
