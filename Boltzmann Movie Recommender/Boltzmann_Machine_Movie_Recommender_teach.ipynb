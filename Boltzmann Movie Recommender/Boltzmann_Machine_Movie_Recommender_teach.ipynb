{
  "cells": [
    {
      "cell_type": "markdown",
      "metadata": {
        "id": "yIdxXSjHZnyC"
      },
      "source": [
        "### 1. Problem statement: \n",
        " - A large amount of movie rating data is given to build an RBM.   \n",
        " - The task is to predict if a user likes a movie as 1 or dislike as 0.\n",
        " - This notebook creates a feasbility model using RBM"
      ]
    },
    {
      "cell_type": "markdown",
      "metadata": {
        "id": "JbOxkkd8ZnyE"
      },
      "source": [
        "### 2. Import libraries"
      ]
    },
    {
      "cell_type": "code",
      "execution_count": 1,
      "metadata": {
        "id": "9IHkOqu6ZnyF"
      },
      "outputs": [],
      "source": [
        "import numpy as np\n",
        "import pandas as pd\n",
        "import torch\n",
        "\n",
        "import torch.nn.parallel\n",
        "\n",
        "import torch.utils.data\n"
      ]
    },
    {
      "cell_type": "markdown",
      "metadata": {
        "id": "4fDNuJt7ZnyG"
      },
      "source": [
        "### 2. Read data"
      ]
    },
    {
      "cell_type": "code",
      "execution_count": 2,
      "metadata": {
        "id": "G1Q3QX8eZnyG",
        "scrolled": true
      },
      "outputs": [],
      "source": [
        "##import dataset\n",
        "movies = pd.read_csv('movies.dat', sep = '::',header = None, engine = 'python',\n",
        "                     encoding = 'latin-1')\n",
        "users =pd.read_csv('users.dat', sep = '::', header = None, engine = 'python',\n",
        "                     encoding = 'latin-1')\n",
        "ratings =pd.read_csv('ratings.dat', sep = '::', header = None, engine = 'python',\n",
        "                     encoding = 'latin-1')"
      ]
    },
    {
      "cell_type": "code",
      "execution_count": 3,
      "metadata": {
        "colab": {
          "base_uri": "https://localhost:8080/",
          "height": 206
        },
        "id": "Rh2nQJWlZnyH",
        "outputId": "e28c162a-e3cc-4b1c-9171-373e5adf7a30",
        "scrolled": true
      },
      "outputs": [
        {
          "data": {
            "text/html": [
              "<div>\n",
              "<style scoped>\n",
              "    .dataframe tbody tr th:only-of-type {\n",
              "        vertical-align: middle;\n",
              "    }\n",
              "\n",
              "    .dataframe tbody tr th {\n",
              "        vertical-align: top;\n",
              "    }\n",
              "\n",
              "    .dataframe thead th {\n",
              "        text-align: right;\n",
              "    }\n",
              "</style>\n",
              "<table border=\"1\" class=\"dataframe\">\n",
              "  <thead>\n",
              "    <tr style=\"text-align: right;\">\n",
              "      <th></th>\n",
              "      <th>0</th>\n",
              "      <th>1</th>\n",
              "      <th>2</th>\n",
              "    </tr>\n",
              "  </thead>\n",
              "  <tbody>\n",
              "    <tr>\n",
              "      <th>0</th>\n",
              "      <td>1</td>\n",
              "      <td>Toy Story (1995)</td>\n",
              "      <td>Animation|Children's|Comedy</td>\n",
              "    </tr>\n",
              "    <tr>\n",
              "      <th>1</th>\n",
              "      <td>2</td>\n",
              "      <td>Jumanji (1995)</td>\n",
              "      <td>Adventure|Children's|Fantasy</td>\n",
              "    </tr>\n",
              "    <tr>\n",
              "      <th>2</th>\n",
              "      <td>3</td>\n",
              "      <td>Grumpier Old Men (1995)</td>\n",
              "      <td>Comedy|Romance</td>\n",
              "    </tr>\n",
              "    <tr>\n",
              "      <th>3</th>\n",
              "      <td>4</td>\n",
              "      <td>Waiting to Exhale (1995)</td>\n",
              "      <td>Comedy|Drama</td>\n",
              "    </tr>\n",
              "    <tr>\n",
              "      <th>4</th>\n",
              "      <td>5</td>\n",
              "      <td>Father of the Bride Part II (1995)</td>\n",
              "      <td>Comedy</td>\n",
              "    </tr>\n",
              "  </tbody>\n",
              "</table>\n",
              "</div>"
            ],
            "text/plain": [
              "   0                                   1                             2\n",
              "0  1                    Toy Story (1995)   Animation|Children's|Comedy\n",
              "1  2                      Jumanji (1995)  Adventure|Children's|Fantasy\n",
              "2  3             Grumpier Old Men (1995)                Comedy|Romance\n",
              "3  4            Waiting to Exhale (1995)                  Comedy|Drama\n",
              "4  5  Father of the Bride Part II (1995)                        Comedy"
            ]
          },
          "execution_count": 3,
          "metadata": {},
          "output_type": "execute_result"
        }
      ],
      "source": [
        "movies.head()"
      ]
    },
    {
      "cell_type": "code",
      "execution_count": 4,
      "metadata": {
        "colab": {
          "base_uri": "https://localhost:8080/",
          "height": 206
        },
        "id": "SjJ7HeEBZnyJ",
        "outputId": "797dcaa2-d7c7-443a-943f-820d995e1d79",
        "scrolled": true
      },
      "outputs": [
        {
          "data": {
            "text/html": [
              "<div>\n",
              "<style scoped>\n",
              "    .dataframe tbody tr th:only-of-type {\n",
              "        vertical-align: middle;\n",
              "    }\n",
              "\n",
              "    .dataframe tbody tr th {\n",
              "        vertical-align: top;\n",
              "    }\n",
              "\n",
              "    .dataframe thead th {\n",
              "        text-align: right;\n",
              "    }\n",
              "</style>\n",
              "<table border=\"1\" class=\"dataframe\">\n",
              "  <thead>\n",
              "    <tr style=\"text-align: right;\">\n",
              "      <th></th>\n",
              "      <th>0</th>\n",
              "      <th>1</th>\n",
              "      <th>2</th>\n",
              "      <th>3</th>\n",
              "      <th>4</th>\n",
              "    </tr>\n",
              "  </thead>\n",
              "  <tbody>\n",
              "    <tr>\n",
              "      <th>0</th>\n",
              "      <td>1</td>\n",
              "      <td>F</td>\n",
              "      <td>1</td>\n",
              "      <td>10</td>\n",
              "      <td>48067</td>\n",
              "    </tr>\n",
              "    <tr>\n",
              "      <th>1</th>\n",
              "      <td>2</td>\n",
              "      <td>M</td>\n",
              "      <td>56</td>\n",
              "      <td>16</td>\n",
              "      <td>70072</td>\n",
              "    </tr>\n",
              "    <tr>\n",
              "      <th>2</th>\n",
              "      <td>3</td>\n",
              "      <td>M</td>\n",
              "      <td>25</td>\n",
              "      <td>15</td>\n",
              "      <td>55117</td>\n",
              "    </tr>\n",
              "    <tr>\n",
              "      <th>3</th>\n",
              "      <td>4</td>\n",
              "      <td>M</td>\n",
              "      <td>45</td>\n",
              "      <td>7</td>\n",
              "      <td>02460</td>\n",
              "    </tr>\n",
              "    <tr>\n",
              "      <th>4</th>\n",
              "      <td>5</td>\n",
              "      <td>M</td>\n",
              "      <td>25</td>\n",
              "      <td>20</td>\n",
              "      <td>55455</td>\n",
              "    </tr>\n",
              "  </tbody>\n",
              "</table>\n",
              "</div>"
            ],
            "text/plain": [
              "   0  1   2   3      4\n",
              "0  1  F   1  10  48067\n",
              "1  2  M  56  16  70072\n",
              "2  3  M  25  15  55117\n",
              "3  4  M  45   7  02460\n",
              "4  5  M  25  20  55455"
            ]
          },
          "execution_count": 4,
          "metadata": {},
          "output_type": "execute_result"
        }
      ],
      "source": [
        "users.head()"
      ]
    },
    {
      "cell_type": "code",
      "execution_count": 5,
      "metadata": {
        "colab": {
          "base_uri": "https://localhost:8080/",
          "height": 206
        },
        "id": "2xciqKxrZnyJ",
        "outputId": "bf4edd2b-2c2d-4f8a-dc04-3affe659d5f7",
        "scrolled": true
      },
      "outputs": [
        {
          "data": {
            "text/html": [
              "<div>\n",
              "<style scoped>\n",
              "    .dataframe tbody tr th:only-of-type {\n",
              "        vertical-align: middle;\n",
              "    }\n",
              "\n",
              "    .dataframe tbody tr th {\n",
              "        vertical-align: top;\n",
              "    }\n",
              "\n",
              "    .dataframe thead th {\n",
              "        text-align: right;\n",
              "    }\n",
              "</style>\n",
              "<table border=\"1\" class=\"dataframe\">\n",
              "  <thead>\n",
              "    <tr style=\"text-align: right;\">\n",
              "      <th></th>\n",
              "      <th>0</th>\n",
              "      <th>1</th>\n",
              "      <th>2</th>\n",
              "      <th>3</th>\n",
              "    </tr>\n",
              "  </thead>\n",
              "  <tbody>\n",
              "    <tr>\n",
              "      <th>0</th>\n",
              "      <td>1</td>\n",
              "      <td>1193</td>\n",
              "      <td>5</td>\n",
              "      <td>978300760</td>\n",
              "    </tr>\n",
              "    <tr>\n",
              "      <th>1</th>\n",
              "      <td>1</td>\n",
              "      <td>661</td>\n",
              "      <td>3</td>\n",
              "      <td>978302109</td>\n",
              "    </tr>\n",
              "    <tr>\n",
              "      <th>2</th>\n",
              "      <td>1</td>\n",
              "      <td>914</td>\n",
              "      <td>3</td>\n",
              "      <td>978301968</td>\n",
              "    </tr>\n",
              "    <tr>\n",
              "      <th>3</th>\n",
              "      <td>1</td>\n",
              "      <td>3408</td>\n",
              "      <td>4</td>\n",
              "      <td>978300275</td>\n",
              "    </tr>\n",
              "    <tr>\n",
              "      <th>4</th>\n",
              "      <td>1</td>\n",
              "      <td>2355</td>\n",
              "      <td>5</td>\n",
              "      <td>978824291</td>\n",
              "    </tr>\n",
              "  </tbody>\n",
              "</table>\n",
              "</div>"
            ],
            "text/plain": [
              "   0     1  2          3\n",
              "0  1  1193  5  978300760\n",
              "1  1   661  3  978302109\n",
              "2  1   914  3  978301968\n",
              "3  1  3408  4  978300275\n",
              "4  1  2355  5  978824291"
            ]
          },
          "execution_count": 5,
          "metadata": {},
          "output_type": "execute_result"
        }
      ],
      "source": [
        "ratings.head()"
      ]
    },
    {
      "cell_type": "markdown",
      "metadata": {
        "id": "mVCFWwBIZnyK"
      },
      "source": [
        "### 3. Read train and test sets"
      ]
    },
    {
      "cell_type": "markdown",
      "metadata": {
        "id": "W6YQ4BSPZnyK"
      },
      "source": [
        "training_set includes: user ID, movie ID, rating, timestampes"
      ]
    },
    {
      "cell_type": "code",
      "execution_count": 7,
      "metadata": {
        "id": "cMn3U2ZcZnyL"
      },
      "outputs": [],
      "source": [
        "##create training and test set data\n",
        "training_set = pd.read_csv('u1.base', delimiter = '\\t', header = None)\n",
        "##convert it to array\n",
        "training_set = np.array(training_set, dtype = 'int')\n",
        "\n",
        "test_set = pd.read_csv('u1.test', delimiter = '\\t', header = None)\n",
        "##convert it to array\n",
        "test_set = np.array(test_set, dtype = 'int')"
      ]
    },
    {
      "cell_type": "code",
      "execution_count": 8,
      "metadata": {
        "colab": {
          "base_uri": "https://localhost:8080/"
        },
        "id": "7YIwZ1dUZnyL",
        "outputId": "3b2555c3-0ce0-4acc-8f7b-1945983d3892"
      },
      "outputs": [
        {
          "data": {
            "text/plain": [
              "array([[        1,         1,         5, 874965758],\n",
              "       [        1,         2,         3, 876893171],\n",
              "       [        1,         3,         4, 878542960],\n",
              "       ...,\n",
              "       [      943,      1188,         3, 888640250],\n",
              "       [      943,      1228,         3, 888640275],\n",
              "       [      943,      1330,         3, 888692465]])"
            ]
          },
          "execution_count": 8,
          "metadata": {},
          "output_type": "execute_result"
        }
      ],
      "source": [
        "training_set"
      ]
    },
    {
      "cell_type": "code",
      "execution_count": 9,
      "metadata": {
        "colab": {
          "base_uri": "https://localhost:8080/"
        },
        "id": "9npooYu0ZnyM",
        "outputId": "857a8b3a-2568-4752-966c-81b57cb89cb2"
      },
      "outputs": [
        {
          "data": {
            "text/plain": [
              "array([[        1,         6,         5, 887431973],\n",
              "       [        1,        10,         3, 875693118],\n",
              "       [        1,        12,         5, 878542960],\n",
              "       ...,\n",
              "       [      459,       934,         3, 879563639],\n",
              "       [      460,        10,         3, 882912371],\n",
              "       [      462,       682,         5, 886365231]])"
            ]
          },
          "execution_count": 9,
          "metadata": {},
          "output_type": "execute_result"
        }
      ],
      "source": [
        "test_set"
      ]
    },
    {
      "cell_type": "markdown",
      "metadata": {
        "id": "KjETNbkqZnyM"
      },
      "source": [
        "### 4. Data structure creation"
      ]
    },
    {
      "cell_type": "code",
      "execution_count": 10,
      "metadata": {
        "id": "IrZ76XdKZnyM"
      },
      "outputs": [],
      "source": [
        "#take max users id in train and test data\n",
        "nb_users = int(max(max(training_set[:, 0]), max(test_set[:, 0])))\n",
        "nb_movies =  int(max(max(training_set[:, 1]), max(test_set[:, 1])))"
      ]
    },
    {
      "cell_type": "code",
      "execution_count": 11,
      "metadata": {
        "colab": {
          "base_uri": "https://localhost:8080/"
        },
        "id": "FfXnRfGqZnyN",
        "outputId": "3f196cfe-94e7-4f0a-bdc8-78381ac7ea19"
      },
      "outputs": [
        {
          "data": {
            "text/plain": [
              "(943, 1682)"
            ]
          },
          "execution_count": 11,
          "metadata": {},
          "output_type": "execute_result"
        }
      ],
      "source": [
        "nb_users, nb_movies"
      ]
    },
    {
      "cell_type": "code",
      "execution_count": 12,
      "metadata": {
        "id": "dAvr3LfyZnyN"
      },
      "outputs": [],
      "source": [
        "def convert(data):\n",
        "    new_data = []\n",
        "    for id_users in range(1, nb_users + 1):\n",
        "        ##id of movies that is rated by current users\n",
        "        id_movies = data[:,1][data[:,0] == id_users]\n",
        "        \n",
        "        ##rate of movies that is given by current user\n",
        "        id_ratings = data[:,2][data[:,0] == id_users]\n",
        "        \n",
        "        #inialize ratings for all movies\n",
        "        #set 0 for movies that are not rated by current users\n",
        "        ratings = np.zeros(nb_movies)\n",
        "        #movie id starts from 1, 1st movie will be 1st element in rating with index as 0\n",
        "        ratings[id_movies - 1] = id_ratings\n",
        "        new_data.append(list(ratings))\n",
        "    return new_data"
      ]
    },
    {
      "cell_type": "code",
      "execution_count": 13,
      "metadata": {
        "id": "12V3g5KOZnyO"
      },
      "outputs": [],
      "source": [
        "training_set = convert(training_set)\n",
        "test_set = convert(test_set)"
      ]
    },
    {
      "cell_type": "code",
      "execution_count": 14,
      "metadata": {
        "colab": {
          "base_uri": "https://localhost:8080/"
        },
        "id": "l1j0MH_cZnyO",
        "outputId": "eec1eea4-40c1-4103-8b0a-8a9281fea0d4"
      },
      "outputs": [
        {
          "data": {
            "text/plain": [
              "(943, 1682)"
            ]
          },
          "execution_count": 14,
          "metadata": {},
          "output_type": "execute_result"
        }
      ],
      "source": [
        "len(training_set), len(training_set[0])"
      ]
    },
    {
      "cell_type": "markdown",
      "metadata": {
        "id": "FNXOysc2ZnyP"
      },
      "source": [
        "#### 4.1 Convert data into Torch tensor"
      ]
    },
    {
      "cell_type": "code",
      "execution_count": 15,
      "metadata": {
        "id": "jnW7jKRtZnyP"
      },
      "outputs": [],
      "source": [
        "training_set = torch.FloatTensor(training_set)\n",
        "test_set = torch.FloatTensor(test_set)"
      ]
    },
    {
      "cell_type": "code",
      "execution_count": 16,
      "metadata": {
        "colab": {
          "base_uri": "https://localhost:8080/"
        },
        "id": "xJo2WM2qZnyP",
        "outputId": "ff48a307-4cd3-4e1a-81e6-a11eca79753b"
      },
      "outputs": [
        {
          "data": {
            "text/plain": [
              "tensor([[5., 3., 4.,  ..., 0., 0., 0.],\n",
              "        [4., 0., 0.,  ..., 0., 0., 0.],\n",
              "        [0., 0., 0.,  ..., 0., 0., 0.],\n",
              "        ...,\n",
              "        [5., 0., 0.,  ..., 0., 0., 0.],\n",
              "        [0., 0., 0.,  ..., 0., 0., 0.],\n",
              "        [0., 5., 0.,  ..., 0., 0., 0.]])"
            ]
          },
          "execution_count": 16,
          "metadata": {},
          "output_type": "execute_result"
        }
      ],
      "source": [
        "training_set"
      ]
    },
    {
      "cell_type": "code",
      "execution_count": 17,
      "metadata": {
        "colab": {
          "base_uri": "https://localhost:8080/"
        },
        "id": "IyY72SbrZnyQ",
        "outputId": "f11255ad-dbbf-4487-f7cd-2bbcbfe5aa2f"
      },
      "outputs": [
        {
          "data": {
            "text/plain": [
              "tensor([[0., 0., 0.,  ..., 0., 0., 0.],\n",
              "        [0., 0., 0.,  ..., 0., 0., 0.],\n",
              "        [0., 0., 0.,  ..., 0., 0., 0.],\n",
              "        ...,\n",
              "        [0., 0., 0.,  ..., 0., 0., 0.],\n",
              "        [0., 0., 0.,  ..., 0., 0., 0.],\n",
              "        [0., 0., 0.,  ..., 0., 0., 0.]])"
            ]
          },
          "execution_count": 17,
          "metadata": {},
          "output_type": "execute_result"
        }
      ],
      "source": [
        "test_set"
      ]
    },
    {
      "cell_type": "markdown",
      "metadata": {
        "id": "Am95CIW8ZnyQ"
      },
      "source": [
        "#### 4.2 Binary data conversion"
      ]
    },
    {
      "cell_type": "markdown",
      "metadata": {
        "id": "__Pq4v8lZnyQ"
      },
      "source": [
        "- convert rating 1-5 to binary 1 or 0, as the target is to predict like or not\n",
        "- if not rated, set to 0\n",
        "- if rate is 1 or 2, set as 0 dislike\n",
        "- if rate is >= 3, set as 1 like"
      ]
    },
    {
      "cell_type": "code",
      "execution_count": 18,
      "metadata": {
        "id": "gWRubXNFZnyR"
      },
      "outputs": [],
      "source": [
        "##so this is to make input and output data consistent\n",
        "training_set[training_set == 0] = -1\n",
        "training_set[training_set == 1] = 0\n",
        "training_set[training_set == 2] = 0\n",
        "training_set[training_set >= 3] = 1\n",
        "\n",
        "test_set[test_set == 0] = -1\n",
        "test_set[test_set == 1] = 0\n",
        "test_set[test_set == 2] = 0\n",
        "test_set[test_set >= 3] = 1"
      ]
    },
    {
      "cell_type": "code",
      "execution_count": 19,
      "metadata": {
        "colab": {
          "base_uri": "https://localhost:8080/"
        },
        "id": "uMzQJsMGZnyR",
        "outputId": "f7f00642-9325-4b1c-dade-9a64cc76c6c5"
      },
      "outputs": [
        {
          "data": {
            "text/plain": [
              "tensor([[ 1.,  1.,  1.,  ..., -1., -1., -1.],\n",
              "        [ 1., -1., -1.,  ..., -1., -1., -1.],\n",
              "        [-1., -1., -1.,  ..., -1., -1., -1.],\n",
              "        ...,\n",
              "        [ 1., -1., -1.,  ..., -1., -1., -1.],\n",
              "        [-1., -1., -1.,  ..., -1., -1., -1.],\n",
              "        [-1.,  1., -1.,  ..., -1., -1., -1.]])"
            ]
          },
          "execution_count": 19,
          "metadata": {},
          "output_type": "execute_result"
        }
      ],
      "source": [
        "training_set"
      ]
    },
    {
      "cell_type": "code",
      "execution_count": 20,
      "metadata": {
        "colab": {
          "base_uri": "https://localhost:8080/"
        },
        "id": "RczaYp8PZnyR",
        "outputId": "ccda404c-c92b-49e9-a173-938e9de42f01"
      },
      "outputs": [
        {
          "data": {
            "text/plain": [
              "tensor([[-1., -1., -1.,  ..., -1., -1., -1.],\n",
              "        [-1., -1., -1.,  ..., -1., -1., -1.],\n",
              "        [-1., -1., -1.,  ..., -1., -1., -1.],\n",
              "        ...,\n",
              "        [-1., -1., -1.,  ..., -1., -1., -1.],\n",
              "        [-1., -1., -1.,  ..., -1., -1., -1.],\n",
              "        [-1., -1., -1.,  ..., -1., -1., -1.]])"
            ]
          },
          "execution_count": 20,
          "metadata": {},
          "output_type": "execute_result"
        }
      ],
      "source": [
        "test_set"
      ]
    },
    {
      "cell_type": "markdown",
      "metadata": {
        "id": "WH8UNnwrZnyS"
      },
      "source": [
        "### 5. RBM architecture creation"
      ]
    },
    {
      "cell_type": "markdown",
      "metadata": {
        "id": "1a_Rf0PaZnyS"
      },
      "source": [
        "create the architecture of the neural networks"
      ]
    },
    {
      "cell_type": "code",
      "execution_count": 21,
      "metadata": {
        "id": "AF7_UsCZZnyS"
      },
      "outputs": [],
      "source": [
        "class RBM():\n",
        "    def __init__(self, nv, nh):\n",
        "        ##initialize all weights \n",
        "        ##a tensor with size of nh, nv in normal dis mean 0 var 1\n",
        "        self.W = torch.randn(nh, nv)\n",
        "        #bias for hidden nodes\n",
        "        #1st dimension is batch, 2nd is num of hidden nodes\n",
        "        self.a = torch.randn(1, nh)\n",
        "        #bias for visible nodes\n",
        "        self.b = torch.randn(1, nv)\n",
        "    #activate the hidden nodes by sampling all hiddens node, given values of visible nodes \n",
        "    def sample_h(self, x):\n",
        "        #x is values of visible nodes\n",
        "        #probablity of hiddens h to be activated, given values of visible  nodes v\n",
        "        wx = torch.mm(x, self.W.t())\n",
        "        #use sigmoid fuc to activate visible node\n",
        "        ## a is bias for hidden nodes\n",
        "        activation = wx + self.a.expand_as(wx)\n",
        "        ##ith of the vector is the probability of ith hidden nodes to be activated, \n",
        "        ##given visible values\n",
        "        p_h_given_v =torch.sigmoid(activation)\n",
        "        #samples of all hiddens nodes\n",
        "        return p_h_given_v, torch.bernoulli(p_h_given_v)\n",
        "    def sample_v(self, y):\n",
        "        #y is hidden nodes\n",
        "        #probablity of visible h to be activated, given hidden  nodes v\n",
        "        wy = torch.mm(y, self.W)\n",
        "        #use sigmoid fuc to activate hiddens nodes\n",
        "        activation = wy + self.b.expand_as(wy)\n",
        "        ##ith of the vector is the probability of ith visible nodes to be activated, \n",
        "        ##given hidden values\n",
        "        p_v_given_h =torch.sigmoid(activation)\n",
        "        #samples of all hiddens nodes\n",
        "        return p_v_given_h, torch.bernoulli(p_v_given_h)\n",
        "        \n",
        "    #visible nodes after kth interation\n",
        "    #probablity of hidden nodes after kth iteration\n",
        "    def train(self, v0, vk, ph0, phk):\n",
        "#         self.W += torch.mm(v0.t(), ph0) - torch.mm(vk.t(), phk)\n",
        "        self.W += (torch.mm(v0.t(), ph0) - torch.mm(vk.t(), phk)).t()\n",
        "#         self.W += torch.mm(v0.t(), ph0) - torch.mm(vk.t(), phk)\n",
        "        #add zero to keep b as a tensor of 2 dimension\n",
        "        self.b += torch.sum((v0 - vk), 0)\n",
        "        self.a += torch.sum((ph0 - phk), 0)"
      ]
    },
    {
      "cell_type": "markdown",
      "metadata": {
        "id": "iqfl_G2OZnyT"
      },
      "source": [
        "#### 5.1 Initialize RBM object"
      ]
    },
    {
      "cell_type": "code",
      "execution_count": 22,
      "metadata": {
        "id": "0Z17TOi9ZnyT"
      },
      "outputs": [],
      "source": [
        "#number of movies\n",
        "nv = len(training_set[0])\n",
        "#number of hidden nodes or num of features\n",
        "nh = 100\n",
        "batch_size = 100\n",
        "rbm = RBM(nv, nh)"
      ]
    },
    {
      "cell_type": "markdown",
      "metadata": {
        "id": "v7Vb-r8iZnyT"
      },
      "source": [
        "### 6. Model training"
      ]
    },
    {
      "cell_type": "code",
      "execution_count": 23,
      "metadata": {
        "colab": {
          "base_uri": "https://localhost:8080/"
        },
        "id": "BUv8bL8fZnyU",
        "outputId": "55bf0d51-ccc4-4eea-a404-eacede863a20"
      },
      "outputs": [
        {
          "name": "stdout",
          "output_type": "stream",
          "text": [
            "epoch: 1 loss: tensor(0.3166)\n",
            "epoch: 2 loss: tensor(0.1423)\n",
            "epoch: 3 loss: tensor(0.1526)\n",
            "epoch: 4 loss: tensor(0.1487)\n",
            "epoch: 5 loss: tensor(0.1485)\n",
            "epoch: 6 loss: tensor(0.1485)\n",
            "epoch: 7 loss: tensor(0.1498)\n",
            "epoch: 8 loss: tensor(0.1501)\n",
            "epoch: 9 loss: tensor(0.1499)\n",
            "epoch: 10 loss: tensor(0.1492)\n"
          ]
        }
      ],
      "source": [
        "nb_epoch = 10\n",
        "for epoch in range(1, nb_epoch+1):\n",
        "    ##loss function\n",
        "    train_loss = 0\n",
        "    #normalize the loss, define a counter\n",
        "    s = 0.\n",
        "    #implement a batch learning, \n",
        "    for id_user in range(0, nb_users - batch_size, 100):\n",
        "        #input batch values\n",
        "        vk = training_set[id_user: id_user+batch_size]\n",
        "        #target used for loss mesarue: rating \n",
        "        v0 = training_set[id_user: id_user+batch_size]\n",
        "        ##initilize probablity\n",
        "        #pho: given real rating at begining, probablity of hidden nodes\n",
        "        ph0, _ = rbm.sample_h(v0)\n",
        "        #k step of constrative divergence\n",
        "        for k in range(10):\n",
        "            _, hk = rbm.sample_h(vk)\n",
        "            _, vk = rbm.sample_v(hk)\n",
        "            #training on rating that do exist, rating as -1\n",
        "            vk[v0<0] = v0[v0<0]\n",
        "        phk, _ = rbm.sample_h(vk)\n",
        "        #update weights and bias\n",
        "        rbm.train(v0, vk, ph0, phk)\n",
        "        #update train loss\n",
        "        train_loss += torch.mean(torch.abs(v0[v0>0]-vk[v0>0]))\n",
        "        s += 1\n",
        "    print('epoch: '+str(epoch)+' loss: '+str(train_loss/s))"
      ]
    },
    {
      "cell_type": "markdown",
      "metadata": {
        "id": "fkaEKLBkZnyU"
      },
      "source": [
        "### 7. Test RBM   "
      ]
    },
    {
      "cell_type": "code",
      "execution_count": 24,
      "metadata": {
        "id": "Vbwnuc3SZnyV"
      },
      "outputs": [],
      "source": [
        "##loss function\n",
        "test_loss = 0\n",
        "#normalize the loss, define a counter\n",
        "s = 0.\n",
        "#implement a batch learning, \n",
        "for id_user in range(0, nb_users):\n",
        "    #use input of train set to activate RBM\n",
        "    v_input = training_set[id_user: id_user+1]\n",
        "    #target used for loss mesarue: rating \n",
        "    v_target = test_set[id_user: id_user+1]\n",
        "    #use only 1 step to make better prediction, though used 10 steps to train\n",
        "    if len(v_target[v_target>=0]):\n",
        "        _, h = rbm.sample_h(v_input)\n",
        "        _, v_input = rbm.sample_v(h)\n",
        "        #update test loss\n",
        "        test_loss += torch.mean(torch.abs(v_target[v_target>0]-v_input[v_target>0]))\n",
        "        s += 1"
      ]
    },
    {
      "cell_type": "code",
      "execution_count": 25,
      "metadata": {
        "colab": {
          "base_uri": "https://localhost:8080/"
        },
        "id": "rm6nYaFIZnyV",
        "outputId": "f2f75c31-93c7-47b9-f156-6d4b55686957"
      },
      "outputs": [
        {
          "name": "stdout",
          "output_type": "stream",
          "text": [
            "test loss: tensor(0.1546)\n"
          ]
        }
      ],
      "source": [
        "print('test loss: ' +str(test_loss/s))"
      ]
    }
  ],
  "metadata": {
    "colab": {
      "name": "8_Boltzmann_Machine_Movie_Recommender_teach.ipynb",
      "provenance": []
    },
    "kernelspec": {
      "display_name": "Python 3.9.12 ('base')",
      "language": "python",
      "name": "python3"
    },
    "language_info": {
      "codemirror_mode": {
        "name": "ipython",
        "version": 3
      },
      "file_extension": ".py",
      "mimetype": "text/x-python",
      "name": "python",
      "nbconvert_exporter": "python",
      "pygments_lexer": "ipython3",
      "version": "3.9.12"
    },
    "vscode": {
      "interpreter": {
        "hash": "51d2dbc107e90016ff58d506d19dfa66132cafa2ebfedbf9f4d98cf0f5094b18"
      }
    }
  },
  "nbformat": 4,
  "nbformat_minor": 0
}
