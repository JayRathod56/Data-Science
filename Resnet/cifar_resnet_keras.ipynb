{
 "cells": [
  {
   "cell_type": "code",
   "execution_count": 1,
   "metadata": {},
   "outputs": [],
   "source": [
    "import keras\n",
    "from keras.datasets import cifar10\n",
    "from keras.models import Model, Sequential\n",
    "from keras.layers import Dense, Dropout, Flatten, Input, AveragePooling2D,Activation, SpatialDropout2D\n",
    "from keras.layers import Conv2D, MaxPooling2D, BatchNormalization, SeparableConv2D\n",
    "from keras.layers import Concatenate\n",
    "from tensorflow.keras.optimizers import Adam, RMSprop, SGD\n",
    "from keras import regularizers\n",
    "import tensorflow as tf"
   ]
  },
  {
   "cell_type": "code",
   "execution_count": 2,
   "metadata": {},
   "outputs": [],
   "source": [
    "# Hyperparameters\n",
    "batch_size = 128\n",
    "num_classes = 10\n",
    "epochs = 10"
   ]
  },
  {
   "cell_type": "code",
   "execution_count": 3,
   "metadata": {},
   "outputs": [],
   "source": [
    "# Load CIFAR10 Data\n",
    "(x_train, y_train), (x_test, y_test) = cifar10.load_data()\n",
    "img_height, img_width, channel = x_train.shape[1],x_train.shape[2],x_train.shape[3]\n",
    "\n",
    "# convert to one hot encoing \n",
    "y_train = keras.utils.np_utils.to_categorical(y_train, num_classes)\n",
    "y_test = keras.utils.np_utils.to_categorical(y_test, num_classes)"
   ]
  },
  {
   "cell_type": "code",
   "execution_count": 4,
   "metadata": {},
   "outputs": [
    {
     "name": "stdout",
     "output_type": "stream",
     "text": [
      "Downloading data from https://storage.googleapis.com/tensorflow/keras-applications/resnet/resnet50_weights_tf_dim_ordering_tf_kernels_notop.h5\n",
      "94765736/94765736 [==============================] - 43s 0us/step\n"
     ]
    }
   ],
   "source": [
    "resnet50_model = Sequential()\n",
    "\n",
    "pretrained_model = tf.keras.applications.ResNet50(\n",
    "    include_top=False,\n",
    "    weights=\"imagenet\",\n",
    "    input_shape=(32,32,3),\n",
    "    pooling='max',\n",
    "    classes=10,\n",
    ")\n",
    "\n",
    "for layer in pretrained_model.layers:\n",
    "    layer.trainable=False\n",
    "\n",
    "resnet50_model.add(pretrained_model)\n",
    "resnet50_model.add(Flatten())\n",
    "resnet50_model.add(Dense(3072, activation='relu'))\n",
    "resnet50_model.add(Dense(2048, activation='relu'))\n",
    "resnet50_model.add(Dense(10, activation='softmax'))"
   ]
  },
  {
   "cell_type": "code",
   "execution_count": 5,
   "metadata": {},
   "outputs": [],
   "source": [
    "from keras.preprocessing.image import ImageDataGenerator\n",
    "datagen = ImageDataGenerator(rotation_range = 15, horizontal_flip = True, width_shift_range = 0.1, height_shift_range = 0.1, zoom_range = 0.2, shear_range = 15)\n",
    "datagen.fit(x_train)"
   ]
  },
  {
   "cell_type": "code",
   "execution_count": 6,
   "metadata": {},
   "outputs": [],
   "source": [
    "from sklearn.model_selection import learning_curve\n",
    "\n",
    "\n",
    "resnet50_model.compile(optimizer=SGD(0.01, momentum = 0.7), loss='categorical_crossentropy', metrics=['accuracy'])"
   ]
  },
  {
   "cell_type": "code",
   "execution_count": 9,
   "metadata": {},
   "outputs": [],
   "source": [
    "from keras.callbacks import ModelCheckpoint, CSVLogger\n",
    "ckpt = ModelCheckpoint('saved_model/resnet50_model.hdf5')\n",
    "csv = CSVLogger('saved_model/resnet50_log.csv')"
   ]
  },
  {
   "cell_type": "code",
   "execution_count": 10,
   "metadata": {},
   "outputs": [
    {
     "name": "stdout",
     "output_type": "stream",
     "text": [
      "Epoch 1/10\n",
      "391/391 [==============================] - 179s 458ms/step - loss: 1.3298 - accuracy: 0.5255 - val_loss: 1.1917 - val_accuracy: 0.5815\n",
      "Epoch 2/10\n",
      "391/391 [==============================] - 174s 444ms/step - loss: 1.2445 - accuracy: 0.5590 - val_loss: 1.1713 - val_accuracy: 0.5905\n",
      "Epoch 3/10\n",
      "391/391 [==============================] - 176s 450ms/step - loss: 1.1910 - accuracy: 0.5804 - val_loss: 1.1260 - val_accuracy: 0.6027\n",
      "Epoch 4/10\n",
      "391/391 [==============================] - 184s 470ms/step - loss: 1.1653 - accuracy: 0.5849 - val_loss: 1.1435 - val_accuracy: 0.5977\n",
      "Epoch 5/10\n",
      "391/391 [==============================] - 166s 423ms/step - loss: 1.1412 - accuracy: 0.5965 - val_loss: 1.0777 - val_accuracy: 0.6210\n",
      "Epoch 6/10\n",
      "391/391 [==============================] - 180s 461ms/step - loss: 1.1145 - accuracy: 0.6040 - val_loss: 1.0968 - val_accuracy: 0.6178\n",
      "Epoch 7/10\n",
      "391/391 [==============================] - 164s 420ms/step - loss: 1.0975 - accuracy: 0.6117 - val_loss: 1.0917 - val_accuracy: 0.6173\n",
      "Epoch 8/10\n",
      "391/391 [==============================] - 166s 424ms/step - loss: 1.0876 - accuracy: 0.6135 - val_loss: 1.1017 - val_accuracy: 0.6208\n",
      "Epoch 9/10\n",
      "391/391 [==============================] - 178s 453ms/step - loss: 1.0703 - accuracy: 0.6195 - val_loss: 1.0496 - val_accuracy: 0.6314\n",
      "Epoch 10/10\n",
      "391/391 [==============================] - 166s 423ms/step - loss: 1.0581 - accuracy: 0.6218 - val_loss: 1.0991 - val_accuracy: 0.6151\n"
     ]
    }
   ],
   "source": [
    "history = resnet50_model.fit(datagen.flow(x_train, y_train, batch_size), validation_data=(x_test, y_test), epochs=epochs, batch_size=batch_size, callbacks = [csv, ckpt])\n",
    "resnet_model50.save_weights('saved_model/10epochs_resnet50_cifar10.h5')"
   ]
  },
  {
   "cell_type": "code",
   "execution_count": 11,
   "metadata": {},
   "outputs": [],
   "source": [
    "train_mse = resnet50_model.evaluate(x_train, y_train, verbose=0)\n",
    "test_mse = resnet50_model.evaluate(x_test, y_test, verbose=0)"
   ]
  },
  {
   "cell_type": "code",
   "execution_count": 12,
   "metadata": {},
   "outputs": [
    {
     "name": "stdout",
     "output_type": "stream",
     "text": [
      "Train loss : 94.969 % , Test loss : 109.905 %\n",
      "Train accuracy : 66.214 % , Test accuracy : 61.510 %\n"
     ]
    }
   ],
   "source": [
    "print('Train loss : %.3f %% , Test loss : %.3f %%' % (train_mse[0]*100, test_mse[0]*100))\n",
    "print('Train accuracy : %.3f %% , Test accuracy : %.3f %%' % (train_mse[1]*100, test_mse[1]*100))"
   ]
  }
 ],
 "metadata": {
  "kernelspec": {
   "display_name": "Python 3.9.12 ('base')",
   "language": "python",
   "name": "python3"
  },
  "language_info": {
   "codemirror_mode": {
    "name": "ipython",
    "version": 3
   },
   "file_extension": ".py",
   "mimetype": "text/x-python",
   "name": "python",
   "nbconvert_exporter": "python",
   "pygments_lexer": "ipython3",
   "version": "3.9.12"
  },
  "orig_nbformat": 4,
  "vscode": {
   "interpreter": {
    "hash": "51d2dbc107e90016ff58d506d19dfa66132cafa2ebfedbf9f4d98cf0f5094b18"
   }
  }
 },
 "nbformat": 4,
 "nbformat_minor": 2
}
