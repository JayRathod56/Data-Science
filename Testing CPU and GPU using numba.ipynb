{
 "cells": [
  {
   "cell_type": "markdown",
   "metadata": {},
   "source": [
    "# This is a program to compare your cpu speed and gpu speed\n",
    "\n",
    "## yes it's true that gpu is faster than cpu\n",
    "\n",
    "### But it isn't the same in every case\n",
    "### Ever Time you run something on your gpu it travels through your cpu to gpu and then again from gpu to cpu \n",
    "### So if you are working with less amount of data cpu will be faster as compared to gpu\n",
    "### But if you are dealing with large amount of data gpu will be much faster than cpu\n",
    "\n",
    "#### In this program we will be using a library named numba \n",
    "#### Also you need to install cuda first (It is a toolkit which helps our program to run on gpu)"
   ]
  },
  {
   "cell_type": "code",
   "execution_count": 2,
   "metadata": {},
   "outputs": [
    {
     "data": {
      "text/plain": [
       "'0.55.1'"
      ]
     },
     "execution_count": 2,
     "metadata": {},
     "output_type": "execute_result"
    }
   ],
   "source": [
    "#~~~~~~~~~~~~~~~~~~For python Interpreters~~~~~~~~~~~~~~~\n",
    "# pip install numba & pip install cudatoolkit -y\n",
    "\n",
    "#~~~~~~~~~~~~~~~~~~For Anaconda Interpreters~~~~~~~~~~~~~~~\n",
    "# conda install numba & conda install cudatoolkit -y\n",
    "\n",
    "import numba\n",
    "numba.__version__"
   ]
  },
  {
   "cell_type": "code",
   "execution_count": 1,
   "metadata": {},
   "outputs": [
    {
     "name": "stdout",
     "output_type": "stream",
     "text": [
      "without GPU: 32.049553700000004\n",
      "with GPU: 1.0057936999999981\n"
     ]
    }
   ],
   "source": [
    "from numba import jit\n",
    "import numpy as np\n",
    "from timeit import default_timer as timer\n",
    "from numba import cuda\n",
    "# To run on CPU\n",
    "def func(a):\n",
    "    for i in range(100000000):\n",
    "        a[i]+= 1\n",
    "# To run on GPU\n",
    "@jit\n",
    "def func2(x):\n",
    "    return x+1\n",
    "if __name__==\"__main__\":\n",
    "    n = 100000000\n",
    "    a = np.ones(n, dtype = np.integer)\n",
    "    start = timer()\n",
    "    func(a)\n",
    "    print(\"without GPU:\", timer()-start)\n",
    "    start = timer()\n",
    "    func2(a)\n",
    "    cuda.profile_stop()\n",
    "    print(\"with GPU:\", timer()-start)"
   ]
  }
 ],
 "metadata": {
  "kernelspec": {
   "display_name": "Python 3.9.12 ('base')",
   "language": "python",
   "name": "python3"
  },
  "language_info": {
   "codemirror_mode": {
    "name": "ipython",
    "version": 3
   },
   "file_extension": ".py",
   "mimetype": "text/x-python",
   "name": "python",
   "nbconvert_exporter": "python",
   "pygments_lexer": "ipython3",
   "version": "3.9.12"
  },
  "orig_nbformat": 4,
  "vscode": {
   "interpreter": {
    "hash": "51d2dbc107e90016ff58d506d19dfa66132cafa2ebfedbf9f4d98cf0f5094b18"
   }
  }
 },
 "nbformat": 4,
 "nbformat_minor": 2
}
