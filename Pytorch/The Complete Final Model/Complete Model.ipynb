{
 "cells": [
  {
   "cell_type": "code",
   "execution_count": 1,
   "metadata": {},
   "outputs": [
    {
     "name": "stdout",
     "output_type": "stream",
     "text": [
      "Modules Imported\n"
     ]
    }
   ],
   "source": [
    "%matplotlib inline\n",
    "import torch\n",
    "from torch import nn\n",
    "from torch.utils.data import DataLoader\n",
    "from torchvision import datasets\n",
    "from torchvision.transforms import ToTensor, Lambda, Compose\n",
    "import matplotlib.pyplot as plt\n",
    "print(\"Modules Imported\")"
   ]
  },
  {
   "cell_type": "code",
   "execution_count": 2,
   "metadata": {},
   "outputs": [
    {
     "name": "stderr",
     "output_type": "stream",
     "text": [
      "'skip' is not recognized as an internal or external command,\n",
      "operable program or batch file.\n"
     ]
    }
   ],
   "source": [
    "!skip this block of code if already downloaded once\n",
    "\n",
    "# Download training data from open datasets.\n",
    "training_data = datasets.FashionMNIST(\n",
    "    root=\"data\",\n",
    "    train=True,\n",
    "    download=True,\n",
    "    transform=ToTensor(),\n",
    ")\n",
    "# Download test data from open datasets.\n",
    "test_data = datasets.FashionMNIST(\n",
    "    root=\"data\",\n",
    "    train=False,\n",
    "    download=True,\n",
    "    transform=ToTensor(),\n",
    ")"
   ]
  },
  {
   "cell_type": "code",
   "execution_count": 3,
   "metadata": {},
   "outputs": [
    {
     "name": "stdout",
     "output_type": "stream",
     "text": [
      "Shape of X [N, C, H, W]:  torch.Size([64, 1, 28, 28])\n",
      "Shape of y:  torch.Size([64]) torch.int64\n"
     ]
    },
    {
     "ename": "",
     "evalue": "",
     "output_type": "error",
     "traceback": [
      "\u001b[1;31mCanceled future for execute_request message before replies were done"
     ]
    },
    {
     "ename": "",
     "evalue": "",
     "output_type": "error",
     "traceback": [
      "\u001b[1;31mThe Kernel crashed while executing code in the the current cell or a previous cell. Please review the code in the cell(s) to identify a possible cause of the failure. Click <a href='https://aka.ms/vscodeJupyterKernelCrash'>here</a> for more info. View Jupyter <a href='command:jupyter.viewOutput'>log</a> for further details."
     ]
    }
   ],
   "source": [
    "batch_size = 64\n",
    "# Create data loaders.\n",
    "\n",
    "train_dataloader = DataLoader(training_data, batch_size=batch_size)\n",
    "test_dataloader = DataLoader(test_data, batch_size=batch_size)\n",
    "\n",
    "for X, y in test_dataloader:\n",
    "    print(\"Shape of X [N, C, H, W]: \", X.shape)\n",
    "    print(\"Shape of y: \", y.shape, y.dtype)\n",
    "    break\n",
    "\n",
    "# Display sample data\n",
    "figure = plt.figure(figsize=(10, 8))\n",
    "cols, rows = 5, 5\n",
    "for i in range(1, cols * rows + 1):\n",
    "    idx = torch.randint(len(test_data), size=(1,)).item()\n",
    "    img, label = test_data[idx]\n",
    "    figure.add_subplot(rows, cols, i)\n",
    "    plt.title(label)\n",
    "    plt.axis(\"off\")\n",
    "    plt.imshow(img.squeeze(), cmap=\"gray\")\n",
    "plt.show()"
   ]
  },
  {
   "cell_type": "code",
   "execution_count": 4,
   "metadata": {},
   "outputs": [
    {
     "name": "stdout",
     "output_type": "stream",
     "text": [
      "Using cpu device\n",
      "NeuralNetwork(\n",
      "  (flatten): Flatten(start_dim=1, end_dim=-1)\n",
      "  (linear_relu_stack): Sequential(\n",
      "    (0): Linear(in_features=784, out_features=512, bias=True)\n",
      "    (1): ReLU()\n",
      "    (2): Linear(in_features=512, out_features=512, bias=True)\n",
      "    (3): ReLU()\n",
      "    (4): Linear(in_features=512, out_features=10, bias=True)\n",
      "    (5): ReLU()\n",
      "  )\n",
      ")\n"
     ]
    }
   ],
   "source": [
    "# Get cpu or gpu device for training.\n",
    "device = \"cuda\" if torch.cuda.is_available() else \"cpu\"\n",
    "print(\"Using {} device\".format(device))\n",
    "\n",
    "# Define model\n",
    "class NeuralNetwork(nn.Module):\n",
    "    def __init__(self):\n",
    "        super(NeuralNetwork, self).__init__()\n",
    "        self.flatten = nn.Flatten()\n",
    "        self.linear_relu_stack = nn.Sequential(\n",
    "        nn.Linear(28*28, 512),\n",
    "        nn.ReLU(),\n",
    "        nn.Linear(512, 512),\n",
    "        nn.ReLU(),\n",
    "        nn.Linear(512, 10),\n",
    "        nn.ReLU()\n",
    "        )\n",
    "    def forward(self, x):\n",
    "        x = self.flatten(x)\n",
    "        logits = self.linear_relu_stack(x)\n",
    "        return logits\n",
    "model = NeuralNetwork().to(device)\n",
    "print(model)"
   ]
  },
  {
   "cell_type": "code",
   "execution_count": 5,
   "metadata": {},
   "outputs": [],
   "source": [
    "loss_fn = nn.CrossEntropyLoss()\n",
    "learning_rate = 1e-3\n",
    "optimizer = torch.optim.SGD(model.parameters(), lr=learning_rate)"
   ]
  },
  {
   "cell_type": "code",
   "execution_count": 6,
   "metadata": {},
   "outputs": [],
   "source": [
    "def train(dataloader, model, loss_fn, optimizer):\n",
    "    size = len(dataloader.dataset)\n",
    "    \n",
    "    for batch, (X, y) in enumerate(dataloader):\n",
    "        X, y = X.to(device), y.to(device)\n",
    "        # Compute prediction error\n",
    "        pred = model(X)\n",
    "        loss = loss_fn(pred, y)\n",
    "        # Backpropagation\n",
    "        optimizer.zero_grad()\n",
    "        loss.backward()\n",
    "        optimizer.step()\n",
    "\n",
    "        if batch % 100 == 0:\n",
    "            loss, current = loss.item(), batch * len(X)\n",
    "            print(f\"loss: {loss:>7f} [{current:>5d}/{size:>5d}]\")"
   ]
  },
  {
   "cell_type": "code",
   "execution_count": 7,
   "metadata": {},
   "outputs": [],
   "source": [
    "def test(dataloader, model):\n",
    "    size = len(dataloader.dataset)\n",
    "    model.eval()\n",
    "    test_loss, correct = 0, 0\n",
    "    with torch.no_grad():\n",
    "        for X, y in dataloader:\n",
    "            X, y = X.to(device), y.to(device)\n",
    "            pred = model(X)\n",
    "            test_loss += loss_fn(pred, y).item()\n",
    "            correct += (pred.argmax(1) == y).type(torch.float).sum().item()\n",
    "    test_loss /= size\n",
    "    correct /= size\n",
    "    print(f\"Test Error: \\n Accuracy: {(100*correct):>0.1f}%, Avg loss: {test_loss:>8f} \\\n",
    "    n\")"
   ]
  },
  {
   "cell_type": "code",
   "execution_count": 8,
   "metadata": {},
   "outputs": [
    {
     "name": "stdout",
     "output_type": "stream",
     "text": [
      "Epoch 1\n",
      "-------------------------------\n",
      "loss: 2.305307 [    0/60000]\n",
      "loss: 2.297270 [ 6400/60000]\n",
      "loss: 2.283896 [12800/60000]\n",
      "loss: 2.283003 [19200/60000]\n",
      "loss: 2.268632 [25600/60000]\n",
      "loss: 2.245792 [32000/60000]\n",
      "loss: 2.271276 [38400/60000]\n",
      "loss: 2.241315 [44800/60000]\n",
      "loss: 2.256862 [51200/60000]\n",
      "loss: 2.228829 [57600/60000]\n",
      "Test Error: \n",
      " Accuracy: 33.3%, Avg loss: 0.034920     n\n",
      "Epoch 2\n",
      "-------------------------------\n",
      "loss: 2.234185 [    0/60000]\n",
      "loss: 2.222690 [ 6400/60000]\n",
      "loss: 2.174318 [12800/60000]\n",
      "loss: 2.203799 [19200/60000]\n",
      "loss: 2.183869 [25600/60000]\n",
      "loss: 2.120537 [32000/60000]\n",
      "loss: 2.201550 [38400/60000]\n",
      "loss: 2.126702 [44800/60000]\n",
      "loss: 2.177558 [51200/60000]\n",
      "loss: 2.124922 [57600/60000]\n",
      "Test Error: \n",
      " Accuracy: 35.8%, Avg loss: 0.033151     n\n",
      "Epoch 3\n",
      "-------------------------------\n",
      "loss: 2.132036 [    0/60000]\n",
      "loss: 2.106937 [ 6400/60000]\n",
      "loss: 2.007831 [12800/60000]\n",
      "loss: 2.088746 [19200/60000]\n",
      "loss: 2.047578 [25600/60000]\n",
      "loss: 1.939146 [32000/60000]\n",
      "loss: 2.102473 [38400/60000]\n",
      "loss: 1.969251 [44800/60000]\n",
      "loss: 2.065594 [51200/60000]\n",
      "loss: 2.006440 [57600/60000]\n",
      "Test Error: \n",
      " Accuracy: 39.3%, Avg loss: 0.030890     n\n",
      "Epoch 4\n",
      "-------------------------------\n",
      "loss: 1.991486 [    0/60000]\n",
      "loss: 1.957381 [ 6400/60000]\n",
      "loss: 1.803926 [12800/60000]\n",
      "loss: 1.953927 [19200/60000]\n",
      "loss: 1.899318 [25600/60000]\n",
      "loss: 1.768247 [32000/60000]\n",
      "loss: 2.005980 [38400/60000]\n",
      "loss: 1.825947 [44800/60000]\n",
      "loss: 1.942113 [51200/60000]\n",
      "loss: 1.914873 [57600/60000]\n",
      "Test Error: \n",
      " Accuracy: 41.0%, Avg loss: 0.028843     n\n",
      "Epoch 5\n",
      "-------------------------------\n",
      "loss: 1.845459 [    0/60000]\n",
      "loss: 1.823422 [ 6400/60000]\n",
      "loss: 1.623205 [12800/60000]\n",
      "loss: 1.839966 [19200/60000]\n",
      "loss: 1.779472 [25600/60000]\n",
      "loss: 1.634935 [32000/60000]\n",
      "loss: 1.903393 [38400/60000]\n",
      "loss: 1.696188 [44800/60000]\n",
      "loss: 1.807284 [51200/60000]\n",
      "loss: 1.797947 [57600/60000]\n",
      "Test Error: \n",
      " Accuracy: 42.8%, Avg loss: 0.026559     n\n",
      "Epoch 6\n",
      "-------------------------------\n",
      "loss: 1.717646 [    0/60000]\n",
      "loss: 1.710847 [ 6400/60000]\n",
      "loss: 1.447005 [12800/60000]\n",
      "loss: 1.661109 [19200/60000]\n",
      "loss: 1.636035 [25600/60000]\n",
      "loss: 1.513908 [32000/60000]\n",
      "loss: 1.777247 [38400/60000]\n",
      "loss: 1.579141 [44800/60000]\n",
      "loss: 1.693499 [51200/60000]\n",
      "loss: 1.687284 [57600/60000]\n",
      "Test Error: \n",
      " Accuracy: 48.3%, Avg loss: 0.024637     n\n",
      "Epoch 7\n",
      "-------------------------------\n",
      "loss: 1.625286 [    0/60000]\n",
      "loss: 1.632861 [ 6400/60000]\n",
      "loss: 1.322173 [12800/60000]\n",
      "loss: 1.536932 [19200/60000]\n",
      "loss: 1.542782 [25600/60000]\n",
      "loss: 1.427655 [32000/60000]\n",
      "loss: 1.689843 [38400/60000]\n",
      "loss: 1.502941 [44800/60000]\n",
      "loss: 1.614227 [51200/60000]\n",
      "loss: 1.615031 [57600/60000]\n",
      "Test Error: \n",
      " Accuracy: 55.6%, Avg loss: 0.023340     n\n",
      "Epoch 8\n",
      "-------------------------------\n",
      "loss: 1.553562 [    0/60000]\n",
      "loss: 1.577525 [ 6400/60000]\n",
      "loss: 1.236173 [12800/60000]\n",
      "loss: 1.456222 [19200/60000]\n",
      "loss: 1.469573 [25600/60000]\n",
      "loss: 1.357390 [32000/60000]\n",
      "loss: 1.619925 [38400/60000]\n",
      "loss: 1.442552 [44800/60000]\n",
      "loss: 1.545912 [51200/60000]\n",
      "loss: 1.558449 [57600/60000]\n",
      "Test Error: \n",
      " Accuracy: 56.7%, Avg loss: 0.022312     n\n",
      "Epoch 9\n",
      "-------------------------------\n",
      "loss: 1.487958 [    0/60000]\n",
      "loss: 1.531449 [ 6400/60000]\n",
      "loss: 1.166840 [12800/60000]\n",
      "loss: 1.394724 [19200/60000]\n",
      "loss: 1.405594 [25600/60000]\n",
      "loss: 1.296260 [32000/60000]\n",
      "loss: 1.560751 [38400/60000]\n",
      "loss: 1.388771 [44800/60000]\n",
      "loss: 1.485036 [51200/60000]\n",
      "loss: 1.507337 [57600/60000]\n",
      "Test Error: \n",
      " Accuracy: 57.4%, Avg loss: 0.021448     n\n",
      "Epoch 10\n",
      "-------------------------------\n",
      "loss: 1.429348 [    0/60000]\n",
      "loss: 1.491010 [ 6400/60000]\n",
      "loss: 1.107134 [12800/60000]\n",
      "loss: 1.340835 [19200/60000]\n",
      "loss: 1.352989 [25600/60000]\n",
      "loss: 1.244207 [32000/60000]\n",
      "loss: 1.512397 [38400/60000]\n",
      "loss: 1.343748 [44800/60000]\n",
      "loss: 1.433243 [51200/60000]\n",
      "loss: 1.463729 [57600/60000]\n",
      "Test Error: \n",
      " Accuracy: 58.3%, Avg loss: 0.020740     n\n",
      "Epoch 11\n",
      "-------------------------------\n",
      "loss: 1.379193 [    0/60000]\n",
      "loss: 1.455261 [ 6400/60000]\n",
      "loss: 1.056106 [12800/60000]\n",
      "loss: 1.295340 [19200/60000]\n",
      "loss: 1.312447 [25600/60000]\n",
      "loss: 1.201373 [32000/60000]\n",
      "loss: 1.473280 [38400/60000]\n",
      "loss: 1.306800 [44800/60000]\n",
      "loss: 1.389636 [51200/60000]\n",
      "loss: 1.430069 [57600/60000]\n",
      "Test Error: \n",
      " Accuracy: 59.1%, Avg loss: 0.020163     n\n",
      "Epoch 12\n",
      "-------------------------------\n",
      "loss: 1.334444 [    0/60000]\n",
      "loss: 1.424637 [ 6400/60000]\n",
      "loss: 1.013050 [12800/60000]\n",
      "loss: 1.256441 [19200/60000]\n",
      "loss: 1.282535 [25600/60000]\n",
      "loss: 1.165982 [32000/60000]\n",
      "loss: 1.440932 [38400/60000]\n",
      "loss: 1.276830 [44800/60000]\n",
      "loss: 1.352989 [51200/60000]\n",
      "loss: 1.403765 [57600/60000]\n",
      "Test Error: \n",
      " Accuracy: 59.8%, Avg loss: 0.019686     n\n",
      "Epoch 13\n",
      "-------------------------------\n",
      "loss: 1.294956 [    0/60000]\n",
      "loss: 1.397553 [ 6400/60000]\n",
      "loss: 0.976542 [12800/60000]\n",
      "loss: 1.224161 [19200/60000]\n",
      "loss: 1.258744 [25600/60000]\n",
      "loss: 1.137382 [32000/60000]\n",
      "loss: 1.413143 [38400/60000]\n",
      "loss: 1.251943 [44800/60000]\n",
      "loss: 1.322455 [51200/60000]\n",
      "loss: 1.382731 [57600/60000]\n",
      "Test Error: \n",
      " Accuracy: 60.5%, Avg loss: 0.019281     n\n",
      "Epoch 14\n",
      "-------------------------------\n",
      "loss: 1.260404 [    0/60000]\n",
      "loss: 1.373732 [ 6400/60000]\n",
      "loss: 0.945348 [12800/60000]\n",
      "loss: 1.197211 [19200/60000]\n",
      "loss: 1.238770 [25600/60000]\n",
      "loss: 1.113747 [32000/60000]\n",
      "loss: 1.388490 [38400/60000]\n",
      "loss: 1.230671 [44800/60000]\n",
      "loss: 1.296442 [51200/60000]\n",
      "loss: 1.364531 [57600/60000]\n",
      "Test Error: \n",
      " Accuracy: 61.2%, Avg loss: 0.018928     n\n",
      "Epoch 15\n",
      "-------------------------------\n",
      "loss: 1.229597 [    0/60000]\n",
      "loss: 1.352293 [ 6400/60000]\n",
      "loss: 0.918385 [12800/60000]\n",
      "loss: 1.174347 [19200/60000]\n",
      "loss: 1.221837 [25600/60000]\n",
      "loss: 1.093222 [32000/60000]\n",
      "loss: 1.366340 [38400/60000]\n",
      "loss: 1.212113 [44800/60000]\n",
      "loss: 1.273664 [51200/60000]\n",
      "loss: 1.347477 [57600/60000]\n",
      "Test Error: \n",
      " Accuracy: 61.9%, Avg loss: 0.018609     n\n",
      "Done!\n"
     ]
    }
   ],
   "source": [
    "epochs = 15\n",
    "for t in range(epochs):\n",
    "    print(f\"Epoch {t+1}\\n-------------------------------\")\n",
    "    train(train_dataloader, model, loss_fn, optimizer)\n",
    "    test(test_dataloader, model)\n",
    "print(\"Done!\")"
   ]
  },
  {
   "cell_type": "code",
   "execution_count": 9,
   "metadata": {},
   "outputs": [
    {
     "name": "stdout",
     "output_type": "stream",
     "text": [
      "Saved PyTorch Model State to model.pth\n"
     ]
    }
   ],
   "source": [
    "torch.save(model.state_dict(), \"data/model.pth\")\n",
    "print(\"Saved PyTorch Model State to model.pth\")"
   ]
  },
  {
   "cell_type": "code",
   "execution_count": 10,
   "metadata": {},
   "outputs": [
    {
     "data": {
      "text/plain": [
       "<All keys matched successfully>"
      ]
     },
     "execution_count": 10,
     "metadata": {},
     "output_type": "execute_result"
    }
   ],
   "source": [
    "model = NeuralNetwork()\n",
    "model.load_state_dict(torch.load(\"data/model.pth\"))"
   ]
  },
  {
   "cell_type": "code",
   "execution_count": 13,
   "metadata": {},
   "outputs": [
    {
     "name": "stdout",
     "output_type": "stream",
     "text": [
      "Predicted: \"Ankle boot\", Actual: \"Ankle boot\"\n"
     ]
    }
   ],
   "source": [
    "classes = [\n",
    "\"T-shirt/top\",\n",
    "\"Trouser\",\n",
    "\"Pullover\",\n",
    "\"Dress\",\n",
    "\"Coat\",\n",
    "\"Sandal\",\n",
    "\"Shirt\",\n",
    "\"Sneaker\",\n",
    "\"Bag\",\n",
    "\"Ankle boot\",\n",
    "]\n",
    "model.eval()\n",
    "x, y = test_data[0][0], test_data[0][1]\n",
    "with torch.no_grad():\n",
    "    pred = model(x)\n",
    "    predicted, actual = classes[pred[0].argmax(0)], classes[y]\n",
    "    print(f'Predicted: \"{predicted}\", Actual: \"{actual}\"')"
   ]
  }
 ],
 "metadata": {
  "kernelspec": {
   "display_name": "Python 3.9.12 ('base')",
   "language": "python",
   "name": "python3"
  },
  "language_info": {
   "codemirror_mode": {
    "name": "ipython",
    "version": 3
   },
   "file_extension": ".py",
   "mimetype": "text/x-python",
   "name": "python",
   "nbconvert_exporter": "python",
   "pygments_lexer": "ipython3",
   "version": "3.9.12"
  },
  "orig_nbformat": 4,
  "vscode": {
   "interpreter": {
    "hash": "51d2dbc107e90016ff58d506d19dfa66132cafa2ebfedbf9f4d98cf0f5094b18"
   }
  }
 },
 "nbformat": 4,
 "nbformat_minor": 2
}
