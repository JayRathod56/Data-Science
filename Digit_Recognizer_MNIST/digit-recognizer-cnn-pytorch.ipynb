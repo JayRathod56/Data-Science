{
 "cells": [
  {
   "cell_type": "code",
   "execution_count": 1,
   "id": "20337b31",
   "metadata": {},
   "outputs": [
    {
     "name": "stdout",
     "output_type": "stream",
     "text": [
      "cpu is being used\n"
     ]
    }
   ],
   "source": [
    "import torch\n",
    "DEVICE = torch.device(\"cuda\" if torch.cuda.is_available() else \"cpu\")\n",
    "print(DEVICE, 'is being used')"
   ]
  },
  {
   "cell_type": "code",
   "execution_count": 1,
   "id": "53416797",
   "metadata": {
    "_cell_guid": "b1076dfc-b9ad-4769-8c92-a6c4dae69d19",
    "_uuid": "8f2839f25d086af736a60e9eeb907d3b93b6e0e5",
    "execution": {
     "iopub.execute_input": "2022-07-01T02:21:34.985066Z",
     "iopub.status.busy": "2022-07-01T02:21:34.984597Z",
     "iopub.status.idle": "2022-07-01T02:21:45.369403Z",
     "shell.execute_reply": "2022-07-01T02:21:45.368110Z"
    },
    "papermill": {
     "duration": 10.39539,
     "end_time": "2022-07-01T02:21:45.372513",
     "exception": false,
     "start_time": "2022-07-01T02:21:34.977123",
     "status": "completed"
    },
    "tags": []
   },
   "outputs": [
    {
     "name": "stderr",
     "output_type": "stream",
     "text": [
      "c:\\Users\\jayan\\anaconda3\\lib\\site-packages\\torchvision\\io\\image.py:13: UserWarning: Failed to load image Python extension: Could not find module 'C:\\Users\\jayan\\anaconda3\\Lib\\site-packages\\torchvision\\image.pyd' (or one of its dependencies). Try using the full path with constructor syntax.\n",
      "  warn(f\"Failed to load image Python extension: {e}\")\n"
     ]
    }
   ],
   "source": [
    "import os\n",
    "import cv2\n",
    "import torch\n",
    "import numpy as np\n",
    "import pandas as pd\n",
    "import albumentations as A\n",
    "import pytorch_lightning as pl\n",
    "import matplotlib.pyplot as plt\n",
    "from ray import tune\n",
    "from torch import nn, optim\n",
    "from torch.nn import functional as F\n",
    "from torch.utils.data import Dataset, DataLoader\n",
    "from albumentations.pytorch import ToTensorV2\n",
    "from sklearn.metrics import confusion_matrix\n",
    "from sklearn.model_selection import train_test_split\n",
    "\n",
    "seed = 1234\n",
    "np.random.seed(seed)\n",
    "torch.manual_seed(seed)\n",
    "plt.style.use('_mpl-gallery')"
   ]
  },
  {
   "cell_type": "markdown",
   "id": "ca9f6b32",
   "metadata": {
    "papermill": {
     "duration": 0.010593,
     "end_time": "2022-07-01T02:21:45.392777",
     "exception": false,
     "start_time": "2022-07-01T02:21:45.382184",
     "status": "completed"
    },
    "tags": []
   },
   "source": [
    "## Set Hyperparameter"
   ]
  },
  {
   "cell_type": "code",
   "execution_count": 3,
   "id": "0ccd45c1",
   "metadata": {
    "execution": {
     "iopub.execute_input": "2022-07-01T02:21:45.410659Z",
     "iopub.status.busy": "2022-07-01T02:21:45.409763Z",
     "iopub.status.idle": "2022-07-01T02:21:45.480636Z",
     "shell.execute_reply": "2022-07-01T02:21:45.479714Z"
    },
    "papermill": {
     "duration": 0.086375,
     "end_time": "2022-07-01T02:21:45.486916",
     "exception": false,
     "start_time": "2022-07-01T02:21:45.400541",
     "status": "completed"
    },
    "tags": []
   },
   "outputs": [
    {
     "name": "stdout",
     "output_type": "stream",
     "text": [
      "cpu is being used\n"
     ]
    }
   ],
   "source": [
    "#os.mkdir(\"./output\")\n",
    "PROJECT_NAME = \"digit-recognizer\"\n",
    "DATA_PATH = os.path.join(os.getcwd()[:-8], \"input\", PROJECT_NAME)\n",
    "DEVICE = torch.device(\"cuda\" if torch.cuda.is_available() else \"cpu\")\n",
    "print(DEVICE, 'is being used')\n",
    "BATCH_SIZE = 128\n",
    "EPOCH = 50\n",
    "PATIENCE = 10"
   ]
  },
  {
   "cell_type": "markdown",
   "id": "2818057d",
   "metadata": {
    "papermill": {
     "duration": 0.007728,
     "end_time": "2022-07-01T02:21:45.503049",
     "exception": false,
     "start_time": "2022-07-01T02:21:45.495321",
     "status": "completed"
    },
    "tags": []
   },
   "source": [
    "## Dataset"
   ]
  },
  {
   "cell_type": "code",
   "execution_count": 4,
   "id": "09b71009",
   "metadata": {
    "execution": {
     "iopub.execute_input": "2022-07-01T02:21:45.520359Z",
     "iopub.status.busy": "2022-07-01T02:21:45.519979Z",
     "iopub.status.idle": "2022-07-01T02:21:45.531323Z",
     "shell.execute_reply": "2022-07-01T02:21:45.530433Z"
    },
    "papermill": {
     "duration": 0.023412,
     "end_time": "2022-07-01T02:21:45.534388",
     "exception": false,
     "start_time": "2022-07-01T02:21:45.510976",
     "status": "completed"
    },
    "tags": []
   },
   "outputs": [],
   "source": [
    "class CustomDataset(Dataset):\n",
    "    def __init__(self, x, y=None, transform=None):\n",
    "        self.x = x\n",
    "        if y is not None:\n",
    "            self.y = torch.LongTensor(y)\n",
    "        else:\n",
    "            self.y = None\n",
    "        self.transform = transform\n",
    "\n",
    "    def __len__(self):\n",
    "        return len(self.x)\n",
    "\n",
    "    def __getitem__(self, idx):\n",
    "        image = self.transform(image=self.x[idx])[\"image\"]\n",
    "        if self.y is None:\n",
    "            return image\n",
    "        else:\n",
    "            return image, self.y[idx]"
   ]
  },
  {
   "cell_type": "code",
   "execution_count": 5,
   "id": "2d63bfc0",
   "metadata": {
    "execution": {
     "iopub.execute_input": "2022-07-01T02:21:45.549975Z",
     "iopub.status.busy": "2022-07-01T02:21:45.549617Z",
     "iopub.status.idle": "2022-07-01T02:21:45.565712Z",
     "shell.execute_reply": "2022-07-01T02:21:45.564722Z"
    },
    "papermill": {
     "duration": 0.027084,
     "end_time": "2022-07-01T02:21:45.568286",
     "exception": false,
     "start_time": "2022-07-01T02:21:45.541202",
     "status": "completed"
    },
    "tags": []
   },
   "outputs": [],
   "source": [
    "def get_train_dataloader(only_valid_data=False, transforms=None):\n",
    "    train_data = pd.read_csv(os.path.join(DATA_PATH, \"../CNN/mnist_train.csv\"))\n",
    "\n",
    "    x_train = train_data.iloc[:,1:].to_numpy(dtype=np.float32).reshape(-1, 28, 28, 1)\n",
    "    y_train = train_data.label.to_numpy()\n",
    "    x_train, x_valid, y_train, y_valid = train_test_split(x_train, y_train, \n",
    "        test_size=0.2, random_state=1234)\n",
    "    # Feature engineering\n",
    "    x_train, x_valid = x_train/255, x_valid/255\n",
    "    # Dataset and DataLoader\n",
    "    train_transform, valid_transform = transforms\n",
    "    valid_ds = CustomDataset(x_valid, y_valid, transform=valid_transform)\n",
    "    valid_dataloader = DataLoader(valid_ds, batch_size=BATCH_SIZE, pin_memory=True)\n",
    "    if only_valid_data:\n",
    "        return valid_dataloader\n",
    "    else:\n",
    "        train_ds = CustomDataset(x_train, y_train, transform=train_transform)\n",
    "        train_dataloader = DataLoader(train_ds, batch_size=BATCH_SIZE, pin_memory=True)\n",
    "        return train_dataloader, valid_dataloader"
   ]
  },
  {
   "cell_type": "code",
   "execution_count": 6,
   "id": "9ce39f8e",
   "metadata": {
    "execution": {
     "iopub.execute_input": "2022-07-01T02:21:45.585376Z",
     "iopub.status.busy": "2022-07-01T02:21:45.585035Z",
     "iopub.status.idle": "2022-07-01T02:21:45.593618Z",
     "shell.execute_reply": "2022-07-01T02:21:45.592727Z"
    },
    "papermill": {
     "duration": 0.020539,
     "end_time": "2022-07-01T02:21:45.597132",
     "exception": false,
     "start_time": "2022-07-01T02:21:45.576593",
     "status": "completed"
    },
    "tags": []
   },
   "outputs": [],
   "source": [
    "def get_test_dataloader(transform=None):\n",
    "    test_data  = pd.read_csv(os.path.join(DATA_PATH, \"../CNN/mnist_test.csv\"))\n",
    "\n",
    "    x_test = test_data.to_numpy(dtype=np.float32).reshape(-1, 28, 28, 1)\n",
    "    # Feature engineering\n",
    "    x_test = x_test/255\n",
    "    # Dataset and DataLoader\n",
    "    test_ds  = CustomDataset(x_test, None, transform=transform)\n",
    "    test_dataloader  = DataLoader(test_ds, batch_size=BATCH_SIZE, pin_memory=True)\n",
    "\n",
    "    return test_dataloader"
   ]
  },
  {
   "cell_type": "markdown",
   "id": "8b38dd83",
   "metadata": {
    "papermill": {
     "duration": 0.005585,
     "end_time": "2022-07-01T02:21:45.613050",
     "exception": false,
     "start_time": "2022-07-01T02:21:45.607465",
     "status": "completed"
    },
    "tags": []
   },
   "source": [
    "## Data Augmentation"
   ]
  },
  {
   "cell_type": "code",
   "execution_count": 7,
   "id": "23969747",
   "metadata": {
    "execution": {
     "iopub.execute_input": "2022-07-01T02:21:45.631934Z",
     "iopub.status.busy": "2022-07-01T02:21:45.631496Z",
     "iopub.status.idle": "2022-07-01T02:21:45.638001Z",
     "shell.execute_reply": "2022-07-01T02:21:45.637179Z"
    },
    "papermill": {
     "duration": 0.020804,
     "end_time": "2022-07-01T02:21:45.641880",
     "exception": false,
     "start_time": "2022-07-01T02:21:45.621076",
     "status": "completed"
    },
    "tags": []
   },
   "outputs": [],
   "source": [
    "train_transform = A.Compose([\n",
    "        A.ShiftScaleRotate(shift_limit=0.15, \n",
    "                           scale_limit=0.2, \n",
    "                           rotate_limit=25, \n",
    "                           border_mode=cv2.BORDER_CONSTANT, p=0.75),\n",
    "        ToTensorV2(),\n",
    "    ])\n",
    "\n",
    "valid_transform = A.Compose([\n",
    "        ToTensorV2(),\n",
    "    ])\n",
    "\n",
    "test_transform = A.Compose([\n",
    "        ToTensorV2(),\n",
    "    ])"
   ]
  },
  {
   "cell_type": "markdown",
   "id": "09bcdd3c",
   "metadata": {
    "papermill": {
     "duration": 0.008343,
     "end_time": "2022-07-01T02:21:45.658817",
     "exception": false,
     "start_time": "2022-07-01T02:21:45.650474",
     "status": "completed"
    },
    "tags": []
   },
   "source": [
    "## Model"
   ]
  },
  {
   "cell_type": "code",
   "execution_count": 8,
   "id": "e7c06402",
   "metadata": {
    "execution": {
     "iopub.execute_input": "2022-07-01T02:21:45.677545Z",
     "iopub.status.busy": "2022-07-01T02:21:45.677204Z",
     "iopub.status.idle": "2022-07-01T02:21:45.690762Z",
     "shell.execute_reply": "2022-07-01T02:21:45.689959Z"
    },
    "papermill": {
     "duration": 0.025489,
     "end_time": "2022-07-01T02:21:45.693299",
     "exception": false,
     "start_time": "2022-07-01T02:21:45.667810",
     "status": "completed"
    },
    "tags": []
   },
   "outputs": [],
   "source": [
    "class NeuralNetwork(nn.Module):\n",
    "    def __init__(self, config):\n",
    "        super(NeuralNetwork, self).__init__()\n",
    "        filters_1 = config[\"filters_1\"]\n",
    "        filters_2 = config[\"filters_2\"]\n",
    "        self.conv2d1 = nn.Conv2d(1, filters_1, 3)\n",
    "        self.conv2d2 = nn.Conv2d(filters_1, filters_1, 3)\n",
    "        self.conv2d3 = nn.Conv2d(filters_1, filters_2, 3)\n",
    "        self.conv2d4 = nn.Conv2d(filters_2, filters_2, 3)\n",
    "        self.maxpool2d = nn.MaxPool2d(2)\n",
    "        self.flatten = nn.Flatten()\n",
    "        self.dropout1 = nn.Dropout(0.2)\n",
    "        self.fc = nn.Linear(filters_2*4*4, 10)\n",
    "\n",
    "    def forward(self, x):\n",
    "        x = self.maxpool2d(F.relu(self.conv2d2(F.relu(self.conv2d1(x)))))\n",
    "        x = self.maxpool2d(F.relu(self.conv2d4(F.relu(self.conv2d3(x)))))\n",
    "        x = self.flatten(x)\n",
    "        x = self.fc(self.dropout1(x))\n",
    "        return x"
   ]
  },
  {
   "cell_type": "code",
   "execution_count": 9,
   "id": "d1142542",
   "metadata": {
    "execution": {
     "iopub.execute_input": "2022-07-01T02:21:45.712329Z",
     "iopub.status.busy": "2022-07-01T02:21:45.712012Z",
     "iopub.status.idle": "2022-07-01T02:21:45.723155Z",
     "shell.execute_reply": "2022-07-01T02:21:45.722363Z"
    },
    "papermill": {
     "duration": 0.023604,
     "end_time": "2022-07-01T02:21:45.725748",
     "exception": false,
     "start_time": "2022-07-01T02:21:45.702144",
     "status": "completed"
    },
    "tags": []
   },
   "outputs": [],
   "source": [
    "def train(dataloader, model, loss_fn, optimizer):\n",
    "    size = len(dataloader.dataset)\n",
    "    num_batches = len(dataloader)\n",
    "    model.train()\n",
    "    train_loss, correct = 0, 0\n",
    "    for X, y in dataloader:\n",
    "        X, y = X.to(DEVICE), y.to(DEVICE)\n",
    "        pred = model(X)\n",
    "        loss = loss_fn(pred, y)\n",
    "        for param in model.parameters():\n",
    "            param.grad = None\n",
    "        loss.backward()\n",
    "        optimizer.step()\n",
    "        train_loss += loss.item()\n",
    "        correct += (pred.argmax(1) == y).type(torch.float).sum().item()\n",
    "    train_loss /= num_batches\n",
    "    correct /= size\n",
    "    return train_loss, correct"
   ]
  },
  {
   "cell_type": "code",
   "execution_count": 10,
   "id": "39cc7be6",
   "metadata": {
    "execution": {
     "iopub.execute_input": "2022-07-01T02:21:45.744439Z",
     "iopub.status.busy": "2022-07-01T02:21:45.744132Z",
     "iopub.status.idle": "2022-07-01T02:21:45.754654Z",
     "shell.execute_reply": "2022-07-01T02:21:45.753878Z"
    },
    "papermill": {
     "duration": 0.022502,
     "end_time": "2022-07-01T02:21:45.757211",
     "exception": false,
     "start_time": "2022-07-01T02:21:45.734709",
     "status": "completed"
    },
    "tags": []
   },
   "outputs": [],
   "source": [
    "def test(dataloader, model, loss_fn):\n",
    "    size = len(dataloader.dataset)\n",
    "    num_batches = len(dataloader)\n",
    "    model.eval()\n",
    "    test_loss, correct = 0, 0\n",
    "    with torch.no_grad():\n",
    "        for X, y in dataloader:\n",
    "            X, y = X.to(DEVICE), y.to(DEVICE)\n",
    "            pred = model(X)\n",
    "            test_loss += loss_fn(pred, y).item()\n",
    "            correct += (pred.argmax(1) == y).type(torch.float).sum().item()\n",
    "    test_loss /= num_batches\n",
    "    correct /= size\n",
    "    return test_loss, correct"
   ]
  },
  {
   "cell_type": "markdown",
   "id": "01d15192",
   "metadata": {
    "papermill": {
     "duration": 0.008167,
     "end_time": "2022-07-01T02:21:45.773928",
     "exception": false,
     "start_time": "2022-07-01T02:21:45.765761",
     "status": "completed"
    },
    "tags": []
   },
   "source": [
    "## Train Model"
   ]
  },
  {
   "cell_type": "code",
   "execution_count": 11,
   "id": "7d717c02",
   "metadata": {
    "execution": {
     "iopub.execute_input": "2022-07-01T02:21:45.792348Z",
     "iopub.status.busy": "2022-07-01T02:21:45.792042Z",
     "iopub.status.idle": "2022-07-01T02:21:45.804330Z",
     "shell.execute_reply": "2022-07-01T02:21:45.803557Z"
    },
    "papermill": {
     "duration": 0.02451,
     "end_time": "2022-07-01T02:21:45.807074",
     "exception": false,
     "start_time": "2022-07-01T02:21:45.782564",
     "status": "completed"
    },
    "tags": []
   },
   "outputs": [],
   "source": [
    "def train_model(config):\n",
    "    transforms = train_transform, valid_transform\n",
    "\n",
    "    train_dataloader, valid_dataloader = get_train_dataloader(transforms=transforms)\n",
    "    \n",
    "    model = NeuralNetwork(config).to(DEVICE)\n",
    "    loss_fn = nn.CrossEntropyLoss()\n",
    "    optimizer = optim.Adam(model.parameters(), lr=config[\"lr\"])\n",
    "\n",
    "    current_val_accuracy = 0\n",
    "    patience_count = 0\n",
    "\n",
    "    for t in range(EPOCH):\n",
    "        loss, accuracy = train(train_dataloader, model, loss_fn, optimizer)\n",
    "        val_loss, val_accuracy = test(valid_dataloader, model, loss_fn)\n",
    "        if patience_count == PATIENCE+1:\n",
    "            break\n",
    "        tune.report(\n",
    "            accuracy=accuracy,\n",
    "            loss=loss,\n",
    "            val_accuracy=val_accuracy, \n",
    "            val_loss=val_loss)\n",
    "        if current_val_accuracy < val_accuracy:\n",
    "            current_val_accuracy = val_accuracy\n",
    "            torch.save(model.state_dict(), \"./model.pth\")\n",
    "            patience_count = 0\n",
    "        else:\n",
    "            patience_count += 1"
   ]
  },
  {
   "cell_type": "markdown",
   "id": "3c11865d",
   "metadata": {
    "papermill": {
     "duration": 0.008455,
     "end_time": "2022-07-01T02:21:45.824271",
     "exception": false,
     "start_time": "2022-07-01T02:21:45.815816",
     "status": "completed"
    },
    "tags": []
   },
   "source": [
    "## Hyperparameter Tuning"
   ]
  },
  {
   "cell_type": "code",
   "execution_count": 12,
   "id": "de78ac1b",
   "metadata": {
    "execution": {
     "iopub.execute_input": "2022-07-01T02:21:45.842784Z",
     "iopub.status.busy": "2022-07-01T02:21:45.842427Z",
     "iopub.status.idle": "2022-07-01T03:14:23.611018Z",
     "shell.execute_reply": "2022-07-01T03:14:23.609988Z"
    },
    "papermill": {
     "duration": 3157.780457,
     "end_time": "2022-07-01T03:14:23.613290",
     "exception": false,
     "start_time": "2022-07-01T02:21:45.832833",
     "status": "completed"
    },
    "tags": []
   },
   "outputs": [
    {
     "data": {
      "text/html": [
       "== Status ==<br>Current time: 2022-07-01 11:04:46 (running for 00:02:59.25)<br>Memory usage on this node: 7.1/7.8 GiB: ***LOW MEMORY*** less than 10% of the memory on this node is available for use. This can cause unexpected crashes. Consider reducing the memory used by your application or reducing the Ray object store size by setting `object_store_memory` when calling `ray.init`.<br>Using FIFO scheduling algorithm.<br>Resources requested: 0/8 CPUs, 0/1 GPUs, 0.0/1.29 GiB heap, 0.0/0.65 GiB objects<br>Result logdir: e:\\Jay\\Data Science Sem 3\\Digit Recognizer MNIST\\output\\train_model_2022-07-01_11-01-46<br>Number of trials: 27/27 (27 ERROR)<br>Number of errored trials: 27<br><table>\n",
       "<thead>\n",
       "<tr><th>Trial name             </th><th style=\"text-align: right;\">  # failures</th><th>error file                                                                                                                                                                          </th></tr>\n",
       "</thead>\n",
       "<tbody>\n",
       "<tr><td>train_model_19788_00000</td><td style=\"text-align: right;\">           1</td><td>e:\\Jay\\Data Science Sem 3\\Digit Recognizer MNIST\\output\\train_model_2022-07-01_11-01-46\\train_model_19788_00000_0_filters_1=16,filters_2=16,lr=0.0050_2022-07-01_11-01-47\\error.txt </td></tr>\n",
       "<tr><td>train_model_19788_00001</td><td style=\"text-align: right;\">           1</td><td>e:\\Jay\\Data Science Sem 3\\Digit Recognizer MNIST\\output\\train_model_2022-07-01_11-01-46\\train_model_19788_00001_1_filters_1=32,filters_2=16,lr=0.0050_2022-07-01_11-01-53\\error.txt </td></tr>\n",
       "<tr><td>train_model_19788_00002</td><td style=\"text-align: right;\">           1</td><td>e:\\Jay\\Data Science Sem 3\\Digit Recognizer MNIST\\output\\train_model_2022-07-01_11-01-46\\train_model_19788_00002_2_filters_1=64,filters_2=16,lr=0.0050_2022-07-01_11-01-58\\error.txt </td></tr>\n",
       "<tr><td>train_model_19788_00003</td><td style=\"text-align: right;\">           1</td><td>e:\\Jay\\Data Science Sem 3\\Digit Recognizer MNIST\\output\\train_model_2022-07-01_11-01-46\\train_model_19788_00003_3_filters_1=16,filters_2=32,lr=0.0050_2022-07-01_11-02-03\\error.txt </td></tr>\n",
       "<tr><td>train_model_19788_00004</td><td style=\"text-align: right;\">           1</td><td>e:\\Jay\\Data Science Sem 3\\Digit Recognizer MNIST\\output\\train_model_2022-07-01_11-01-46\\train_model_19788_00004_4_filters_1=32,filters_2=32,lr=0.0050_2022-07-01_11-02-09\\error.txt </td></tr>\n",
       "<tr><td>train_model_19788_00005</td><td style=\"text-align: right;\">           1</td><td>e:\\Jay\\Data Science Sem 3\\Digit Recognizer MNIST\\output\\train_model_2022-07-01_11-01-46\\train_model_19788_00005_5_filters_1=64,filters_2=32,lr=0.0050_2022-07-01_11-02-15\\error.txt </td></tr>\n",
       "<tr><td>train_model_19788_00006</td><td style=\"text-align: right;\">           1</td><td>e:\\Jay\\Data Science Sem 3\\Digit Recognizer MNIST\\output\\train_model_2022-07-01_11-01-46\\train_model_19788_00006_6_filters_1=16,filters_2=64,lr=0.0050_2022-07-01_11-02-21\\error.txt </td></tr>\n",
       "<tr><td>train_model_19788_00007</td><td style=\"text-align: right;\">           1</td><td>e:\\Jay\\Data Science Sem 3\\Digit Recognizer MNIST\\output\\train_model_2022-07-01_11-01-46\\train_model_19788_00007_7_filters_1=32,filters_2=64,lr=0.0050_2022-07-01_11-02-27\\error.txt </td></tr>\n",
       "<tr><td>train_model_19788_00008</td><td style=\"text-align: right;\">           1</td><td>e:\\Jay\\Data Science Sem 3\\Digit Recognizer MNIST\\output\\train_model_2022-07-01_11-01-46\\train_model_19788_00008_8_filters_1=64,filters_2=64,lr=0.0050_2022-07-01_11-02-33\\error.txt </td></tr>\n",
       "<tr><td>train_model_19788_00009</td><td style=\"text-align: right;\">           1</td><td>e:\\Jay\\Data Science Sem 3\\Digit Recognizer MNIST\\output\\train_model_2022-07-01_11-01-46\\train_model_19788_00009_9_filters_1=16,filters_2=16,lr=0.0100_2022-07-01_11-02-39\\error.txt </td></tr>\n",
       "<tr><td>train_model_19788_00010</td><td style=\"text-align: right;\">           1</td><td>e:\\Jay\\Data Science Sem 3\\Digit Recognizer MNIST\\output\\train_model_2022-07-01_11-01-46\\train_model_19788_00010_10_filters_1=32,filters_2=16,lr=0.0100_2022-07-01_11-02-45\\error.txt</td></tr>\n",
       "<tr><td>train_model_19788_00011</td><td style=\"text-align: right;\">           1</td><td>e:\\Jay\\Data Science Sem 3\\Digit Recognizer MNIST\\output\\train_model_2022-07-01_11-01-46\\train_model_19788_00011_11_filters_1=64,filters_2=16,lr=0.0100_2022-07-01_11-02-50\\error.txt</td></tr>\n",
       "<tr><td>train_model_19788_00012</td><td style=\"text-align: right;\">           1</td><td>e:\\Jay\\Data Science Sem 3\\Digit Recognizer MNIST\\output\\train_model_2022-07-01_11-01-46\\train_model_19788_00012_12_filters_1=16,filters_2=32,lr=0.0100_2022-07-01_11-02-55\\error.txt</td></tr>\n",
       "<tr><td>train_model_19788_00013</td><td style=\"text-align: right;\">           1</td><td>e:\\Jay\\Data Science Sem 3\\Digit Recognizer MNIST\\output\\train_model_2022-07-01_11-01-46\\train_model_19788_00013_13_filters_1=32,filters_2=32,lr=0.0100_2022-07-01_11-03-00\\error.txt</td></tr>\n",
       "<tr><td>train_model_19788_00014</td><td style=\"text-align: right;\">           1</td><td>e:\\Jay\\Data Science Sem 3\\Digit Recognizer MNIST\\output\\train_model_2022-07-01_11-01-46\\train_model_19788_00014_14_filters_1=64,filters_2=32,lr=0.0100_2022-07-01_11-03-05\\error.txt</td></tr>\n",
       "<tr><td>train_model_19788_00015</td><td style=\"text-align: right;\">           1</td><td>e:\\Jay\\Data Science Sem 3\\Digit Recognizer MNIST\\output\\train_model_2022-07-01_11-01-46\\train_model_19788_00015_15_filters_1=16,filters_2=64,lr=0.0100_2022-07-01_11-03-11\\error.txt</td></tr>\n",
       "<tr><td>train_model_19788_00016</td><td style=\"text-align: right;\">           1</td><td>e:\\Jay\\Data Science Sem 3\\Digit Recognizer MNIST\\output\\train_model_2022-07-01_11-01-46\\train_model_19788_00016_16_filters_1=32,filters_2=64,lr=0.0100_2022-07-01_11-03-17\\error.txt</td></tr>\n",
       "<tr><td>train_model_19788_00017</td><td style=\"text-align: right;\">           1</td><td>e:\\Jay\\Data Science Sem 3\\Digit Recognizer MNIST\\output\\train_model_2022-07-01_11-01-46\\train_model_19788_00017_17_filters_1=64,filters_2=64,lr=0.0100_2022-07-01_11-03-25\\error.txt</td></tr>\n",
       "<tr><td>train_model_19788_00018</td><td style=\"text-align: right;\">           1</td><td>e:\\Jay\\Data Science Sem 3\\Digit Recognizer MNIST\\output\\train_model_2022-07-01_11-01-46\\train_model_19788_00018_18_filters_1=16,filters_2=16,lr=0.0500_2022-07-01_11-03-32\\error.txt</td></tr>\n",
       "<tr><td>train_model_19788_00019</td><td style=\"text-align: right;\">           1</td><td>e:\\Jay\\Data Science Sem 3\\Digit Recognizer MNIST\\output\\train_model_2022-07-01_11-01-46\\train_model_19788_00019_19_filters_1=32,filters_2=16,lr=0.0500_2022-07-01_11-03-41\\error.txt</td></tr>\n",
       "<tr><td>train_model_19788_00020</td><td style=\"text-align: right;\">           1</td><td>e:\\Jay\\Data Science Sem 3\\Digit Recognizer MNIST\\output\\train_model_2022-07-01_11-01-46\\train_model_19788_00020_20_filters_1=64,filters_2=16,lr=0.0500_2022-07-01_11-03-50\\error.txt</td></tr>\n",
       "<tr><td>train_model_19788_00021</td><td style=\"text-align: right;\">           1</td><td>e:\\Jay\\Data Science Sem 3\\Digit Recognizer MNIST\\output\\train_model_2022-07-01_11-01-46\\train_model_19788_00021_21_filters_1=16,filters_2=32,lr=0.0500_2022-07-01_11-04-00\\error.txt</td></tr>\n",
       "<tr><td>train_model_19788_00022</td><td style=\"text-align: right;\">           1</td><td>e:\\Jay\\Data Science Sem 3\\Digit Recognizer MNIST\\output\\train_model_2022-07-01_11-01-46\\train_model_19788_00022_22_filters_1=32,filters_2=32,lr=0.0500_2022-07-01_11-04-09\\error.txt</td></tr>\n",
       "<tr><td>train_model_19788_00023</td><td style=\"text-align: right;\">           1</td><td>e:\\Jay\\Data Science Sem 3\\Digit Recognizer MNIST\\output\\train_model_2022-07-01_11-01-46\\train_model_19788_00023_23_filters_1=64,filters_2=32,lr=0.0500_2022-07-01_11-04-18\\error.txt</td></tr>\n",
       "<tr><td>train_model_19788_00024</td><td style=\"text-align: right;\">           1</td><td>e:\\Jay\\Data Science Sem 3\\Digit Recognizer MNIST\\output\\train_model_2022-07-01_11-01-46\\train_model_19788_00024_24_filters_1=16,filters_2=64,lr=0.0500_2022-07-01_11-04-26\\error.txt</td></tr>\n",
       "<tr><td>train_model_19788_00025</td><td style=\"text-align: right;\">           1</td><td>e:\\Jay\\Data Science Sem 3\\Digit Recognizer MNIST\\output\\train_model_2022-07-01_11-01-46\\train_model_19788_00025_25_filters_1=32,filters_2=64,lr=0.0500_2022-07-01_11-04-32\\error.txt</td></tr>\n",
       "<tr><td>train_model_19788_00026</td><td style=\"text-align: right;\">           1</td><td>e:\\Jay\\Data Science Sem 3\\Digit Recognizer MNIST\\output\\train_model_2022-07-01_11-01-46\\train_model_19788_00026_26_filters_1=64,filters_2=64,lr=0.0500_2022-07-01_11-04-39\\error.txt</td></tr>\n",
       "</tbody>\n",
       "</table><br>"
      ],
      "text/plain": [
       "<IPython.core.display.HTML object>"
      ]
     },
     "metadata": {},
     "output_type": "display_data"
    },
    {
     "name": "stderr",
     "output_type": "stream",
     "text": [
      "\u001b[2m\u001b[36m(pid=)\u001b[0m 2022-07-01 11:04:46,257\tINFO context.py:67 -- Exec'ing worker with command: \"c:\\Users\\jayan\\anaconda3\\python.exe\" c:\\Users\\jayan\\anaconda3\\lib\\site-packages\\ray\\workers/default_worker.py --node-ip-address=127.0.0.1 --node-manager-port=58893 --object-store-name=tcp://127.0.0.1:60262 --raylet-name=tcp://127.0.0.1:64110 --redis-address=None --storage=None --temp-dir=C:\\Users\\jayan\\AppData\\Local\\Temp\\ray --metrics-agent-port=65439 --logging-rotate-bytes=536870912 --logging-rotate-backup-count=5 --gcs-address=127.0.0.1:62598 --redis-password=5241590000000000 --startup-token=34 --runtime-env-hash=1352557532\n"
     ]
    },
    {
     "ename": "TuneError",
     "evalue": "('Trials did not complete', [train_model_19788_00000, train_model_19788_00001, train_model_19788_00002, train_model_19788_00003, train_model_19788_00004, train_model_19788_00005, train_model_19788_00006, train_model_19788_00007, train_model_19788_00008, train_model_19788_00009, train_model_19788_00010, train_model_19788_00011, train_model_19788_00012, train_model_19788_00013, train_model_19788_00014, train_model_19788_00015, train_model_19788_00016, train_model_19788_00017, train_model_19788_00018, train_model_19788_00019, train_model_19788_00020, train_model_19788_00021, train_model_19788_00022, train_model_19788_00023, train_model_19788_00024, train_model_19788_00025, train_model_19788_00026])",
     "output_type": "error",
     "traceback": [
      "\u001b[1;31m---------------------------------------------------------------------------\u001b[0m",
      "\u001b[1;31mTuneError\u001b[0m                                 Traceback (most recent call last)",
      "\u001b[1;32me:\\Jay\\Data Science Sem 3\\Digit Recognizer MNIST\\digit-recognizer-cnn-pytorch.ipynb Cell 17'\u001b[0m in \u001b[0;36m<cell line: 7>\u001b[1;34m()\u001b[0m\n\u001b[0;32m      <a href='vscode-notebook-cell:/e%3A/Jay/Data%20Science%20Sem%203/Digit%20Recognizer%20MNIST/digit-recognizer-cnn-pytorch.ipynb#ch0000016?line=0'>1</a>\u001b[0m search_space \u001b[39m=\u001b[39m {\n\u001b[0;32m      <a href='vscode-notebook-cell:/e%3A/Jay/Data%20Science%20Sem%203/Digit%20Recognizer%20MNIST/digit-recognizer-cnn-pytorch.ipynb#ch0000016?line=1'>2</a>\u001b[0m     \u001b[39m\"\u001b[39m\u001b[39mfilters_1\u001b[39m\u001b[39m\"\u001b[39m: tune\u001b[39m.\u001b[39mgrid_search([\u001b[39m16\u001b[39m, \u001b[39m32\u001b[39m, \u001b[39m64\u001b[39m]),\n\u001b[0;32m      <a href='vscode-notebook-cell:/e%3A/Jay/Data%20Science%20Sem%203/Digit%20Recognizer%20MNIST/digit-recognizer-cnn-pytorch.ipynb#ch0000016?line=2'>3</a>\u001b[0m     \u001b[39m\"\u001b[39m\u001b[39mfilters_2\u001b[39m\u001b[39m\"\u001b[39m: tune\u001b[39m.\u001b[39mgrid_search([\u001b[39m16\u001b[39m, \u001b[39m32\u001b[39m, \u001b[39m64\u001b[39m]),\n\u001b[0;32m      <a href='vscode-notebook-cell:/e%3A/Jay/Data%20Science%20Sem%203/Digit%20Recognizer%20MNIST/digit-recognizer-cnn-pytorch.ipynb#ch0000016?line=3'>4</a>\u001b[0m     \u001b[39m\"\u001b[39m\u001b[39mlr\u001b[39m\u001b[39m\"\u001b[39m: tune\u001b[39m.\u001b[39mgrid_search([\u001b[39m0.005\u001b[39m, \u001b[39m0.01\u001b[39m, \u001b[39m0.05\u001b[39m])\n\u001b[0;32m      <a href='vscode-notebook-cell:/e%3A/Jay/Data%20Science%20Sem%203/Digit%20Recognizer%20MNIST/digit-recognizer-cnn-pytorch.ipynb#ch0000016?line=4'>5</a>\u001b[0m     }\n\u001b[1;32m----> <a href='vscode-notebook-cell:/e%3A/Jay/Data%20Science%20Sem%203/Digit%20Recognizer%20MNIST/digit-recognizer-cnn-pytorch.ipynb#ch0000016?line=6'>7</a>\u001b[0m analysis \u001b[39m=\u001b[39m tune\u001b[39m.\u001b[39;49mrun(\n\u001b[0;32m      <a href='vscode-notebook-cell:/e%3A/Jay/Data%20Science%20Sem%203/Digit%20Recognizer%20MNIST/digit-recognizer-cnn-pytorch.ipynb#ch0000016?line=7'>8</a>\u001b[0m     train_model,\n\u001b[0;32m      <a href='vscode-notebook-cell:/e%3A/Jay/Data%20Science%20Sem%203/Digit%20Recognizer%20MNIST/digit-recognizer-cnn-pytorch.ipynb#ch0000016?line=8'>9</a>\u001b[0m     config\u001b[39m=\u001b[39;49msearch_space,\n\u001b[0;32m     <a href='vscode-notebook-cell:/e%3A/Jay/Data%20Science%20Sem%203/Digit%20Recognizer%20MNIST/digit-recognizer-cnn-pytorch.ipynb#ch0000016?line=9'>10</a>\u001b[0m     resources_per_trial\u001b[39m=\u001b[39;49m{\u001b[39m'\u001b[39;49m\u001b[39mgpu\u001b[39;49m\u001b[39m'\u001b[39;49m: \u001b[39m1\u001b[39;49m},\n\u001b[0;32m     <a href='vscode-notebook-cell:/e%3A/Jay/Data%20Science%20Sem%203/Digit%20Recognizer%20MNIST/digit-recognizer-cnn-pytorch.ipynb#ch0000016?line=10'>11</a>\u001b[0m     local_dir\u001b[39m=\u001b[39;49m\u001b[39m'\u001b[39;49m\u001b[39m./output/\u001b[39;49m\u001b[39m'\u001b[39;49m,\n\u001b[0;32m     <a href='vscode-notebook-cell:/e%3A/Jay/Data%20Science%20Sem%203/Digit%20Recognizer%20MNIST/digit-recognizer-cnn-pytorch.ipynb#ch0000016?line=11'>12</a>\u001b[0m     verbose\u001b[39m=\u001b[39;49m\u001b[39m1\u001b[39;49m,\n\u001b[0;32m     <a href='vscode-notebook-cell:/e%3A/Jay/Data%20Science%20Sem%203/Digit%20Recognizer%20MNIST/digit-recognizer-cnn-pytorch.ipynb#ch0000016?line=12'>13</a>\u001b[0m     )\n",
      "File \u001b[1;32mc:\\Users\\jayan\\anaconda3\\lib\\site-packages\\ray\\tune\\tune.py:741\u001b[0m, in \u001b[0;36mrun\u001b[1;34m(run_or_experiment, name, metric, mode, stop, time_budget_s, config, resources_per_trial, num_samples, local_dir, search_alg, scheduler, keep_checkpoints_num, checkpoint_score_attr, checkpoint_freq, checkpoint_at_end, verbose, progress_reporter, log_to_file, trial_name_creator, trial_dirname_creator, sync_config, export_formats, max_failures, fail_fast, restore, server_port, resume, reuse_actors, trial_executor, raise_on_failed_trial, callbacks, max_concurrent_trials, _experiment_checkpoint_dir, loggers, _remote)\u001b[0m\n\u001b[0;32m    739\u001b[0m \u001b[39mif\u001b[39;00m incomplete_trials:\n\u001b[0;32m    740\u001b[0m     \u001b[39mif\u001b[39;00m raise_on_failed_trial \u001b[39mand\u001b[39;00m \u001b[39mnot\u001b[39;00m state[\u001b[39m\"\u001b[39m\u001b[39msignal\u001b[39m\u001b[39m\"\u001b[39m]:\n\u001b[1;32m--> 741\u001b[0m         \u001b[39mraise\u001b[39;00m TuneError(\u001b[39m\"\u001b[39m\u001b[39mTrials did not complete\u001b[39m\u001b[39m\"\u001b[39m, incomplete_trials)\n\u001b[0;32m    742\u001b[0m     \u001b[39melse\u001b[39;00m:\n\u001b[0;32m    743\u001b[0m         logger\u001b[39m.\u001b[39merror(\u001b[39m\"\u001b[39m\u001b[39mTrials did not complete: \u001b[39m\u001b[39m%s\u001b[39;00m\u001b[39m\"\u001b[39m, incomplete_trials)\n",
      "\u001b[1;31mTuneError\u001b[0m: ('Trials did not complete', [train_model_19788_00000, train_model_19788_00001, train_model_19788_00002, train_model_19788_00003, train_model_19788_00004, train_model_19788_00005, train_model_19788_00006, train_model_19788_00007, train_model_19788_00008, train_model_19788_00009, train_model_19788_00010, train_model_19788_00011, train_model_19788_00012, train_model_19788_00013, train_model_19788_00014, train_model_19788_00015, train_model_19788_00016, train_model_19788_00017, train_model_19788_00018, train_model_19788_00019, train_model_19788_00020, train_model_19788_00021, train_model_19788_00022, train_model_19788_00023, train_model_19788_00024, train_model_19788_00025, train_model_19788_00026])"
     ]
    }
   ],
   "source": [
    "search_space = {\n",
    "    \"filters_1\": tune.grid_search([16, 32, 64]),\n",
    "    \"filters_2\": tune.grid_search([16, 32, 64]),\n",
    "    \"lr\": tune.grid_search([0.005, 0.01, 0.05])\n",
    "    }\n",
    "\n",
    "analysis = tune.run(\n",
    "    train_model,\n",
    "    config=search_space,\n",
    "    resources_per_trial={'gpu': 1},\n",
    "    local_dir='./output/',\n",
    "    verbose=1,\n",
    "    )"
   ]
  },
  {
   "cell_type": "code",
   "execution_count": null,
   "id": "8ed32499",
   "metadata": {
    "execution": {
     "iopub.execute_input": "2022-07-01T03:14:23.627027Z",
     "iopub.status.busy": "2022-07-01T03:14:23.626293Z",
     "iopub.status.idle": "2022-07-01T03:14:23.636206Z",
     "shell.execute_reply": "2022-07-01T03:14:23.635259Z"
    },
    "papermill": {
     "duration": 0.019106,
     "end_time": "2022-07-01T03:14:23.638424",
     "exception": false,
     "start_time": "2022-07-01T03:14:23.619318",
     "status": "completed"
    },
    "tags": []
   },
   "outputs": [
    {
     "name": "stdout",
     "output_type": "stream",
     "text": [
      "Best hyperparameters found were:\n",
      "{'filters_1': 64, 'filters_2': 64, 'lr': 0.005}\n"
     ]
    }
   ],
   "source": [
    "print(\"Best hyperparameters found were:\")\n",
    "best_trial = analysis.get_best_trial(\"val_accuracy\", \"max\", \"last\")\n",
    "\n",
    "for k, v in analysis.get_all_configs().items():\n",
    "    if v == best_trial.config:\n",
    "        keys = k\n",
    "        break\n",
    "print(best_trial.config)"
   ]
  },
  {
   "cell_type": "code",
   "execution_count": null,
   "id": "e741de22",
   "metadata": {
    "execution": {
     "iopub.execute_input": "2022-07-01T03:14:23.651854Z",
     "iopub.status.busy": "2022-07-01T03:14:23.651582Z",
     "iopub.status.idle": "2022-07-01T03:14:23.690967Z",
     "shell.execute_reply": "2022-07-01T03:14:23.690031Z"
    },
    "papermill": {
     "duration": 0.048758,
     "end_time": "2022-07-01T03:14:23.693335",
     "exception": false,
     "start_time": "2022-07-01T03:14:23.644577",
     "status": "completed"
    },
    "tags": []
   },
   "outputs": [],
   "source": [
    "config_list = []\n",
    "for i in analysis.get_all_configs().keys():\n",
    "    config_list.append(analysis.get_all_configs()[i])\n",
    "\n",
    "accury_list = []\n",
    "dfs = analysis.trial_dataframes\n",
    "for i, d in enumerate(dfs.values()):\n",
    "    accury_list.append(d.val_accuracy.max())\n",
    "# Top 3\n",
    "index = sorted(range(len(accury_list)), key=lambda i: accury_list[i])[-3:]"
   ]
  },
  {
   "cell_type": "code",
   "execution_count": null,
   "id": "659c9e62",
   "metadata": {
    "execution": {
     "iopub.execute_input": "2022-07-01T03:14:23.706421Z",
     "iopub.status.busy": "2022-07-01T03:14:23.706173Z",
     "iopub.status.idle": "2022-07-01T03:14:24.027365Z",
     "shell.execute_reply": "2022-07-01T03:14:24.026357Z"
    },
    "papermill": {
     "duration": 0.330237,
     "end_time": "2022-07-01T03:14:24.029515",
     "exception": false,
     "start_time": "2022-07-01T03:14:23.699278",
     "status": "completed"
    },
    "tags": []
   },
   "outputs": [
    {
     "data": {
      "image/png": "[encoded data removed]",
      "text/plain": [
       "<Figure size 432x288 with 1 Axes>"
      ]
     },
     "metadata": {
      "needs_background": "light"
     },
     "output_type": "display_data"
    }
   ],
   "source": [
    "plt.figure(figsize=(6, 4))\n",
    "for i in index:\n",
    "    dfs[list(dfs.keys())[i]].val_accuracy.plot(label=str(config_list[i]))\n",
    "plt.legend()\n",
    "plt.tight_layout()\n",
    "plt.grid(axis='x')\n",
    "plt.show()"
   ]
  },
  {
   "cell_type": "markdown",
   "id": "ae90955d",
   "metadata": {
    "papermill": {
     "duration": 0.007243,
     "end_time": "2022-07-01T03:14:24.043665",
     "exception": false,
     "start_time": "2022-07-01T03:14:24.036422",
     "status": "completed"
    },
    "tags": []
   },
   "source": [
    "## Vaildate the best model"
   ]
  },
  {
   "cell_type": "code",
   "execution_count": null,
   "id": "d4acc6cd",
   "metadata": {
    "execution": {
     "iopub.execute_input": "2022-07-01T03:14:24.057564Z",
     "iopub.status.busy": "2022-07-01T03:14:24.057288Z",
     "iopub.status.idle": "2022-07-01T03:14:24.368555Z",
     "shell.execute_reply": "2022-07-01T03:14:24.367703Z"
    },
    "papermill": {
     "duration": 0.320699,
     "end_time": "2022-07-01T03:14:24.370806",
     "exception": false,
     "start_time": "2022-07-01T03:14:24.050107",
     "status": "completed"
    },
    "tags": []
   },
   "outputs": [
    {
     "data": {
      "image/png": "[encoded data removed]",
      "text/plain": [
       "<Figure size 720x288 with 2 Axes>"
      ]
     },
     "metadata": {
      "needs_background": "light"
     },
     "output_type": "display_data"
    }
   ],
   "source": [
    "fig, (ax1, ax2) = plt.subplots(1, 2, figsize=(10, 4))\n",
    "ax1.set_title('Accuracy')\n",
    "ax1.plot(dfs[keys]['accuracy'], 'r', label='accuracy')\n",
    "ax1.plot(dfs[keys]['val_accuracy'], 'g', label='val_accuracy')\n",
    "ax1.legend()\n",
    "ax1.grid(axis='x')\n",
    "\n",
    "ax2.set_title('Loss')\n",
    "ax2.plot(dfs[keys]['loss'], 'r', label='loss')\n",
    "ax2.plot(dfs[keys]['val_loss'], 'g', label='val_loss')\n",
    "ax2.legend()\n",
    "ax2.grid(axis='x')\n",
    "\n",
    "plt.show()"
   ]
  },
  {
   "cell_type": "code",
   "execution_count": null,
   "id": "8cfef1f8",
   "metadata": {
    "execution": {
     "iopub.execute_input": "2022-07-01T03:14:24.388826Z",
     "iopub.status.busy": "2022-07-01T03:14:24.387213Z",
     "iopub.status.idle": "2022-07-01T03:14:28.294683Z",
     "shell.execute_reply": "2022-07-01T03:14:28.293721Z"
    },
    "papermill": {
     "duration": 3.919173,
     "end_time": "2022-07-01T03:14:28.297270",
     "exception": false,
     "start_time": "2022-07-01T03:14:24.378097",
     "status": "completed"
    },
    "tags": []
   },
   "outputs": [
    {
     "data": {
      "text/plain": [
       "NeuralNetwork(\n",
       "  (conv2d1): Conv2d(1, 64, kernel_size=(3, 3), stride=(1, 1))\n",
       "  (conv2d2): Conv2d(64, 64, kernel_size=(3, 3), stride=(1, 1))\n",
       "  (conv2d3): Conv2d(64, 64, kernel_size=(3, 3), stride=(1, 1))\n",
       "  (conv2d4): Conv2d(64, 64, kernel_size=(3, 3), stride=(1, 1))\n",
       "  (maxpool2d): MaxPool2d(kernel_size=2, stride=2, padding=0, dilation=1, ceil_mode=False)\n",
       "  (flatten): Flatten(start_dim=1, end_dim=-1)\n",
       "  (dropout1): Dropout(p=0.2, inplace=False)\n",
       "  (fc): Linear(in_features=1024, out_features=10, bias=True)\n",
       ")"
      ]
     },
     "execution_count": 16,
     "metadata": {},
     "output_type": "execute_result"
    }
   ],
   "source": [
    "logdir = analysis.get_best_logdir(\"val_accuracy\", mode=\"max\")\n",
    "state_dict = torch.load(os.path.join(logdir, \"model.pth\"))\n",
    "model = NeuralNetwork(best_trial.config).to(DEVICE)\n",
    "model.load_state_dict(state_dict)\n",
    "model.eval()"
   ]
  },
  {
   "cell_type": "code",
   "execution_count": null,
   "id": "ae5c4fa1",
   "metadata": {
    "execution": {
     "iopub.execute_input": "2022-07-01T03:14:28.313941Z",
     "iopub.status.busy": "2022-07-01T03:14:28.313589Z",
     "iopub.status.idle": "2022-07-01T03:14:32.184645Z",
     "shell.execute_reply": "2022-07-01T03:14:32.183724Z"
    },
    "papermill": {
     "duration": 3.882608,
     "end_time": "2022-07-01T03:14:32.187128",
     "exception": false,
     "start_time": "2022-07-01T03:14:28.304520",
     "status": "completed"
    },
    "tags": []
   },
   "outputs": [],
   "source": [
    "transforms = train_transform, valid_transform\n",
    "\n",
    "valid_dataloader = get_train_dataloader(only_valid_data=True, transforms=transforms)\n",
    "y_valid = []\n",
    "y_valid_pred = []\n",
    "\n",
    "with torch.no_grad():\n",
    "    for X, y in valid_dataloader:\n",
    "        X = X.to(DEVICE)\n",
    "        for i in y.numpy():\n",
    "            y_valid.append(i)\n",
    "        pred = model(X)\n",
    "        for i in pred.argmax(1).cpu().numpy():\n",
    "            y_valid_pred.append(i)\n",
    "y_valid = np.array(y_valid)\n",
    "y_valid_pred = np.array(y_valid_pred)"
   ]
  },
  {
   "cell_type": "code",
   "execution_count": null,
   "id": "cfb92d8a",
   "metadata": {
    "execution": {
     "iopub.execute_input": "2022-07-01T03:14:32.204826Z",
     "iopub.status.busy": "2022-07-01T03:14:32.204243Z",
     "iopub.status.idle": "2022-07-01T03:14:32.652607Z",
     "shell.execute_reply": "2022-07-01T03:14:32.651608Z"
    },
    "papermill": {
     "duration": 0.460197,
     "end_time": "2022-07-01T03:14:32.655040",
     "exception": false,
     "start_time": "2022-07-01T03:14:32.194843",
     "status": "completed"
    },
    "tags": []
   },
   "outputs": [
    {
     "data": {
      "image/png": "[encoded data removed]",
      "text/plain": [
       "<Figure size 360x360 with 1 Axes>"
      ]
     },
     "metadata": {
      "needs_background": "light"
     },
     "output_type": "display_data"
    }
   ],
   "source": [
    "matrix = confusion_matrix(y_valid, y_valid_pred)\n",
    "\n",
    "plt.figure(figsize=(5, 5))\n",
    "plt.imshow(matrix, vmin=0, vmax=20)\n",
    "for i in range(10):\n",
    "    for j in range(10):\n",
    "        plt.text(x=i, y=j, s=matrix[j, i], horizontalalignment='center')\n",
    "plt.title(\"Confusion Matrix\")\n",
    "plt.xticks(range(10))\n",
    "plt.yticks(range(10))\n",
    "plt.xlabel(\"Predicted Class\")\n",
    "plt.ylabel(\"True Class\")\n",
    "plt.grid(0)\n",
    "plt.show()"
   ]
  },
  {
   "cell_type": "markdown",
   "id": "3fe56057",
   "metadata": {
    "papermill": {
     "duration": 0.007451,
     "end_time": "2022-07-01T03:14:32.670852",
     "exception": false,
     "start_time": "2022-07-01T03:14:32.663401",
     "status": "completed"
    },
    "tags": []
   },
   "source": [
    "## Submit the prediction of test dataset"
   ]
  },
  {
   "cell_type": "code",
   "execution_count": null,
   "id": "06078944",
   "metadata": {
    "execution": {
     "iopub.execute_input": "2022-07-01T03:14:32.687384Z",
     "iopub.status.busy": "2022-07-01T03:14:32.687099Z",
     "iopub.status.idle": "2022-07-01T03:14:35.825529Z",
     "shell.execute_reply": "2022-07-01T03:14:35.824600Z"
    },
    "papermill": {
     "duration": 3.14982,
     "end_time": "2022-07-01T03:14:35.828240",
     "exception": false,
     "start_time": "2022-07-01T03:14:32.678420",
     "status": "completed"
    },
    "tags": []
   },
   "outputs": [],
   "source": [
    "test_dataloader = get_test_dataloader(transform=test_transform)\n",
    "\n",
    "y_test_pred = []\n",
    "with torch.no_grad():\n",
    "    for X in test_dataloader:\n",
    "        X = X.to(DEVICE)\n",
    "        pred = model(X)\n",
    "        for i in pred.argmax(1).cpu().numpy():\n",
    "            y_test_pred.append(i)\n",
    "y_test_pred = np.array(y_test_pred)\n",
    "\n",
    "output = pd.read_csv(\"../input/digit-recognizer/sample_submission.csv\")\n",
    "output['Label'] = y_test_pred\n",
    "output.to_csv('./digit-recognizer.csv', index=False)"
   ]
  }
 ],
 "metadata": {
  "kernelspec": {
   "display_name": "Python 3.9.12 ('base')",
   "language": "python",
   "name": "python3"
  },
  "language_info": {
   "codemirror_mode": {
    "name": "ipython",
    "version": 3
   },
   "file_extension": ".py",
   "mimetype": "text/x-python",
   "name": "python",
   "nbconvert_exporter": "python",
   "pygments_lexer": "ipython3",
   "version": "3.9.12"
  },
  "papermill": {
   "default_parameters": {},
   "duration": 3194.014869,
   "end_time": "2022-07-01T03:14:41.061882",
   "environment_variables": {},
   "exception": null,
   "input_path": "__notebook__.ipynb",
   "output_path": "__notebook__.ipynb",
   "parameters": {},
   "start_time": "2022-07-01T02:21:27.047013",
   "version": "2.3.4"
  },
  "vscode": {
   "interpreter": {
    "hash": "51d2dbc107e90016ff58d506d19dfa66132cafa2ebfedbf9f4d98cf0f5094b18"
   }
  }
 },
 "nbformat": 4,
 "nbformat_minor": 5
}
