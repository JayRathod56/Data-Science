{
  "cells": [
    {
      "cell_type": "markdown",
      "metadata": {
        "id": "RKHbZ8aDa9Ko"
      },
      "source": [
        "### Generating names with recurrent neural networks\n",
        "\n",
        "This time you'll find yourself delving into the heart (and other intestines) of recurrent neural networks on a class of toy problems.\n",
        "\n",
        "Struggle to find a name for the variable? Let's see how you'll come up with a name for your son/daughter. Surely no human has expertize over what is a good child name, so let us train RNN instead;\n",
        "\n",
        "It's dangerous to go alone, take these:"
      ]
    },
    {
      "cell_type": "code",
      "execution_count": 2,
      "metadata": {
        "collapsed": true,
        "id": "CEE2KxBLa9K3"
      },
      "outputs": [],
      "source": [
        "import tensorflow as tf\n",
        "import numpy as np\n",
        "import matplotlib.pyplot as plt\n",
        "%matplotlib inline"
      ]
    },
    {
      "cell_type": "markdown",
      "metadata": {
        "id": "L_Ff97a6a9K5"
      },
      "source": [
        "# Our data\n",
        "The dataset contains ~8k earthling names from different cultures, all in latin transcript.\n",
        "\n",
        "This notebook has been designed so as to allow you to quickly swap names for something similar: deep learning article titles, IKEA furniture, pokemon names, etc."
      ]
    },
    {
      "cell_type": "code",
      "execution_count": 3,
      "metadata": {
        "collapsed": true,
        "id": "juJX_eoua9K8"
      },
      "outputs": [],
      "source": [
        "import os\n",
        "start_token = \" \"\n",
        "\n",
        "with open(\"names.txt\") as f:\n",
        "    names = f.read()[:-1].split('\\n')\n",
        "    names = [start_token+name for name in names]"
      ]
    },
    {
      "cell_type": "code",
      "execution_count": 4,
      "metadata": {
        "id": "UthOuJwIa9K8",
        "outputId": "61198623-9ef3-4b60-a20e-ea53d2cd9766"
      },
      "outputs": [
        {
          "name": "stdout",
          "output_type": "stream",
          "text": [
            "n samples =  55691\n",
            " Aaban\n",
            " Amartya\n",
            " Aaruren\n",
            " Arijan\n",
            " Borna\n",
            " Chris\n",
            " Dattatri\n",
            " Falgu\n",
            " Gurumurthy\n",
            " Isaiarasu\n",
            " Janujan\n",
            " Kaustav\n",
            " Kavanan\n",
            " Likhith\n",
            " Mihirkiran\n",
            " Mithunraj\n",
            " Nrupen\n",
            " Nuwarshan\n",
            " Punithan\n",
            " Rajvardan\n",
            " Rathumithan\n",
            " Sanyam\n",
            " Sivanantham\n",
            " Sajibirunthan\n",
            " Sharinan\n",
            " Suhaenithan\n",
            " Tharnish\n",
            " Vaasanthi\n",
            " Vaheeshen\n",
            " Vishaonth\n",
            " Yogendhar\n",
            " Amuthaa\n",
            " Abeeshka\n",
            " Apira\n",
            " Balananthini\n",
            " Deepta\n",
            " Dhayanika\n",
            " Golbahar\n",
            " Harrini\n",
            " Jenu\n",
            " Kaamiya\n",
            " Kaneeshna\n",
            " Kunaisha\n",
            " Maina\n",
            " Manomani\n",
            " Namia\n",
            " Neranjana\n",
            " Padmakalyani\n",
            " Pireethiegaa\n",
            " Rishinila\n",
            " Rithyani\n",
            " Tenzing\n",
            " Thejaswari\n",
            " Vardhini\n",
            " Veeryaluxmy\n",
            " Yaashana\n"
          ]
        }
      ],
      "source": [
        "print ('n samples = ',len(names))\n",
        "for x in names[::1000]:\n",
        "    print (x)\n",
        "    \n"
      ]
    },
    {
      "cell_type": "code",
      "execution_count": 5,
      "metadata": {
        "id": "WjDTgAiHa9K-",
        "outputId": "80376f9f-3888-4d2e-d16e-bce8855a1ed4"
      },
      "outputs": [
        {
          "name": "stdout",
          "output_type": "stream",
          "text": [
            "max length = 26\n"
          ]
        },
        {
          "data": {
            "image/png": "[encoded data removed]",
            "text/plain": [
              "<Figure size 432x288 with 1 Axes>"
            ]
          },
          "metadata": {
            "needs_background": "light"
          },
          "output_type": "display_data"
        }
      ],
      "source": [
        "MAX_LENGTH = max(map(len,names))\n",
        "print(\"max length =\", MAX_LENGTH)\n",
        "\n",
        "plt.title('Sequence length distribution')\n",
        "plt.hist(list(map(len,names)),bins=25);"
      ]
    },
    {
      "cell_type": "markdown",
      "metadata": {
        "id": "-66sMKaka9K_"
      },
      "source": [
        "# Text processing\n",
        "\n",
        "First we need next to collect a \"vocabulary\" of all unique tokens i.e. unique characters. We can then encode inputs as a sequence of character ids."
      ]
    },
    {
      "cell_type": "code",
      "execution_count": 6,
      "metadata": {
        "id": "CE89WO7Fa9LA",
        "outputId": "71710063-4c73-446e-8692-d3d7139f5667"
      },
      "outputs": [
        {
          "name": "stdout",
          "output_type": "stream",
          "text": [
            "n_tokens =  55\n"
          ]
        }
      ],
      "source": [
        "#all unique characters go here\n",
        "tokens = set(''.join(names))\n",
        "\n",
        "tokens = list(tokens)\n",
        "\n",
        "n_tokens = len(tokens)\n",
        "print ('n_tokens = ',n_tokens)\n",
        "\n",
        "assert 50 < n_tokens < 60\n"
      ]
    },
    {
      "cell_type": "markdown",
      "metadata": {
        "id": "1Sd2XKqFa9LD"
      },
      "source": [
        "### Cast everything from symbols into identifiers\n",
        "\n",
        "Tensorflow string manipulation is a bit tricky, so we'll work around it. \n",
        "We'll feed our recurrent neural network with ids of characters from our dictionary.\n",
        "\n",
        "To create such dictionary, let's assign "
      ]
    },
    {
      "cell_type": "code",
      "execution_count": 7,
      "metadata": {
        "collapsed": true,
        "id": "HFFRor-pa9LF"
      },
      "outputs": [],
      "source": [
        "token_to_id = {symbol : index for symbol,index in zip(tokens,range(len(tokens)))}\n",
        "###YOUR CODE HERE: create a dictionary of {symbol -> its  index in tokens }\n",
        "\n"
      ]
    },
    {
      "cell_type": "code",
      "execution_count": 8,
      "metadata": {
        "id": "7EbnJYrLa9LH",
        "outputId": "604603f2-67c5-43f0-d2d7-3acef8f543a8"
      },
      "outputs": [
        {
          "name": "stdout",
          "output_type": "stream",
          "text": [
            "Seems alright!\n"
          ]
        }
      ],
      "source": [
        "assert len(tokens) == len(token_to_id), \"dictionaries must have same size\"\n",
        "\n",
        "for i in range(n_tokens):\n",
        "    assert token_to_id[tokens[i]] == i, \"token identifier must be it's position in tokens list\"\n",
        "\n",
        "print(\"Seems alright!\")"
      ]
    },
    {
      "cell_type": "code",
      "execution_count": 9,
      "metadata": {
        "collapsed": true,
        "id": "KJl10sHna9LI"
      },
      "outputs": [],
      "source": [
        "def to_matrix(names,max_len=None,pad=0,dtype='int32'):\n",
        "    \"\"\"Casts a list of names into rnn-digestable matrix\"\"\"\n",
        "    \n",
        "    max_len = max_len or max(map(len,names))\n",
        "    names_ix = np.zeros([len(names),max_len],dtype) + pad\n",
        "\n",
        "    for i in range(len(names)):\n",
        "        name_ix = list(map(token_to_id.get,names[i]))\n",
        "        names_ix[i,:len(name_ix)] = name_ix\n",
        "\n",
        "    return names_ix.T"
      ]
    },
    {
      "cell_type": "code",
      "execution_count": 10,
      "metadata": {
        "id": "j838ZfoYa9LJ",
        "outputId": "63913430-208c-4f84-e127-945f19047ab5"
      },
      "outputs": [
        {
          "name": "stdout",
          "output_type": "stream",
          "text": [
            " Aaban\n",
            " Aaruren\n",
            " Borna\n",
            " Dattatri\n",
            " Gurumurthy\n",
            " Janujan\n",
            " Kavanan\n",
            " Mihirkiran\n",
            " Nrupen\n",
            " Punithan\n",
            " Rathumithan\n",
            " Sivanantham\n",
            " Sharinan\n",
            " Tharnish\n",
            " Vaheeshen\n",
            " Yogendhar\n",
            " Abeeshka\n",
            " Balananthini\n",
            " Dhayanika\n",
            " Harrini\n",
            " Kaamiya\n",
            " Kunaisha\n",
            " Manomani\n",
            " Neranjana\n",
            " Pireethiegaa\n",
            " Rithyani\n",
            " Thejaswari\n",
            " Veeryaluxmy\n",
            "[[46 10 36 17 36  7  0  0  0  0  0  0  0]\n",
            " [46 10 36 35 29 35 16  7  0  0  0  0  0]\n",
            " [46 27 37 35  7 36  0  0  0  0  0  0  0]\n",
            " [46  1 36 21 21 36 21 35  8  0  0  0  0]\n",
            " [46 51 29 35 29 30 29 35 21 25 19  0  0]\n",
            " [46 50 36  7 29 48 36  7  0  0  0  0  0]\n",
            " [46 32 36 53 36  7 36  7  0  0  0  0  0]\n",
            " [46 18  8 25  8 35 13  8 35 36  7  0  0]\n",
            " [46 15 35 29  3 16  7  0  0  0  0  0  0]\n",
            " [46 47 29  7  8 21 25 36  7  0  0  0  0]\n",
            " [46 11 36 21 25 29 30  8 21 25 36  7  0]\n",
            " [46 20  8 53 36  7 36  7 21 25 36 30  0]\n",
            " [46 20 25 36 35  8  7 36  7  0  0  0  0]\n",
            " [46 31 25 36 35  7  8 54 25  0  0  0  0]\n",
            " [46  2 36 25 16 16 54 25 16  7  0  0  0]\n",
            " [46 34 37 44 16  7 41 25 36 35  0  0  0]\n",
            " [46 10 17 16 16 54 25 13 36  0  0  0  0]\n",
            " [46 27 36 24 36  7 36  7 21 25  8  7  8]\n",
            " [46  1 25 36 19 36  7  8 13 36  0  0  0]\n",
            " [46 40 36 35 35  8  7  8  0  0  0  0  0]\n",
            " [46 32 36 36 30  8 19 36  0  0  0  0  0]\n",
            " [46 32 29  7 36  8 54 25 36  0  0  0  0]\n",
            " [46 18 36  7 37 30 36  7  8  0  0  0  0]\n",
            " [46 15 16 35 36  7 48 36  7 36  0  0  0]\n",
            " [46 47  8 35 16 16 21 25  8 16 44 36 36]\n",
            " [46 11  8 21 25 19 36  7  8  0  0  0  0]\n",
            " [46 31 25 16 48 36 54 38 36 35  8  0  0]\n",
            " [46  2 16 16 35 19 36 24 29 26 30 19  0]]\n"
          ]
        }
      ],
      "source": [
        "#Example: cast 4 random names to matrices, pad with zeros\n",
        "print('\\n'.join(names[::2000]))\n",
        "print(to_matrix(names[::2000]).T)"
      ]
    },
    {
      "cell_type": "markdown",
      "metadata": {
        "id": "6dCZm6X6a9LO"
      },
      "source": [
        "# Recurrent neural network\n",
        "\n",
        "We can rewrite recurrent neural network as a consecutive application of dense layer to input $x_t$ and previous rnn state $h_t$. This is exactly what we're gonna do now.\n",
        "<img src=\"./rnn.png\" width=480>\n",
        "\n",
        "Since we're training a language model, there should also be:\n",
        "* An embedding layer that converts character id x_t to a vector.\n",
        "* An output layer that predicts probabilities of next phoneme"
      ]
    },
    {
      "cell_type": "code",
      "execution_count": 11,
      "metadata": {
        "id": "ItushrKQa9LR"
      },
      "outputs": [],
      "source": [
        "import keras\n",
        "from keras.layers import Concatenate,Dense,Embedding\n",
        "\n",
        "rnn_num_units = 64\n",
        "embedding_size = 16\n",
        "\n",
        "#Let's create layers for our recurrent network\n",
        "#Note: we create layers but we don't \"apply\" them yet\n",
        "embed_x = Embedding(n_tokens,embedding_size) # an embedding layer that converts character ids into embeddings\n",
        "\n",
        "\n",
        "#a dense layer that maps input and previous state to new hidden state, [x_t,h_t]->h_t+1\n",
        "get_h_next = Dense(rnn_num_units,activation=\"relu\")\n",
        "###YOUR CODE HERE\n",
        "\n",
        "#a dense layer that maps current hidden state to probabilities of characters [h_t+1]->P(x_t+1|h_t+1)\n",
        "get_probas = Dense(len(tokens),activation=\"softmax\")\n",
        "\n",
        "#Note: please either set the correct activation to Dense or write it manually in rnn_one_step"
      ]
    },
    {
      "cell_type": "code",
      "execution_count": 12,
      "metadata": {
        "collapsed": true,
        "id": "q47065NFa9LR"
      },
      "outputs": [],
      "source": [
        "def rnn_one_step(x_t, h_t):\n",
        "    \"\"\"\n",
        "    Recurrent neural network step that produces next state and output\n",
        "    given prev input and previous state.\n",
        "    We'll call this method repeatedly to produce the whole sequence.\n",
        "    \n",
        "    Follow inline isntructions to complete the function.\n",
        "    \"\"\"\n",
        "    #convert character id into embedding\n",
        "    x_t_emb = embed_x(tf.reshape(x_t,[-1,1]))[:,0]\n",
        "    \n",
        "    #concatenate x embedding and previous h state\n",
        "   # x_and_h = Concatenate()([x_t_emb, h_t])\n",
        "    \n",
        "    x_and_h = tf.concat([x_t_emb, h_t], 1)\n",
        "\n",
        "    ###YOUR CODE HERE\n",
        "    \n",
        "    #compute next state given x_and_h\n",
        "    h_next = get_h_next(x_and_h)\n",
        "    \n",
        "    #get probabilities for language model P(x_next|h_next)\n",
        "    output_probas = get_probas(h_next)\n",
        "    \n",
        "    return output_probas,h_next"
      ]
    },
    {
      "cell_type": "markdown",
      "metadata": {
        "id": "e8dYcDBsa9LS"
      },
      "source": [
        "### RNN loop\n",
        "\n",
        "Once rnn_one_step is ready, let's apply it in a loop over name characters to get predictions.\n",
        "\n",
        "Let's assume that all names are at most length-16 for now, so we can simply iterate over them in a for loop.\n"
      ]
    },
    {
      "cell_type": "code",
      "execution_count": 13,
      "metadata": {
        "id": "aOSmoFbSa9LS"
      },
      "outputs": [],
      "source": [
        "input_sequence = tf.compat.v1.disable_eager_execution()\n",
        "input_sequence = tf.compat.v1.placeholder('int32',(MAX_LENGTH,None))\n",
        "batch_size = tf.shape(input_sequence)[1]\n",
        "\n",
        "predicted_probas = []\n",
        "h_prev = tf.zeros([batch_size,rnn_num_units]) #initial hidden state\n",
        "\n",
        "for t in range(MAX_LENGTH):\n",
        "    x_t = input_sequence[t]\n",
        "    probas_next,h_next = rnn_one_step(x_t,h_prev)\n",
        "    \n",
        "    h_prev = h_next\n",
        "    predicted_probas.append(probas_next)\n",
        "    \n",
        "predicted_probas = tf.stack(predicted_probas)"
      ]
    },
    {
      "cell_type": "markdown",
      "metadata": {
        "id": "ljruiKiza9LS"
      },
      "source": [
        "## RNN: loss and gradients\n",
        "\n",
        "Let's gather a matrix of predictions for $P(x_{next}|h)$ and the corresponding correct answers.\n",
        "\n",
        "Our network can then be trained by minimizing crossentropy between predicted probabilities and those answers."
      ]
    },
    {
      "cell_type": "code",
      "execution_count": 14,
      "metadata": {
        "collapsed": true,
        "id": "M6PWhwmBa9LT"
      },
      "outputs": [],
      "source": [
        "predictions_matrix = tf.reshape(predicted_probas[:-1],[-1,len(tokens)])\n",
        "answers_matrix = tf.one_hot(tf.reshape(input_sequence[1:],[-1]), n_tokens)"
      ]
    },
    {
      "cell_type": "code",
      "execution_count": 15,
      "metadata": {
        "id": "hEmPrayAa9LU"
      },
      "outputs": [],
      "source": [
        "from keras.losses import categorical_crossentropy\n",
        "\n",
        "loss = tf.reduce_mean(categorical_crossentropy(answers_matrix, predictions_matrix))\n",
        "\n",
        "optimize = tf.compat.v1.train.AdamOptimizer().minimize(loss)"
      ]
    },
    {
      "cell_type": "markdown",
      "metadata": {
        "id": "UGUhI7x0a9LV"
      },
      "source": [
        "### The training loop"
      ]
    },
    {
      "cell_type": "code",
      "execution_count": 17,
      "metadata": {
        "collapsed": true,
        "id": "NT4m9sdja9LV"
      },
      "outputs": [],
      "source": [
        "from IPython.display import clear_output\n",
        "from random import sample\n",
        "s = keras.backend.get_session()\n",
        "s.run(tf.compat.v1.global_variables_initializer())\n",
        "history = []"
      ]
    },
    {
      "cell_type": "code",
      "execution_count": 18,
      "metadata": {
        "id": "t8ELr8aWa9LV",
        "outputId": "be7f1351-56e6-4bc8-b048-1695018bfb51"
      },
      "outputs": [
        {
          "data": {
            "image/png": "[encoded data removed]",
            "text/plain": [
              "<Figure size 432x288 with 1 Axes>"
            ]
          },
          "metadata": {
            "needs_background": "light"
          },
          "output_type": "display_data"
        }
      ],
      "source": [
        "\n",
        "for i in range(10000):\n",
        "    batch = to_matrix(sample(names,32),max_len=MAX_LENGTH)\n",
        "    loss_i,_ = s.run([loss,optimize],{input_sequence:batch})\n",
        "    \n",
        "    \n",
        "    history.append(loss_i)\n",
        "    if (i+1)%100==0:\n",
        "        clear_output(True)\n",
        "        plt.plot(history,label='loss')\n",
        "        plt.legend()\n",
        "        plt.show()\n",
        "\n",
        "assert np.mean(history[:10]) > np.mean(history[-10:]), \"RNN didn't converge.\""
      ]
    },
    {
      "cell_type": "markdown",
      "metadata": {
        "id": "vPOBd1z5a9LW"
      },
      "source": [
        "### RNN: sampling\n",
        "Once we've trained our network a bit, let's get to actually generating stuff. All we need is the `rnn_one_step` function you have written above."
      ]
    },
    {
      "cell_type": "code",
      "execution_count": 20,
      "metadata": {
        "id": "xXUzkNNPa9LX"
      },
      "outputs": [],
      "source": [
        "x_t = tf.compat.v1.placeholder('int32',(None,))\n",
        "h_t = tf.Variable(np.zeros([1,rnn_num_units],'float32'))\n",
        "\n",
        "next_probs,next_h = rnn_one_step(x_t,h_t)"
      ]
    },
    {
      "cell_type": "code",
      "execution_count": 25,
      "metadata": {
        "collapsed": true,
        "id": "8tECflQBa9LX"
      },
      "outputs": [],
      "source": [
        "def generate_sample(seed_phrase=' ',max_length=MAX_LENGTH):\n",
        "    '''\n",
        "    The function generates text given a phrase of length at least SEQ_LENGTH.\n",
        "        \n",
        "    parameters:\n",
        "        The phrase is set using the variable seed_phrase\n",
        "        The optional input \"N\" is used to set the number of characters of text to predict.     \n",
        "    '''\n",
        "    x_sequence = [token_to_id[token] for token in seed_phrase]\n",
        "    s.run(tf.compat.v1.assign(h_t,h_t.initial_value))\n",
        "    \n",
        "    #feed the seed phrase, if any\n",
        "    for ix in x_sequence[:-1]:\n",
        "         s.run(tf.compat.v1.assign(h_t,next_h),{x_t:[ix]})\n",
        "    \n",
        "    #start generating\n",
        "    for _ in range(max_length-len(seed_phrase)):\n",
        "        x_probs,_ = s.run([next_probs,tf.compat.v1.assign(h_t,next_h)],{x_t:[x_sequence[-1]]})\n",
        "        x_sequence.append(np.random.choice(n_tokens,p=x_probs[0]))\n",
        "        \n",
        "    return ''.join([tokens[ix] for ix in x_sequence])"
      ]
    },
    {
      "cell_type": "code",
      "execution_count": 26,
      "metadata": {
        "id": "hFrsUAb0a9LX",
        "outputId": "f4438b00-9c1e-472c-a3d1-9aa115cb5829"
      },
      "outputs": [
        {
          "name": "stdout",
          "output_type": "stream",
          "text": [
            " Koshiranccccccccccccccccc\n",
            " Miruthinicccccccccccccccc\n",
            " Gelamianccccccccccccccccc\n",
            " Kisubancccccccccccccccccc\n",
            " Kayakranccccccccccccccccc\n",
            " Inithaccccccccccccccccccc\n",
            " Elidhaccccccccccccccccccc\n",
            " Nitvacccccccccccccccccccc\n",
            " Pagsh Prashaccccccccccccc\n",
            " Vendhanancccccccccccccccc\n",
            " Pugaccccccccccccccccccccc\n",
            " Mathuvananjagancccccccccc\n",
            " Puvasmccccccccccccccccccc\n",
            " Yumethccccccccccccccccccc\n",
            " Logendrencccccccccccccccc\n",
            " Gathulanacccccccccccccccc\n",
            " Ruthutrejancccccccccccccc\n",
            " Vegancccccccccccccccccccc\n",
            " Nelahcccccccccccccccccccc\n",
            " Peerthamurivaalancccccccc\n"
          ]
        }
      ],
      "source": [
        "for _ in range(20):\n",
        "    print(generate_sample())"
      ]
    },
    {
      "cell_type": "code",
      "execution_count": 27,
      "metadata": {
        "id": "96KXjDBTa9LY",
        "outputId": "a2f8a986-bf59-442c-dacc-f4f07f79e30f"
      },
      "outputs": [
        {
          "name": "stdout",
          "output_type": "stream",
          "text": [
            " Valamathankancccccccccccc\n",
            " Valanngcccccccccccccccccc\n",
            " Valumiramandamccccccccccc\n",
            " Valmithracccccccccccccccc\n",
            " Valilcccccccccccccccccccc\n",
            " Valashanccccccccccccccccc\n",
            " Valindicccccccccccccccccc\n",
            " Valaedacccccccccccccccccc\n",
            " Valininaccccccccccccccccc\n",
            " Valiskarccccccccccccccccc\n",
            " Valuloyanthcccccccccccccc\n",
            " Val Rukshaniccccccccccccc\n",
            " Vallikaprajatcccccccccccc\n",
            " Vallanivajccccccccccccccc\n",
            " Valelaneeranccccccccccccc\n",
            " Valawikamalcccccccccccccc\n",
            " Valamodhanccccccccccccccc\n",
            " Val priyenccccccccccccccc\n",
            " Valigalcccccccccccccccccc\n",
            " Valeyancccccccccccccccccc\n",
            " Valikaccccccccccccccccccc\n",
            " Val Puvathacccccccccccccc\n",
            " Valiscccccccccccccccccccc\n",
            " Valanyacccccccccccccccccc\n",
            " Valcccccccccccccccccccccc\n",
            " Valanchethicccccccccccccc\n",
            " Valveshancccccccccccccccc\n",
            " Valiyatvacccccccccccccccc\n",
            " Valamishacccccccccccccccc\n",
            " Valavishacccccccccccccccc\n",
            " Valishaamanantccccccccccc\n",
            " Valihigaccccccccccccccccc\n",
            " Valinimoncccccccccccccccc\n",
            " Valajevancccccccccccccccc\n",
            " Valmicccccccccccccccccccc\n",
            " Valilaycccccccccccccccccc\n",
            " Valaniccccccccccccccccccc\n",
            " Valmanyaccccccccccccccccc\n",
            " Valvialabitcccccccccccccc\n",
            " Valasukaccccccccccccccccc\n",
            " Valishkaccccccccccccccccc\n",
            " Valikancccccccccccccccccc\n",
            " Valajeevimicccccccccccccc\n",
            " Valieepcccccccccccccccccc\n",
            " Valunhnaccccccccccccccccc\n",
            " Valeshccccccccccccccccccc\n",
            " Valnesacccccccccccccccccc\n",
            " Valambhatcccccccccccccccc\n",
            " Valijaccccccccccccccccccc\n",
            " Valayashanccccccccccccccc\n"
          ]
        }
      ],
      "source": [
        "for _ in range(50):\n",
        "    print(generate_sample(' Val'))"
      ]
    },
    {
      "cell_type": "markdown",
      "metadata": {
        "id": "9pvSMBXIa9LZ"
      },
      "source": [
        "### Try it out!\n",
        "\n",
        "\n",
        "You've just implemented a recurrent language model that can be tasked with generating any kind of sequence, so there's plenty of data you can try it on:\n",
        "\n",
        "* Novels/poems/songs of your favorite author\n",
        "* News titles/clickbait titles\n",
        "* Source code of Linux or Tensorflow\n",
        "* Molecules in [smiles](https://en.wikipedia.org/wiki/Simplified_molecular-input_line-entry_system) format\n",
        "* Melody in notes/chords format\n",
        "* Ikea catalog titles\n",
        "* Pokemon names\n",
        "* Cards from Magic, the Gathering / Hearthstone\n",
        "\n",
        "If you're willing to give it a try, here's what you wanna look at:\n",
        "* Current data format is a sequence of lines, so a novel can be formatted as a list of sentences. Alternatively, you can change data preprocessing altogether.\n",
        "* While some datasets are readily available, others can only be scraped from the web. Try `Selenium` or `Scrapy` for that.\n",
        "* Make sure MAX_LENGTH is adjusted for longer datasets. There's also a bonus section about dynamic RNNs at the bottom.\n",
        "* More complex tasks require larger RNN architecture, try more neurons or several layers. It would also require more training iterations.\n",
        "* Long-term dependencies in music, novels or molecules are better handled with LSTM or GRU\n",
        "\n",
        "__Good hunting!__"
      ]
    },
    {
      "cell_type": "markdown",
      "metadata": {
        "collapsed": true,
        "id": "8GBtXoM4a9LZ"
      },
      "source": [
        "### Bonus level: dynamic RNNs\n",
        "\n",
        "Apart from keras, there's also a friendly tensorflow API for recurrent neural nets. It's based around the symbolic loop function (aka [scan](https://www.tensorflow.org/api_docs/python/tf/scan)).\n",
        "\n",
        "This interface allows for dynamic sequence length and comes with some pre-implemented architectures."
      ]
    },
    {
      "cell_type": "code",
      "execution_count": 33,
      "metadata": {
        "id": "97ItZcVZa9La",
        "outputId": "452a83bf-b3f3-47a5-bf60-65b11819f004"
      },
      "outputs": [
        {
          "name": "stdout",
          "output_type": "stream",
          "text": [
            "WARNING:tensorflow:From c:\\Users\\jayan\\anaconda3\\lib\\site-packages\\keras\\layers\\rnn\\legacy_cells.py:429: calling Zeros.__init__ (from tensorflow.python.ops.init_ops) with dtype is deprecated and will be removed in a future version.\n",
            "Instructions for updating:\n",
            "Call initializer instance with the dtype argument instead of passing it to the constructor\n"
          ]
        },
        {
          "name": "stderr",
          "output_type": "stream",
          "text": [
            "C:\\Users\\jayan\\AppData\\Local\\Temp\\ipykernel_2316\\3929012380.py:11: UserWarning: `tf.nn.rnn_cell.BasicRNNCell` is deprecated and will be removed in a future version. This class is equivalent as `tf.keras.layers.SimpleRNNCell`, and will be replaced by that in Tensorflow 2.0.\n",
            "  cell = CustomRNN(rnn_num_units)\n"
          ]
        },
        {
          "name": "stdout",
          "output_type": "stream",
          "text": [
            "(50, 10, 55)\n"
          ]
        }
      ],
      "source": [
        "import tensorflow as tf\n",
        "\n",
        "class CustomRNN(tf.compat.v1.nn.rnn_cell.BasicRNNCell):\n",
        "    def call(self,input,state):\n",
        "        return rnn_one_step(input[:,0],state)\n",
        "    \n",
        "    @property\n",
        "    def output_size(self):\n",
        "        return n_tokens\n",
        "\n",
        "cell = CustomRNN(rnn_num_units)\n",
        "\n",
        "input_sequence = tf.compat.v1.placeholder('float32',(None,None))\n",
        "    \n",
        "predicted_probas, last_state = tf.compat.v1.nn.dynamic_rnn(cell,input_sequence[:,:,None],\n",
        "                                                 time_major=True,dtype='float32')\n",
        "sess = tf.compat.v1.Session()\n",
        "init = tf.compat.v1.global_variables_initializer()\n",
        "sess.run(init)\n",
        "with sess.as_default():\n",
        "    print(predicted_probas.eval({input_sequence:to_matrix(names[:10],max_len=50)}).shape)"
      ]
    },
    {
      "cell_type": "markdown",
      "metadata": {
        "id": "FoY-jNfGa9La"
      },
      "source": [
        "Note that we never used MAX_LENGTH in the code above: TF will iterate over however many time-steps you gave it.\n",
        "\n",
        "You can also use the all the pre-implemented RNN cells:"
      ]
    },
    {
      "cell_type": "code",
      "execution_count": 37,
      "metadata": {
        "id": "NeSpPIvBa9La",
        "outputId": "7cbf6b65-d7bc-49ac-ebab-a05e04bd619e"
      },
      "outputs": [
        {
          "name": "stdout",
          "output_type": "stream",
          "text": [
            "BasicLSTMCell\n",
            "BasicRNNCell\n",
            "GRUCell\n",
            "LSTMCell\n",
            "MultiRNNCell\n",
            "RNNCell\n"
          ]
        }
      ],
      "source": [
        "for obj in dir(tf.compat.v1.nn.rnn_cell):\n",
        "    if obj.endswith('Cell'):\n",
        "        print (obj)"
      ]
    },
    {
      "cell_type": "code",
      "execution_count": 40,
      "metadata": {
        "id": "aq3n6rmla9Lb",
        "outputId": "f751aa3d-c6ec-4458-81ff-3743c621e79c"
      },
      "outputs": [
        {
          "name": "stdout",
          "output_type": "stream",
          "text": [
            "LSTM visible states[time,batch,unit]: Tensor(\"rnn_2/transpose_1:0\", shape=(None, None, 64), dtype=float32)\n"
          ]
        },
        {
          "name": "stderr",
          "output_type": "stream",
          "text": [
            "C:\\Users\\jayan\\AppData\\Local\\Temp\\ipykernel_2316\\3766526553.py:5: UserWarning: `tf.nn.rnn_cell.LSTMCell` is deprecated and will be removed in a future version. This class is equivalent as `tf.keras.layers.LSTMCell`, and will be replaced by that in Tensorflow 2.0.\n",
            "  cell = tf.compat.v1.nn.rnn_cell.LSTMCell(rnn_num_units)\n"
          ]
        }
      ],
      "source": [
        "input_sequence = tf.compat.v1.placeholder('int32',(None,None))\n",
        "\n",
        "inputs_embedded = embed_x(input_sequence)\n",
        "\n",
        "cell = tf.compat.v1.nn.rnn_cell.LSTMCell(rnn_num_units)\n",
        "\n",
        "state_sequence,last_state = tf.compat.v1.nn.dynamic_rnn(cell,inputs_embedded,dtype='float32')\n",
        "\n",
        "print('LSTM visible states[time,batch,unit]:', state_sequence)"
      ]
    }
  ],
  "metadata": {
    "colab": {
      "name": "6_RNN_Generating Names .ipynb",
      "provenance": []
    },
    "kernelspec": {
      "display_name": "Python 3.9.12 ('base')",
      "language": "python",
      "name": "python3"
    },
    "language_info": {
      "codemirror_mode": {
        "name": "ipython",
        "version": 3
      },
      "file_extension": ".py",
      "mimetype": "text/x-python",
      "name": "python",
      "nbconvert_exporter": "python",
      "pygments_lexer": "ipython3",
      "version": "3.9.12"
    },
    "vscode": {
      "interpreter": {
        "hash": "51d2dbc107e90016ff58d506d19dfa66132cafa2ebfedbf9f4d98cf0f5094b18"
      }
    }
  },
  "nbformat": 4,
  "nbformat_minor": 0
}
