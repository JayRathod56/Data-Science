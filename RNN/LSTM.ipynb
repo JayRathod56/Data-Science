{
  "nbformat": 4,
  "nbformat_minor": 0,
  "metadata": {
    "colab": {
      "name": "LSTM.ipynb",
      "provenance": []
    },
    "kernelspec": {
      "name": "python3",
      "display_name": "Python 3"
    },
    "language_info": {
      "name": "python"
    }
  },
  "cells": [
    {
      "cell_type": "code",
      "execution_count": 3,
      "metadata": {
        "colab": {
          "base_uri": "https://localhost:8080/"
        },
        "id": "3Xob7-gYp15-",
        "outputId": "96694bd0-093f-4fdb-dc1f-aa6b60102ac4"
      },
      "outputs": [
        {
          "output_type": "stream",
          "name": "stderr",
          "text": [
            "/usr/local/lib/python3.7/dist-packages/keras/optimizer_v2/adam.py:105: UserWarning: The `lr` argument is deprecated, use `learning_rate` instead.\n",
            "  super(Adam, self).__init__(name, **kwargs)\n"
          ]
        },
        {
          "output_type": "stream",
          "name": "stdout",
          "text": [
            "Epoch 1/4\n",
            "1875/1875 [==============================] - 393s 208ms/step - loss: 3.0181 - accuracy: 0.1185 - val_loss: 2.3019 - val_accuracy: 0.1135\n",
            "Epoch 2/4\n",
            "1875/1875 [==============================] - 374s 199ms/step - loss: 2708398.7500 - accuracy: 0.1082 - val_loss: 2.3011 - val_accuracy: 0.1135\n",
            "Epoch 3/4\n",
            "1875/1875 [==============================] - 378s 202ms/step - loss: 604.6924 - accuracy: 0.1082 - val_loss: 2.3028 - val_accuracy: 0.0974\n",
            "Epoch 4/4\n",
            "1875/1875 [==============================] - 380s 203ms/step - loss: 35280100.0000 - accuracy: 0.1070 - val_loss: 2.3016 - val_accuracy: 0.1135\n"
          ]
        },
        {
          "output_type": "execute_result",
          "data": {
            "text/plain": [
              "<keras.callbacks.History at 0x7f7fdef53810>"
            ]
          },
          "metadata": {},
          "execution_count": 3
        }
      ],
      "source": [
        "## Libraries\n",
        "\n",
        "import tensorflow as tf\n",
        "model = tf.keras.models.Sequential()\n",
        "Dense = tf.keras.layers.Dense\n",
        "Dropout = tf.keras.layers.Dropout\n",
        "LSTM = tf.keras.layers.LSTM\n",
        "\n",
        "## Dataset\n",
        "mnist_data = tf.keras.datasets.mnist # mnist is a dataset is a dataset of 28x28 images of handwritten\n",
        "\n",
        "## Create train and test data\n",
        "(x_train, y_train),(x_test, y_test) = mnist_data.load_data()\n",
        "\n",
        "x_train = x_train/255.0 # Normalize training data features\n",
        "x_test = x_test/255.0 # Normalize training data labesl\n",
        "\n",
        "# The images are 28 x 28 pixels of unassigned integers in the range of 0 to 255. The above\n",
        "# However, the # accuracy will be much worse of at round 20% best case scenario and \n",
        "\n",
        "model.add(LSTM(256, activation='relu', return_sequences=True))\n",
        "model.add(Dropout(0.2))\n",
        "model.add(LSTM(256, activation='relu'))\n",
        "model.add(Dropout(0.1))\n",
        "model.add(Dense(32, activation='relu'))\n",
        "model.add(Dropout(0.2))\n",
        "model.add(Dense(10, activation='softmax'))\n",
        "\n",
        "#optimizer = tf.keras.optimizers.Adam(lr=le-4, decay=le-6)\n",
        "\n",
        "optimizer = tf.keras.optimizers.Adam(lr=0.01)\n",
        "\n",
        "# Compile model\n",
        "model.compile(\n",
        "    loss='sparse_categorical_crossentropy',\n",
        "    optimizer=optimizer,\n",
        "    metrics=['accuracy'],\n",
        ")\n",
        "\n",
        "# The specification of loss='sparse_categorical_crossentropy' is very import here \n",
        "model.fit(x_train,\n",
        "          y_train,\n",
        "          epochs=4,\n",
        "          validation_data=(x_test, y_test))"
      ]
    }
  ]
}