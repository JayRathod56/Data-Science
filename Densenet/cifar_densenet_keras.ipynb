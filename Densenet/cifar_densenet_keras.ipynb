{
 "cells": [
  {
   "cell_type": "code",
   "execution_count": 1,
   "metadata": {},
   "outputs": [],
   "source": [
    "import keras\n",
    "from keras.datasets import cifar10\n",
    "from keras.models import Model, Sequential\n",
    "from keras.layers import Dense, Dropout, Flatten, Input, AveragePooling2D,Activation, SpatialDropout2D\n",
    "from keras.layers import Conv2D, MaxPooling2D, BatchNormalization, SeparableConv2D\n",
    "from keras.layers import Concatenate\n",
    "from tensorflow.keras.optimizers import Adam, RMSprop, SGD\n",
    "from keras import regularizers\n",
    "import tensorflow as tf"
   ]
  },
  {
   "cell_type": "code",
   "execution_count": 8,
   "metadata": {},
   "outputs": [],
   "source": [
    "# Hyperparameters\n",
    "batch_size = 128\n",
    "num_classes = 10\n",
    "epochs = 10\n",
    "l = 12\n",
    "num_filter = 36 #added 24 more filters\n",
    "compression = 0.5 \n",
    "dropout_rate = 0.2"
   ]
  },
  {
   "cell_type": "code",
   "execution_count": 3,
   "metadata": {},
   "outputs": [],
   "source": [
    "# Load CIFAR10 Data\n",
    "(x_train, y_train), (x_test, y_test) = cifar10.load_data()\n",
    "img_height, img_width, channel = x_train.shape[1],x_train.shape[2],x_train.shape[3]\n",
    "\n",
    "# convert to one hot encoing \n",
    "y_train = keras.utils.np_utils.to_categorical(y_train, num_classes)\n",
    "y_test = keras.utils.np_utils.to_categorical(y_test, num_classes)"
   ]
  },
  {
   "cell_type": "code",
   "execution_count": 7,
   "metadata": {},
   "outputs": [
    {
     "name": "stdout",
     "output_type": "stream",
     "text": [
      "Downloading data from https://storage.googleapis.com/tensorflow/keras-applications/densenet/densenet201_weights_tf_dim_ordering_tf_kernels_notop.h5\n",
      "74836368/74836368 [==============================] - 22s 0us/step\n"
     ]
    }
   ],
   "source": [
    "densenet_model = Sequential()\n",
    "\n",
    "pretrained_model = tf.keras.applications.DenseNet201(\n",
    "    include_top=False,\n",
    "    weights=\"imagenet\",\n",
    "    input_shape=(32,32,3),\n",
    "    pooling='max',\n",
    "    classes=10,\n",
    "    classifier_activation=\"softmax\",\n",
    ")\n",
    "\n",
    "for layer in pretrained_model.layers:\n",
    "    layer.trainable=False\n",
    "\n",
    "densenet_model.add(pretrained_model)\n",
    "densenet_model.add(Flatten())\n",
    "densenet_model.add(Dense(3072, activation='relu'))\n",
    "densenet_model.add(Dense(2048, activation='relu'))\n",
    "densenet_model.add(Dense(10, activation='softmax'))"
   ]
  },
  {
   "cell_type": "code",
   "execution_count": 20,
   "metadata": {},
   "outputs": [],
   "source": [
    "from keras.preprocessing.image import ImageDataGenerator\n",
    "datagen = ImageDataGenerator(rotation_range = 15, horizontal_flip = True, width_shift_range = 0.1, height_shift_range = 0.1, zoom_range = 0.2, shear_range = 15)\n",
    "datagen.fit(x_train)"
   ]
  },
  {
   "cell_type": "code",
   "execution_count": 21,
   "metadata": {},
   "outputs": [],
   "source": [
    "densenet_model.compile(optimizer=SGD(0.01, momentum = 0.7), loss='categorical_crossentropy', metrics=['accuracy'])"
   ]
  },
  {
   "cell_type": "code",
   "execution_count": 22,
   "metadata": {},
   "outputs": [],
   "source": [
    "from keras.callbacks import ModelCheckpoint, CSVLogger\n",
    "ckpt = ModelCheckpoint('saved_model/densenet_model.hdf5')\n",
    "csv = CSVLogger('saved_model/densenet_log.csv')"
   ]
  },
  {
   "cell_type": "code",
   "execution_count": 23,
   "metadata": {},
   "outputs": [
    {
     "name": "stdout",
     "output_type": "stream",
     "text": [
      "Epoch 1/10\n",
      "391/391 [==============================] - 277s 684ms/step - loss: 1.9674 - accuracy: 0.3957 - val_loss: 1.5527 - val_accuracy: 0.4589\n",
      "Epoch 2/10\n",
      "391/391 [==============================] - 267s 683ms/step - loss: 1.5174 - accuracy: 0.4579 - val_loss: 1.4293 - val_accuracy: 0.4967\n",
      "Epoch 3/10\n",
      "391/391 [==============================] - 278s 711ms/step - loss: 1.4568 - accuracy: 0.4798 - val_loss: 1.4227 - val_accuracy: 0.4954\n",
      "Epoch 4/10\n",
      "391/391 [==============================] - 257s 658ms/step - loss: 1.4186 - accuracy: 0.4963 - val_loss: 1.3426 - val_accuracy: 0.5214\n",
      "Epoch 5/10\n",
      "391/391 [==============================] - 251s 642ms/step - loss: 1.3941 - accuracy: 0.5039 - val_loss: 1.4010 - val_accuracy: 0.5008\n",
      "Epoch 6/10\n",
      "391/391 [==============================] - 246s 629ms/step - loss: 1.3754 - accuracy: 0.5115 - val_loss: 1.4417 - val_accuracy: 0.4992\n",
      "Epoch 7/10\n",
      "391/391 [==============================] - 261s 667ms/step - loss: 1.3479 - accuracy: 0.5190 - val_loss: 1.3103 - val_accuracy: 0.5326\n",
      "Epoch 8/10\n",
      "391/391 [==============================] - 266s 679ms/step - loss: 1.3345 - accuracy: 0.5234 - val_loss: 1.2917 - val_accuracy: 0.5376\n",
      "Epoch 9/10\n",
      "391/391 [==============================] - 277s 708ms/step - loss: 1.3204 - accuracy: 0.5312 - val_loss: 1.3124 - val_accuracy: 0.5343\n",
      "Epoch 10/10\n",
      "391/391 [==============================] - 257s 657ms/step - loss: 1.3133 - accuracy: 0.5318 - val_loss: 1.3216 - val_accuracy: 0.5299\n"
     ]
    }
   ],
   "source": [
    "history = densenet_model.fit(datagen.flow(x_train, y_train, batch_size), validation_data=(x_test, y_test), epochs=epochs, batch_size=batch_size, callbacks = [csv, ckpt])\n",
    "densenet_model.save_weights('saved_model/10epochs_densenet_cifar10.h5')"
   ]
  },
  {
   "cell_type": "code",
   "execution_count": 24,
   "metadata": {},
   "outputs": [],
   "source": [
    "train_mse = densenet_model.evaluate(x_train, y_train, verbose=0)\n",
    "test_mse = densenet_model.evaluate(x_test, y_test, verbose=0)"
   ]
  },
  {
   "cell_type": "code",
   "execution_count": 25,
   "metadata": {},
   "outputs": [
    {
     "name": "stdout",
     "output_type": "stream",
     "text": [
      "Train loss : 124.990 % , Test loss : 132.159 %\n",
      "Train accuracy : 55.220 % , Test accuracy : 52.990 %\n"
     ]
    }
   ],
   "source": [
    "print('Train loss : %.3f %% , Test loss : %.3f %%' % (train_mse[0]*100, test_mse[0]*100))\n",
    "print('Train accuracy : %.3f %% , Test accuracy : %.3f %%' % (train_mse[1]*100, test_mse[1]*100))"
   ]
  }
 ],
 "metadata": {
  "kernelspec": {
   "display_name": "Python 3.9.12 ('base')",
   "language": "python",
   "name": "python3"
  },
  "language_info": {
   "codemirror_mode": {
    "name": "ipython",
    "version": 3
   },
   "file_extension": ".py",
   "mimetype": "text/x-python",
   "name": "python",
   "nbconvert_exporter": "python",
   "pygments_lexer": "ipython3",
   "version": "3.9.12"
  },
  "orig_nbformat": 4,
  "vscode": {
   "interpreter": {
    "hash": "51d2dbc107e90016ff58d506d19dfa66132cafa2ebfedbf9f4d98cf0f5094b18"
   }
  }
 },
 "nbformat": 4,
 "nbformat_minor": 2
}
