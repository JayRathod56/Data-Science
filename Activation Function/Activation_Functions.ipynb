{
  "nbformat": 4,
  "nbformat_minor": 0,
  "metadata": {
    "colab": {
      "name": "Activation Functions.ipynb",
      "provenance": []
    },
    "kernelspec": {
      "name": "python3",
      "display_name": "Python 3"
    },
    "language_info": {
      "name": "python"
    }
  },
  "cells": [
    {
      "cell_type": "code",
      "execution_count": 1,
      "metadata": {
        "id": "1ZsDDX6cgF8z"
      },
      "outputs": [],
      "source": [
        "import numpy as np\n",
        "import matplotlib as mpl\n",
        "import matplotlib.pyplot as plt\n",
        "\n",
        "%matplotlib inline"
      ]
    },
    {
      "cell_type": "code",
      "source": [
        "z = np.linspace(-7, 7, 200)"
      ],
      "metadata": {
        "id": "mRpf-OwsgnGa"
      },
      "execution_count": 2,
      "outputs": []
    },
    {
      "cell_type": "code",
      "source": [
        "def derivative(f, z, eps=0.000001):\n",
        "    return (f(z + eps) - f(z - eps))/(2 * eps)"
      ],
      "metadata": {
        "id": "6qqjnCFWgpdR"
      },
      "execution_count": 3,
      "outputs": []
    },
    {
      "cell_type": "markdown",
      "source": [
        "1. Sigmoid (Logistic)"
      ],
      "metadata": {
        "id": "cGqZYCF4griK"
      }
    },
    {
      "cell_type": "code",
      "source": [
        "def sigmoid(z):\n",
        "    return 1 / (1 + np.exp(-z))"
      ],
      "metadata": {
        "id": "RmpWhjzxgvHi"
      },
      "execution_count": 4,
      "outputs": []
    },
    {
      "cell_type": "code",
      "source": [
        "plt.figure(figsize=(11,4))\n",
        "\n",
        "plt.subplot(1,2,1)\n",
        "# coordinate \n",
        "plt.plot([-7, 7], [0, 0], 'k-', linewidth=1)\n",
        "plt.plot([-5, 5], [-1, -1], 'k--', linewidth=1)\n",
        "plt.plot([0, 0], [-2.2, 3.2], 'k-', linewidth=1)\n",
        "plt.plot([-7,7], [1,1], 'k--', linewidth=1)\n",
        "# Plot sigmoid\n",
        "plt.plot(z, sigmoid(z), \"b-\", linewidth=2, label=\"Sigmoid\")\n",
        "plt.grid(True)\n",
        "plt.title(\"Sigmoid activation function\", fontsize=14)\n",
        "plt.axis([-7, 7, -0.2, 1.2])\n",
        "\n",
        "plt.subplot(1,2,2)\n",
        "plt.plot([-7, 7], [0, 0], 'k-', linewidth=1)\n",
        "plt.plot([-5, 5], [-1, -1], 'k--', linewidth=1)\n",
        "plt.plot([0, 0], [-2.2, 3.2], 'k-', linewidth=1)\n",
        "plt.plot(z, derivative(sigmoid, z), \"b-\", linewidth=2, label=\"Sigmoid\")\n",
        "plt.grid(True)\n",
        "plt.title(\"Derivative\", fontsize=14)\n",
        "plt.axis([-7, 7, -0.2, 1.2])\n",
        "plt.show()"
      ],
      "metadata": {
        "colab": {
          "base_uri": "https://localhost:8080/",
          "height": 282
        },
        "id": "YXGjFFlmgxKh",
        "outputId": "71302004-6783-43a6-8c38-5f4df6d43356"
      },
      "execution_count": 5,
      "outputs": [
        {
          "output_type": "display_data",
          "data": {
            "text/plain": [
              "<Figure size 792x288 with 2 Axes>"
            ],
            "image/png": "[encoded data removed]"
          },
          "metadata": {
            "needs_background": "light"
          }
        }
      ]
    },
    {
      "cell_type": "markdown",
      "source": [
        "using sigmoid from tensorflow 2 and keras"
      ],
      "metadata": {
        "id": "vAxXi7nthwaq"
      }
    },
    {
      "cell_type": "code",
      "source": [
        "#installing required modules\n",
        "!pip install tensorflow\n",
        "\n",
        "\n",
        "from tensorflow.keras.layers import Dense\n",
        "\n",
        "Dense(10, activation='sigmoid')"
      ],
      "metadata": {
        "colab": {
          "base_uri": "https://localhost:8080/"
        },
        "id": "AFd5W13ih59m",
        "outputId": "ff699bad-167e-4c98-f7fa-5bbb64f67e0a"
      },
      "execution_count": 7,
      "outputs": [
        {
          "output_type": "stream",
          "name": "stdout",
          "text": [
            "Looking in indexes: https://pypi.org/simple, https://us-python.pkg.dev/colab-wheels/public/simple/\n",
            "Requirement already satisfied: tensorflow in /usr/local/lib/python3.7/dist-packages (2.8.0+zzzcolab20220506162203)\n",
            "Requirement already satisfied: grpcio<2.0,>=1.24.3 in /usr/local/lib/python3.7/dist-packages (from tensorflow) (1.46.1)\n",
            "Requirement already satisfied: typing-extensions>=3.6.6 in /usr/local/lib/python3.7/dist-packages (from tensorflow) (4.2.0)\n",
            "Requirement already satisfied: absl-py>=0.4.0 in /usr/local/lib/python3.7/dist-packages (from tensorflow) (1.0.0)\n",
            "Requirement already satisfied: tensorflow-io-gcs-filesystem>=0.23.1 in /usr/local/lib/python3.7/dist-packages (from tensorflow) (0.26.0)\n",
            "Requirement already satisfied: tensorboard<2.9,>=2.8 in /usr/local/lib/python3.7/dist-packages (from tensorflow) (2.8.0)\n",
            "Requirement already satisfied: h5py>=2.9.0 in /usr/local/lib/python3.7/dist-packages (from tensorflow) (3.1.0)\n",
            "Requirement already satisfied: flatbuffers>=1.12 in /usr/local/lib/python3.7/dist-packages (from tensorflow) (2.0)\n",
            "Requirement already satisfied: libclang>=9.0.1 in /usr/local/lib/python3.7/dist-packages (from tensorflow) (14.0.1)\n",
            "Requirement already satisfied: numpy>=1.20 in /usr/local/lib/python3.7/dist-packages (from tensorflow) (1.21.6)\n",
            "Requirement already satisfied: astunparse>=1.6.0 in /usr/local/lib/python3.7/dist-packages (from tensorflow) (1.6.3)\n",
            "Requirement already satisfied: six>=1.12.0 in /usr/local/lib/python3.7/dist-packages (from tensorflow) (1.15.0)\n",
            "Requirement already satisfied: gast>=0.2.1 in /usr/local/lib/python3.7/dist-packages (from tensorflow) (0.5.3)\n",
            "Requirement already satisfied: tf-estimator-nightly==2.8.0.dev2021122109 in /usr/local/lib/python3.7/dist-packages (from tensorflow) (2.8.0.dev2021122109)\n",
            "Requirement already satisfied: protobuf>=3.9.2 in /usr/local/lib/python3.7/dist-packages (from tensorflow) (3.17.3)\n",
            "Requirement already satisfied: termcolor>=1.1.0 in /usr/local/lib/python3.7/dist-packages (from tensorflow) (1.1.0)\n",
            "Requirement already satisfied: keras<2.9,>=2.8.0rc0 in /usr/local/lib/python3.7/dist-packages (from tensorflow) (2.8.0)\n",
            "Requirement already satisfied: keras-preprocessing>=1.1.1 in /usr/local/lib/python3.7/dist-packages (from tensorflow) (1.1.2)\n",
            "Requirement already satisfied: google-pasta>=0.1.1 in /usr/local/lib/python3.7/dist-packages (from tensorflow) (0.2.0)\n",
            "Requirement already satisfied: setuptools in /usr/local/lib/python3.7/dist-packages (from tensorflow) (57.4.0)\n",
            "Requirement already satisfied: wrapt>=1.11.0 in /usr/local/lib/python3.7/dist-packages (from tensorflow) (1.14.1)\n",
            "Requirement already satisfied: opt-einsum>=2.3.2 in /usr/local/lib/python3.7/dist-packages (from tensorflow) (3.3.0)\n",
            "Requirement already satisfied: wheel<1.0,>=0.23.0 in /usr/local/lib/python3.7/dist-packages (from astunparse>=1.6.0->tensorflow) (0.37.1)\n",
            "Requirement already satisfied: cached-property in /usr/local/lib/python3.7/dist-packages (from h5py>=2.9.0->tensorflow) (1.5.2)\n",
            "Requirement already satisfied: tensorboard-plugin-wit>=1.6.0 in /usr/local/lib/python3.7/dist-packages (from tensorboard<2.9,>=2.8->tensorflow) (1.8.1)\n",
            "Requirement already satisfied: tensorboard-data-server<0.7.0,>=0.6.0 in /usr/local/lib/python3.7/dist-packages (from tensorboard<2.9,>=2.8->tensorflow) (0.6.1)\n",
            "Requirement already satisfied: werkzeug>=0.11.15 in /usr/local/lib/python3.7/dist-packages (from tensorboard<2.9,>=2.8->tensorflow) (1.0.1)\n",
            "Requirement already satisfied: google-auth-oauthlib<0.5,>=0.4.1 in /usr/local/lib/python3.7/dist-packages (from tensorboard<2.9,>=2.8->tensorflow) (0.4.6)\n",
            "Requirement already satisfied: google-auth<3,>=1.6.3 in /usr/local/lib/python3.7/dist-packages (from tensorboard<2.9,>=2.8->tensorflow) (1.35.0)\n",
            "Requirement already satisfied: requests<3,>=2.21.0 in /usr/local/lib/python3.7/dist-packages (from tensorboard<2.9,>=2.8->tensorflow) (2.23.0)\n",
            "Requirement already satisfied: markdown>=2.6.8 in /usr/local/lib/python3.7/dist-packages (from tensorboard<2.9,>=2.8->tensorflow) (3.3.7)\n",
            "Requirement already satisfied: pyasn1-modules>=0.2.1 in /usr/local/lib/python3.7/dist-packages (from google-auth<3,>=1.6.3->tensorboard<2.9,>=2.8->tensorflow) (0.2.8)\n",
            "Requirement already satisfied: cachetools<5.0,>=2.0.0 in /usr/local/lib/python3.7/dist-packages (from google-auth<3,>=1.6.3->tensorboard<2.9,>=2.8->tensorflow) (4.2.4)\n",
            "Requirement already satisfied: rsa<5,>=3.1.4 in /usr/local/lib/python3.7/dist-packages (from google-auth<3,>=1.6.3->tensorboard<2.9,>=2.8->tensorflow) (4.8)\n",
            "Requirement already satisfied: requests-oauthlib>=0.7.0 in /usr/local/lib/python3.7/dist-packages (from google-auth-oauthlib<0.5,>=0.4.1->tensorboard<2.9,>=2.8->tensorflow) (1.3.1)\n",
            "Requirement already satisfied: importlib-metadata>=4.4 in /usr/local/lib/python3.7/dist-packages (from markdown>=2.6.8->tensorboard<2.9,>=2.8->tensorflow) (4.11.3)\n",
            "Requirement already satisfied: zipp>=0.5 in /usr/local/lib/python3.7/dist-packages (from importlib-metadata>=4.4->markdown>=2.6.8->tensorboard<2.9,>=2.8->tensorflow) (3.8.0)\n",
            "Requirement already satisfied: pyasn1<0.5.0,>=0.4.6 in /usr/local/lib/python3.7/dist-packages (from pyasn1-modules>=0.2.1->google-auth<3,>=1.6.3->tensorboard<2.9,>=2.8->tensorflow) (0.4.8)\n",
            "Requirement already satisfied: idna<3,>=2.5 in /usr/local/lib/python3.7/dist-packages (from requests<3,>=2.21.0->tensorboard<2.9,>=2.8->tensorflow) (2.10)\n",
            "Requirement already satisfied: urllib3!=1.25.0,!=1.25.1,<1.26,>=1.21.1 in /usr/local/lib/python3.7/dist-packages (from requests<3,>=2.21.0->tensorboard<2.9,>=2.8->tensorflow) (1.24.3)\n",
            "Requirement already satisfied: certifi>=2017.4.17 in /usr/local/lib/python3.7/dist-packages (from requests<3,>=2.21.0->tensorboard<2.9,>=2.8->tensorflow) (2022.5.18.1)\n",
            "Requirement already satisfied: chardet<4,>=3.0.2 in /usr/local/lib/python3.7/dist-packages (from requests<3,>=2.21.0->tensorboard<2.9,>=2.8->tensorflow) (3.0.4)\n",
            "Requirement already satisfied: oauthlib>=3.0.0 in /usr/local/lib/python3.7/dist-packages (from requests-oauthlib>=0.7.0->google-auth-oauthlib<0.5,>=0.4.1->tensorboard<2.9,>=2.8->tensorflow) (3.2.0)\n"
          ]
        },
        {
          "output_type": "execute_result",
          "data": {
            "text/plain": [
              "<keras.layers.core.dense.Dense at 0x7f6bdff3aa50>"
            ]
          },
          "metadata": {},
          "execution_count": 7
        }
      ]
    },
    {
      "cell_type": "code",
      "source": [
        "import tensorflow as tf\n",
        "from tensorflow.keras.activations import sigmoid\n",
        "z = tf.constant([-20, -1, 0, 1.2], dtype=tf.float32)\n",
        "output = sigmoid(z)\n",
        "output.numpy()"
      ],
      "metadata": {
        "colab": {
          "base_uri": "https://localhost:8080/"
        },
        "id": "QwNZBMarh9FZ",
        "outputId": "4f8027f6-271c-486a-831b-6f0caf939e77"
      },
      "execution_count": 8,
      "outputs": [
        {
          "output_type": "execute_result",
          "data": {
            "text/plain": [
              "array([2.0611537e-09, 2.6894143e-01, 5.0000000e-01, 7.6852477e-01],\n",
              "      dtype=float32)"
            ]
          },
          "metadata": {},
          "execution_count": 8
        }
      ]
    },
    {
      "cell_type": "markdown",
      "source": [
        "2. Tanh"
      ],
      "metadata": {
        "id": "wUnjTu3UibF5"
      }
    },
    {
      "cell_type": "code",
      "source": [
        "plt.figure(figsize=(11,4))\n",
        "\n",
        "plt.subplot(1,2,1)\n",
        "# coordinate \n",
        "plt.plot([-7, 7], [0, 0], 'k-', linewidth=1)\n",
        "plt.plot([-5, 5], [-1, -1], 'k--', linewidth=1)\n",
        "plt.plot([0, 0], [-2.2, 3.2], 'k-', linewidth=1)\n",
        "plt.plot([-7,7], [1,1], 'k--', linewidth=1)\n",
        "# Plot\n",
        "plt.plot(z, np.tanh(z), \"b-\", linewidth=2, label=\"Tanh\")\n",
        "plt.grid(True)\n",
        "plt.title(\"Tanh activation function\", fontsize=14)\n",
        "plt.axis([-5, 5, -1.2, 1.2])\n",
        "\n",
        "plt.subplot(1,2,2)\n",
        "# coordinate \n",
        "plt.plot([-7, 7], [0, 0], 'k-', linewidth=1)\n",
        "plt.plot([0, 0], [-2.2, 3.2], 'k-', linewidth=1)\n",
        "# Plot\n",
        "plt.plot(z, derivative(np.tanh, z), \"b-\", linewidth=2, label=\"Tanh\")\n",
        "plt.grid(True)\n",
        "plt.title(\"Derivative\", fontsize=14)\n",
        "plt.axis([-5, 5, -1.2, 1.2])\n",
        "plt.show()"
      ],
      "metadata": {
        "colab": {
          "base_uri": "https://localhost:8080/",
          "height": 282
        },
        "id": "1fMAXbS2igny",
        "outputId": "2042703b-2ffb-4efa-e87a-dfdf0f246c38"
      },
      "execution_count": 9,
      "outputs": [
        {
          "output_type": "display_data",
          "data": {
            "text/plain": [
              "<Figure size 792x288 with 2 Axes>"
            ],
            "image/png": "[encoded data removed]"
          },
          "metadata": {
            "needs_background": "light"
          }
        }
      ]
    },
    {
      "cell_type": "markdown",
      "source": [
        "using Tanh from tensorflow and keras"
      ],
      "metadata": {
        "id": "AgtTnb0tipnh"
      }
    },
    {
      "cell_type": "code",
      "source": [
        "from tensorflow.keras.layers import Dense\n",
        "\n",
        "Dense(10, activation='tanh')"
      ],
      "metadata": {
        "colab": {
          "base_uri": "https://localhost:8080/"
        },
        "id": "o81A8Xz2ijNp",
        "outputId": "7df95582-8113-412c-ae60-215f79b2e5b8"
      },
      "execution_count": 10,
      "outputs": [
        {
          "output_type": "execute_result",
          "data": {
            "text/plain": [
              "<keras.layers.core.dense.Dense at 0x7f6b61af5cd0>"
            ]
          },
          "metadata": {},
          "execution_count": 10
        }
      ]
    },
    {
      "cell_type": "code",
      "source": [
        "import tensorflow as tf\n",
        "from tensorflow.keras.activations import tanh\n",
        "\n",
        "z = tf.constant([-20, -1, 0, 1.2], dtype=tf.float32)\n",
        "output = tanh(z)\n",
        "output.numpy()"
      ],
      "metadata": {
        "colab": {
          "base_uri": "https://localhost:8080/"
        },
        "id": "h71QPeIUim7C",
        "outputId": "1f36f46d-d4d7-4b47-8117-3bd9bf1f1c5e"
      },
      "execution_count": 11,
      "outputs": [
        {
          "output_type": "execute_result",
          "data": {
            "text/plain": [
              "array([-1.       , -0.7615942,  0.       ,  0.8336546], dtype=float32)"
            ]
          },
          "metadata": {},
          "execution_count": 11
        }
      ]
    },
    {
      "cell_type": "markdown",
      "source": [
        "3. ReLU"
      ],
      "metadata": {
        "id": "IQ-H9wNji3A5"
      }
    },
    {
      "cell_type": "code",
      "source": [
        "def relu(z):\n",
        "    return np.maximum(0, z)"
      ],
      "metadata": {
        "id": "ZhDTdy57i9gy"
      },
      "execution_count": 15,
      "outputs": []
    },
    {
      "cell_type": "code",
      "source": [
        "plt.figure(figsize=(11,4))\n",
        "\n",
        "plt.subplot(1, 2, 1)\n",
        "# coordinate \n",
        "plt.plot([-7, 7], [0, 0], 'k-', linewidth=1)\n",
        "plt.plot([0, 0], [-2.2, 5], 'k-', linewidth=1)\n",
        "# Plot\n",
        "plt.plot(z, relu(z), \"b-\", linewidth=2, label=\"ReLU\")\n",
        "plt.grid(True)\n",
        "plt.title(\"ReLU activation function\", fontsize=14)\n",
        "plt.axis([-5, 5, -0.2, 5])\n",
        "\n",
        "plt.subplot(1, 2,2)\n",
        "# coordinate \n",
        "plt.plot([-7, 7], [0, 0], 'k-', linewidth=1)\n",
        "plt.plot([0, 0], [-2.2, 5], 'k-', linewidth=1)\n",
        "# Plot\n",
        "plt.plot(z, derivative(relu, z), \"b-\", linewidth=2, label=\"ReLU\")\n",
        "plt.grid(True)\n",
        "plt.title(\"Derivative\", fontsize=14)\n",
        "plt.axis([-5, 5, -0.2, 5])\n",
        "plt.show()"
      ],
      "metadata": {
        "colab": {
          "base_uri": "https://localhost:8080/",
          "height": 282
        },
        "id": "0IJ7lbrji_3B",
        "outputId": "8781847b-a025-4822-cebe-f96f8175e690"
      },
      "execution_count": 16,
      "outputs": [
        {
          "output_type": "display_data",
          "data": {
            "text/plain": [
              "<Figure size 792x288 with 2 Axes>"
            ],
            "image/png": "[encoded data removed]"
          },
          "metadata": {
            "needs_background": "light"
          }
        }
      ]
    },
    {
      "cell_type": "markdown",
      "source": [
        "using ReLU from keras and tensorflow"
      ],
      "metadata": {
        "id": "c_BQ7PidjTea"
      }
    },
    {
      "cell_type": "code",
      "source": [
        "from tensorflow.keras.layers import Dense\n",
        "\n",
        "Dense(10, activation='relu')"
      ],
      "metadata": {
        "colab": {
          "base_uri": "https://localhost:8080/"
        },
        "id": "y4_kXnrhjB7x",
        "outputId": "a5757090-09e0-4cc4-f559-02eab807c1b9"
      },
      "execution_count": 17,
      "outputs": [
        {
          "output_type": "execute_result",
          "data": {
            "text/plain": [
              "<keras.layers.core.dense.Dense at 0x7f6b61a6fe10>"
            ]
          },
          "metadata": {},
          "execution_count": 17
        }
      ]
    },
    {
      "cell_type": "code",
      "source": [
        "import tensorflow as tf\n",
        "from tensorflow.keras.activations import relu\n",
        "\n",
        "z = tf.constant([-20, -1, 0, 1.2], dtype=tf.float32)\n",
        "output = relu(z)\n",
        "output.numpy()"
      ],
      "metadata": {
        "colab": {
          "base_uri": "https://localhost:8080/"
        },
        "id": "0fKFk4Znjby5",
        "outputId": "4b4a564d-6aa4-4e3b-d82c-f1c1cc660c93"
      },
      "execution_count": 18,
      "outputs": [
        {
          "output_type": "execute_result",
          "data": {
            "text/plain": [
              "array([0. , 0. , 0. , 1.2], dtype=float32)"
            ]
          },
          "metadata": {},
          "execution_count": 18
        }
      ]
    },
    {
      "cell_type": "markdown",
      "source": [
        "4. Leaky ReLU"
      ],
      "metadata": {
        "id": "B_3I1-03jz2S"
      }
    },
    {
      "cell_type": "code",
      "source": [
        "def leaky_relu(z, alpha=0.05):\n",
        "    return np.maximum(alpha * z, z)"
      ],
      "metadata": {
        "id": "SK4de8qMj16v"
      },
      "execution_count": 19,
      "outputs": []
    },
    {
      "cell_type": "code",
      "source": [
        "plt.figure(figsize=(11,4))\n",
        "\n",
        "plt.subplot(1, 2, 1)\n",
        "# coordinate \n",
        "plt.plot([-7, 7], [0, 0], 'k-', linewidth=1)\n",
        "plt.plot([0, 0], [-2.2, 5], 'k-', linewidth=1)\n",
        "# Plot\n",
        "plt.plot(z, leaky_relu(z, 0.05), 'b-', linewidth=2)\n",
        "plt.plot([-5,5], [0,0], 'k-')\n",
        "plt.plot([0,0], [-0.5, 5], 'k-')\n",
        "plt.grid(True)\n",
        "plt.title(\"Leaky ReLU activation function\", fontsize=14)\n",
        "plt.axis([-5,5,-0.5, 2])\n",
        "\n",
        "plt.subplot(1, 2, 2)\n",
        "# coordinate \n",
        "plt.plot([-7, 7], [0, 0], 'k-', linewidth=1)\n",
        "plt.plot([0, 0], [-2.2, 5], 'k-', linewidth=1)\n",
        "# Plot\n",
        "plt.plot(z, derivative(leaky_relu, z), \"b-\", linewidth=2, label=\"Leaky ReLU\")\n",
        "plt.grid(True)\n",
        "plt.title(\"Derivative\", fontsize=14)\n",
        "plt.axis([-5,5,-0.05, 1.2])\n",
        "plt.show()"
      ],
      "metadata": {
        "colab": {
          "base_uri": "https://localhost:8080/",
          "height": 282
        },
        "id": "JZIHqKTXj2lB",
        "outputId": "97e5ded5-00d5-40cd-d0d8-1b21a27fcf07"
      },
      "execution_count": 20,
      "outputs": [
        {
          "output_type": "display_data",
          "data": {
            "text/plain": [
              "<Figure size 792x288 with 2 Axes>"
            ],
            "image/png": "[encoded data removed]"
          },
          "metadata": {
            "needs_background": "light"
          }
        }
      ]
    },
    {
      "cell_type": "markdown",
      "source": [
        "using leaky ReLU from tensorflow"
      ],
      "metadata": {
        "id": "uC2up46mj_3X"
      }
    },
    {
      "cell_type": "code",
      "source": [
        "from tensorflow.keras.layers import LeakyReLU, Dense\n",
        "\n",
        "leaky_relu = LeakyReLU(alpha=0.01)\n",
        "Dense(10, activation=leaky_relu)"
      ],
      "metadata": {
        "colab": {
          "base_uri": "https://localhost:8080/"
        },
        "id": "TT7fIXrmj4oK",
        "outputId": "89742d15-1440-4e55-b322-d3160df4dae6"
      },
      "execution_count": 21,
      "outputs": [
        {
          "output_type": "execute_result",
          "data": {
            "text/plain": [
              "<keras.layers.core.dense.Dense at 0x7f6b5ea29a50>"
            ]
          },
          "metadata": {},
          "execution_count": 21
        }
      ]
    },
    {
      "cell_type": "markdown",
      "source": [
        "5. Parametric leaky ReLU (PReLU)\n",
        "using it with tensorflow"
      ],
      "metadata": {
        "id": "5Eb8YcKSkIZB"
      }
    },
    {
      "cell_type": "code",
      "source": [
        "from tensorflow.keras.layers import PReLU, Dense\n",
        "\n",
        "para_relu = PReLU()\n",
        "Dense(10, activation=para_relu)"
      ],
      "metadata": {
        "colab": {
          "base_uri": "https://localhost:8080/"
        },
        "id": "LYQB_q9WkOBx",
        "outputId": "96cc7a16-efa4-469b-91e1-ddff6d718e14"
      },
      "execution_count": 22,
      "outputs": [
        {
          "output_type": "execute_result",
          "data": {
            "text/plain": [
              "<keras.layers.core.dense.Dense at 0x7f6b5ea1c9d0>"
            ]
          },
          "metadata": {},
          "execution_count": 22
        }
      ]
    },
    {
      "cell_type": "markdown",
      "source": [
        "6. Exponential Linear Unit (ELU)"
      ],
      "metadata": {
        "id": "NqneV-exkVBS"
      }
    },
    {
      "cell_type": "code",
      "source": [
        "def elu(z, alpha=1):\n",
        "    return np.where(z < 0, alpha * (np.exp(z) - 1), z)"
      ],
      "metadata": {
        "id": "Krug-RQnkS7Z"
      },
      "execution_count": 27,
      "outputs": []
    },
    {
      "cell_type": "code",
      "source": [
        "plt.figure(figsize=(11,4))\n",
        "\n",
        "plt.subplot(1,2,1)\n",
        "# coordinate \n",
        "plt.plot([-7, 7], [0, 0], 'k-', linewidth=1)\n",
        "plt.plot([0, 0], [-2.2, 5], 'k-', linewidth=1)\n",
        "# Plot\n",
        "plt.plot(z, elu(z), 'b-', linewidth=2)\n",
        "plt.plot([-5, 5], [0, 0], 'k-')\n",
        "plt.plot([-5, 5], [-1, -1], 'k--')\n",
        "plt.plot([0, 0], [-2.2, 3.2], 'k-')\n",
        "plt.grid(True)\n",
        "plt.title(\"ELU activation function\", fontsize=14)\n",
        "plt.axis([-5, 5, -2.2, 3.2])\n",
        "\n",
        "plt.subplot(1,2,2)\n",
        "# coordinate \n",
        "plt.plot([-7, 7], [0, 0], 'k-', linewidth=1)\n",
        "plt.plot([0, 0], [-2.2, 5], 'k-', linewidth=1)\n",
        "# Plot\n",
        "plt.plot(z, derivative(elu, z), \"b-\", linewidth=2, label=\"ELU\")\n",
        "plt.grid(True)\n",
        "plt.title(\"Derivative\", fontsize=14)\n",
        "plt.axis([-5, 5, -2.2, 3.2])\n",
        "plt.show()"
      ],
      "metadata": {
        "colab": {
          "base_uri": "https://localhost:8080/",
          "height": 282
        },
        "id": "10Z-Mnx5kYV4",
        "outputId": "4f7ec691-2c3d-4977-e436-622d9e6ff637"
      },
      "execution_count": 24,
      "outputs": [
        {
          "output_type": "display_data",
          "data": {
            "text/plain": [
              "<Figure size 792x288 with 2 Axes>"
            ],
            "image/png": "[encoded data removed]"
          },
          "metadata": {
            "needs_background": "light"
          }
        }
      ]
    },
    {
      "cell_type": "markdown",
      "source": [
        "using ELU with tensorflow and keras"
      ],
      "metadata": {
        "id": "6MaIkLw5kcvp"
      }
    },
    {
      "cell_type": "code",
      "source": [
        "from tensorflow.keras.layers import Dense\n",
        "\n",
        "\n",
        "Dense(10, activation='elu')"
      ],
      "metadata": {
        "colab": {
          "base_uri": "https://localhost:8080/"
        },
        "id": "sqpjl476kg3B",
        "outputId": "33eae775-0871-4802-e9f0-b150ebf6f184"
      },
      "execution_count": 25,
      "outputs": [
        {
          "output_type": "execute_result",
          "data": {
            "text/plain": [
              "<keras.layers.core.dense.Dense at 0x7f6b5e91e5d0>"
            ]
          },
          "metadata": {},
          "execution_count": 25
        }
      ]
    },
    {
      "cell_type": "code",
      "source": [
        "import tensorflow as tf\n",
        "from tensorflow.keras.activations import elu\n",
        "\n",
        "z = tf.constant([-20, -1, 0, 1.2], dtype=tf.float32)\n",
        "output = elu(z, alpha=1)\n",
        "output.numpy()"
      ],
      "metadata": {
        "colab": {
          "base_uri": "https://localhost:8080/"
        },
        "id": "PuimQRFRkigZ",
        "outputId": "dddf6509-9dd1-42e8-c46d-c6301afcf843"
      },
      "execution_count": 26,
      "outputs": [
        {
          "output_type": "execute_result",
          "data": {
            "text/plain": [
              "array([-1.        , -0.63212055,  0.        ,  1.2       ], dtype=float32)"
            ]
          },
          "metadata": {},
          "execution_count": 26
        }
      ]
    },
    {
      "cell_type": "markdown",
      "source": [
        ""
      ],
      "metadata": {
        "id": "fIHJdR0FipFJ"
      }
    }
  ]
}