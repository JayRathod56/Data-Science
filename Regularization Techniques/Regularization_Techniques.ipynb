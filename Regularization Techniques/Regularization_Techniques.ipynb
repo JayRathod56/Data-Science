{
  "nbformat": 4,
  "nbformat_minor": 0,
  "metadata": {
    "colab": {
      "name": "Regularization Techniques.ipynb",
      "provenance": []
    },
    "kernelspec": {
      "name": "python3",
      "display_name": "Python 3"
    },
    "language_info": {
      "name": "python"
    },
    "accelerator": "GPU",
    "gpuClass": "standard"
  },
  "cells": [
    {
      "cell_type": "markdown",
      "source": [
        "## Regularization Techniques\n",
        "### L1\n",
        "### L2\n",
        "### Dropouts\n",
        "### Data Augmentation\n",
        "### Early Stopping\n"
      ],
      "metadata": {
        "id": "BnVCc2OfqrBA"
      }
    },
    {
      "cell_type": "code",
      "source": [
        "from keras.models import Sequential\n",
        "from keras.layers import Dense, Dropout, Flatten, Conv2D, MaxPool2D, ZeroPadding2D\n",
        "from tensorflow.keras.optimizers import Adam, SGD\n",
        "from keras.preprocessing.image import ImageDataGenerator\n",
        "from keras import regularizers\n",
        "from keras.utils.np_utils import to_categorical \n",
        "from keras.callbacks import EarlyStopping\n",
        "from keras.datasets import cifar10\n",
        "import matplotlib.pyplot as plt\n",
        "import tensorflow as tf\n",
        "\n",
        "print('Libraries Imported')"
      ],
      "metadata": {
        "colab": {
          "base_uri": "https://localhost:8080/"
        },
        "id": "hYVnSrveoCwo",
        "outputId": "81220582-ece2-4225-c400-5d485568b51c"
      },
      "execution_count": 21,
      "outputs": [
        {
          "output_type": "stream",
          "name": "stdout",
          "text": [
            "Libraries Imported\n"
          ]
        }
      ]
    },
    {
      "cell_type": "code",
      "source": [
        "(X_train, y_train), (X_test, y_test) = cifar10.load_data()"
      ],
      "metadata": {
        "colab": {
          "base_uri": "https://localhost:8080/"
        },
        "id": "qLWj8pMcoOvp",
        "outputId": "4a42d1cb-384a-4d27-bb83-7eec982103ac"
      },
      "execution_count": 2,
      "outputs": [
        {
          "output_type": "stream",
          "name": "stdout",
          "text": [
            "Downloading data from https://www.cs.toronto.edu/~kriz/cifar-10-python.tar.gz\n",
            "170500096/170498071 [==============================] - 14s 0us/step\n",
            "170508288/170498071 [==============================] - 14s 0us/step\n"
          ]
        }
      ]
    },
    {
      "cell_type": "code",
      "source": [
        "## Label Encoding\n",
        "# convert to one-hot-encoding\n",
        "y_train = to_categorical(y_train)\n",
        "y_test = to_categorical(y_test)\n",
        "print('Converted into one-hot-encoding')\n",
        "print('y_train shape: ', y_train.shape)\n",
        "print('y_test shape: ', y_test.shape)\n",
        "\n",
        "# As we see after one-hot-encoding the shape of our label changes to [num_of_rows, 10]\n",
        "# 10 because we have 10 categories i.e [airplane, automobile, bird, cat, deer, dog, frog, horse, ship, truck]"
      ],
      "metadata": {
        "colab": {
          "base_uri": "https://localhost:8080/"
        },
        "id": "nljBSSueoVRA",
        "outputId": "5dfe05b6-6d83-475f-b227-3d7cdc8a0165"
      },
      "execution_count": 3,
      "outputs": [
        {
          "output_type": "stream",
          "name": "stdout",
          "text": [
            "Converted into one-hot-encoding\n",
            "y_train shape:  (50000, 10)\n",
            "y_test shape:  (10000, 10)\n"
          ]
        }
      ]
    },
    {
      "cell_type": "code",
      "source": [
        "# Normalize the data\n",
        "X_train = X_train / 255.0\n",
        "X_test = X_test / 255.0\n",
        "\n",
        "print('X_train shape: ', X_train.shape)\n",
        "print('X_test shape: ', X_test.shape)\n",
        "\n",
        "# Here we are dividing our actual values from 255.0 so we get all the new values near to 1\n",
        "# Hence making calcualtions easy and fast"
      ],
      "metadata": {
        "colab": {
          "base_uri": "https://localhost:8080/"
        },
        "id": "kY6L7-EVoXf_",
        "outputId": "ff7dee58-e3d5-4756-b3a5-61c5a82d0efc"
      },
      "execution_count": 4,
      "outputs": [
        {
          "output_type": "stream",
          "name": "stdout",
          "text": [
            "X_train shape:  (50000, 32, 32, 3)\n",
            "X_test shape:  (10000, 32, 32, 3)\n"
          ]
        }
      ]
    },
    {
      "cell_type": "code",
      "source": [
        "callback = tf.keras.callbacks.EarlyStopping(monitor='accuracy', patience=5)"
      ],
      "metadata": {
        "id": "WOUWuOq3rWWX"
      },
      "execution_count": 5,
      "outputs": []
    },
    {
      "cell_type": "code",
      "source": [
        "model = Sequential()\n",
        "\n",
        "model.add(Conv2D(filters = 64, kernel_size = (3,3), activation = 'relu', input_shape = (32,32,3), padding='same'))\n",
        "model.add(MaxPool2D(pool_size=(3,3)))\n",
        "model.add(Dropout(0.25))\n",
        "\n",
        "\n",
        "model.add(Conv2D(filters = 128, kernel_size= (3,3), activation='relu', padding='same'))\n",
        "model.add(MaxPool2D(pool_size=(3,3)))\n",
        "model.add(Dropout(0.3))\n",
        "\n",
        "#fully connected\n",
        "model.add(Flatten(input_shape=(32,32,3)))\n",
        "model.add(Dense(4096, activation = 'relu', kernel_regularizer=regularizers.l2(0.01)))\n",
        "model.add(Dense(4096, activation = 'relu', kernel_regularizer=regularizers.l2(0.01)))\n",
        "# output layer, 10 because we have total 10 categories\n",
        "model.add(Dense(10, activation = 'softmax'))"
      ],
      "metadata": {
        "id": "aYiM60i2ocoX"
      },
      "execution_count": 31,
      "outputs": []
    },
    {
      "cell_type": "code",
      "source": [
        "# Define optimizer\n",
        "optimizer = Adam(learning_rate = 0.001)\n",
        "optimizer2 = SGD(learning_rate = 0.001, momentum=0.9, nesterov=True)"
      ],
      "metadata": {
        "id": "QaijURHCpXrT"
      },
      "execution_count": 23,
      "outputs": []
    },
    {
      "cell_type": "code",
      "source": [
        "# Compile the model\n",
        "model.compile(optimizer = optimizer2, loss = 'categorical_crossentropy', metrics=['accuracy'])"
      ],
      "metadata": {
        "id": "F_QzXqBkpYzY"
      },
      "execution_count": 32,
      "outputs": []
    },
    {
      "cell_type": "code",
      "source": [
        "epochs = 30 # for better result increase the epochs\n",
        "batch_size = 200"
      ],
      "metadata": {
        "id": "whnxe_QlpYjZ"
      },
      "execution_count": 25,
      "outputs": []
    },
    {
      "cell_type": "code",
      "source": [
        "datagen = ImageDataGenerator(\n",
        "    rotation_range= 5, # randomly rotate images in the range 5 degrees\n",
        "    zoom_range = 0.1, # Randomly zoom image 10%\n",
        "    width_shift_range=0.1, # randomly shift images horizontally 10%\n",
        "    height_shift_range=0.1, # randomly shift images vertically 10%\n",
        "    horizontal_flip = True,\n",
        "    vertical_flip = True\n",
        ")\n",
        "\n",
        "datagen.fit(X_train)"
      ],
      "metadata": {
        "id": "RwGK5wUUpYKR"
      },
      "execution_count": 26,
      "outputs": []
    },
    {
      "cell_type": "code",
      "source": [
        "history = model.fit(datagen.flow(X_train, y_train),\n",
        "                    epochs = epochs, validation_data = (X_test, y_test),\n",
        "                    steps_per_epoch=X_train.shape[0] // batch_size, callbacks = [callback])"
      ],
      "metadata": {
        "colab": {
          "base_uri": "https://localhost:8080/"
        },
        "id": "4eGNz6j1p2AA",
        "outputId": "cb3baea4-6e98-4b91-cb64-ea107e6ab839"
      },
      "execution_count": 33,
      "outputs": [
        {
          "output_type": "stream",
          "name": "stdout",
          "text": [
            "Epoch 1/30\n",
            "250/250 [==============================] - 8s 28ms/step - loss: 58.5506 - accuracy: 0.1072 - val_loss: 55.7672 - val_accuracy: 0.1476\n",
            "Epoch 2/30\n",
            "250/250 [==============================] - 6s 24ms/step - loss: 53.1777 - accuracy: 0.1349 - val_loss: 50.6422 - val_accuracy: 0.2256\n",
            "Epoch 3/30\n",
            "250/250 [==============================] - 7s 27ms/step - loss: 48.2847 - accuracy: 0.1795 - val_loss: 45.9546 - val_accuracy: 0.2243\n",
            "Epoch 4/30\n",
            "250/250 [==============================] - 6s 24ms/step - loss: 43.8092 - accuracy: 0.2105 - val_loss: 41.7020 - val_accuracy: 0.2413\n",
            "Epoch 5/30\n",
            "250/250 [==============================] - 6s 24ms/step - loss: 39.8105 - accuracy: 0.2098 - val_loss: 37.9107 - val_accuracy: 0.2353\n",
            "Epoch 6/30\n",
            "250/250 [==============================] - 6s 23ms/step - loss: 36.1880 - accuracy: 0.2251 - val_loss: 34.4753 - val_accuracy: 0.2427\n",
            "Epoch 7/30\n",
            "250/250 [==============================] - 6s 23ms/step - loss: 32.9344 - accuracy: 0.2330 - val_loss: 31.3748 - val_accuracy: 0.2516\n",
            "Epoch 8/30\n",
            "250/250 [==============================] - 6s 24ms/step - loss: 29.9856 - accuracy: 0.2465 - val_loss: 28.5629 - val_accuracy: 0.2549\n",
            "Epoch 9/30\n",
            "250/250 [==============================] - 6s 24ms/step - loss: 27.3094 - accuracy: 0.2510 - val_loss: 26.0196 - val_accuracy: 0.2591\n",
            "Epoch 10/30\n",
            "250/250 [==============================] - 6s 24ms/step - loss: 24.8723 - accuracy: 0.2531 - val_loss: 23.7056 - val_accuracy: 0.2690\n",
            "Epoch 11/30\n",
            "250/250 [==============================] - 6s 23ms/step - loss: 22.6817 - accuracy: 0.2655 - val_loss: 21.6088 - val_accuracy: 0.2834\n",
            "Epoch 12/30\n",
            "250/250 [==============================] - 7s 27ms/step - loss: 20.6878 - accuracy: 0.2809 - val_loss: 19.7127 - val_accuracy: 0.2980\n",
            "Epoch 13/30\n",
            "250/250 [==============================] - 6s 24ms/step - loss: 18.8752 - accuracy: 0.2914 - val_loss: 17.9781 - val_accuracy: 0.3235\n",
            "Epoch 14/30\n",
            "250/250 [==============================] - 6s 24ms/step - loss: 17.2365 - accuracy: 0.3056 - val_loss: 16.4316 - val_accuracy: 0.3129\n",
            "Epoch 15/30\n",
            "250/250 [==============================] - 6s 23ms/step - loss: 15.7616 - accuracy: 0.3075 - val_loss: 15.0231 - val_accuracy: 0.3308\n",
            "Epoch 16/30\n",
            "250/250 [==============================] - 6s 24ms/step - loss: 14.4294 - accuracy: 0.3058 - val_loss: 13.7387 - val_accuracy: 0.3412\n",
            "Epoch 17/30\n",
            "250/250 [==============================] - 6s 23ms/step - loss: 13.2307 - accuracy: 0.3211 - val_loss: 12.6011 - val_accuracy: 0.3383\n",
            "Epoch 18/30\n",
            "250/250 [==============================] - 7s 27ms/step - loss: 12.1236 - accuracy: 0.3151 - val_loss: 11.5636 - val_accuracy: 0.3597\n",
            "Epoch 19/30\n",
            "250/250 [==============================] - 6s 24ms/step - loss: 11.1524 - accuracy: 0.3284 - val_loss: 10.6585 - val_accuracy: 0.3439\n",
            "Epoch 20/30\n",
            "250/250 [==============================] - 6s 24ms/step - loss: 10.2455 - accuracy: 0.3280 - val_loss: 9.7677 - val_accuracy: 0.3508\n",
            "Epoch 21/30\n",
            "250/250 [==============================] - 6s 24ms/step - loss: 9.4381 - accuracy: 0.3376 - val_loss: 9.0089 - val_accuracy: 0.3616\n",
            "Epoch 22/30\n",
            "250/250 [==============================] - 6s 24ms/step - loss: 8.7054 - accuracy: 0.3392 - val_loss: 8.3008 - val_accuracy: 0.3680\n",
            "Epoch 23/30\n",
            "250/250 [==============================] - 6s 24ms/step - loss: 8.0381 - accuracy: 0.3476 - val_loss: 7.6821 - val_accuracy: 0.3740\n",
            "Epoch 24/30\n",
            "250/250 [==============================] - 6s 24ms/step - loss: 7.4365 - accuracy: 0.3487 - val_loss: 7.1017 - val_accuracy: 0.3766\n",
            "Epoch 25/30\n",
            "250/250 [==============================] - 6s 23ms/step - loss: 6.9032 - accuracy: 0.3466 - val_loss: 6.5784 - val_accuracy: 0.3761\n",
            "Epoch 26/30\n",
            "250/250 [==============================] - 6s 23ms/step - loss: 6.4057 - accuracy: 0.3618 - val_loss: 6.1114 - val_accuracy: 0.3944\n",
            "Epoch 27/30\n",
            "250/250 [==============================] - 6s 24ms/step - loss: 5.9635 - accuracy: 0.3590 - val_loss: 5.6821 - val_accuracy: 0.3923\n",
            "Epoch 28/30\n",
            "250/250 [==============================] - 6s 24ms/step - loss: 5.5670 - accuracy: 0.3584 - val_loss: 5.3110 - val_accuracy: 0.3842\n",
            "Epoch 29/30\n",
            "250/250 [==============================] - 6s 23ms/step - loss: 5.1868 - accuracy: 0.3632 - val_loss: 4.9620 - val_accuracy: 0.3902\n",
            "Epoch 30/30\n",
            "250/250 [==============================] - 6s 24ms/step - loss: 4.8441 - accuracy: 0.3720 - val_loss: 4.6418 - val_accuracy: 0.4003\n"
          ]
        }
      ]
    },
    {
      "cell_type": "code",
      "source": [
        "# Plot the loss and accuracy curves for training and validation\n",
        "plt.plot(history.history['val_loss'], color='b', label='validation loss')\n",
        "plt.title('Test Loss')\n",
        "plt.xlabel('Number of Epochs')\n",
        "plt.ylabel('Loss')\n",
        "plt.legend()\n",
        "plt.show()"
      ],
      "metadata": {
        "colab": {
          "base_uri": "https://localhost:8080/",
          "height": 295
        },
        "id": "iCDbWXuXqLti",
        "outputId": "9fd8034e-8f32-44c1-d9d9-bfaa01e71523"
      },
      "execution_count": 34,
      "outputs": [
        {
          "output_type": "display_data",
          "data": {
            "text/plain": [
              "<Figure size 432x288 with 1 Axes>"
            ],
            "image/png": "[encoded data removed]"
          },
          "metadata": {
            "needs_background": "light"
          }
        }
      ]
    },
    {
      "cell_type": "code",
      "source": [
        "# evaluate the model\n",
        "train_mse = model.evaluate(X_train, y_train, verbose=0)\n",
        "test_mse = model.evaluate(X_test, y_test, verbose=0)"
      ],
      "metadata": {
        "id": "wf9KTQrbqNau"
      },
      "execution_count": 35,
      "outputs": []
    },
    {
      "cell_type": "code",
      "source": [
        "print('Train loss : %.3f %% , Test loss : %.3f %%' % (train_mse[0]*100, test_mse[0]*100))\n",
        "print('Train accuracy : %.3f %% , Test accuracy : %.3f %%' % (train_mse[1]*100, test_mse[1]*100))"
      ],
      "metadata": {
        "colab": {
          "base_uri": "https://localhost:8080/"
        },
        "id": "SIt82HMkqOsH",
        "outputId": "84a965be-7064-49e3-cdb7-a9f51f7a6cd0"
      },
      "execution_count": 36,
      "outputs": [
        {
          "output_type": "stream",
          "name": "stdout",
          "text": [
            "Train loss : 464.959 % , Test loss : 464.178 %\n",
            "Train accuracy : 39.394 % , Test accuracy : 40.030 %\n"
          ]
        }
      ]
    }
  ]
}